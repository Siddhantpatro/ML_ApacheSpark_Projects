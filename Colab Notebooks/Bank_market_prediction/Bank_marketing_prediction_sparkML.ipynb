{
  "nbformat": 4,
  "nbformat_minor": 0,
  "metadata": {
    "colab": {
      "name": "Bank_marketing_prediction_sparkML.ipynb",
      "provenance": []
    },
    "kernelspec": {
      "name": "python3",
      "display_name": "Python 3"
    }
  },
  "cells": [
    {
      "cell_type": "code",
      "metadata": {
        "id": "5AAiH67utthx"
      },
      "source": [
        "# install Java8\r\n",
        "!apt-get install openjdk-8-jdk-headless -qq > /dev/null\r\n",
        "# download spark3.0.1\r\n",
        "!wget -q http://apache.osuosl.org/spark/spark-3.0.1/spark-3.0.1-bin-hadoop3.2.tgz\r\n",
        "# unzip it\r\n",
        "!tar xf spark-3.0.1-bin-hadoop3.2.tgz\r\n",
        "# install findspark \r\n",
        "!pip install -q findspark\r\n",
        "\r\n",
        "# environmental variable of java and spark was set\r\n",
        "import os\r\n",
        "os.environ[\"JAVA_HOME\"] = \"/usr/lib/jvm/java-8-openjdk-amd64\"\r\n",
        "os.environ[\"SPARK_HOME\"] = \"/content/spark-3.0.1-bin-hadoop3.2\"\r\n",
        "\r\n",
        "import findspark\r\n",
        "findspark.init()"
      ],
      "execution_count": 1,
      "outputs": []
    },
    {
      "cell_type": "code",
      "metadata": {
        "id": "2xkqOGd6t_dT"
      },
      "source": [
        "# Spark session\r\n",
        "\r\n",
        "from pyspark.sql import SparkSession\r\n",
        "spark = SparkSession.builder.appName('Heart_Disease_Prediction').getOrCreate()"
      ],
      "execution_count": 2,
      "outputs": []
    },
    {
      "cell_type": "code",
      "metadata": {
        "id": "s-_tuqOWvnFA"
      },
      "source": [
        "# For plotting\r\n",
        "import matplotlib.pyplot as plt\r\n",
        "\r\n",
        "# Feature extraction\r\n",
        "from pyspark.ml.linalg import Vectors\r\n",
        "from pyspark.ml.feature import StringIndexer, VectorAssembler, OneHotEncoder\r\n",
        "\r\n",
        "# Classification models\r\n",
        "from pyspark.ml.classification import LogisticRegression\r\n",
        "from pyspark.ml.classification import DecisionTreeClassifier\r\n",
        "\r\n",
        "# Classification evaluator\r\n",
        "from pyspark.ml.evaluation import MulticlassClassificationEvaluator\r\n",
        "\r\n",
        "# Importing function\r\n",
        "import pyspark.sql.functions as f"
      ],
      "execution_count": 3,
      "outputs": []
    },
    {
      "cell_type": "code",
      "metadata": {
        "colab": {
          "resources": {
            "http://localhost:8080/nbextensions/google.colab/files.js": {
              "data": "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",
              "ok": true,
              "headers": [
                [
                  "content-type",
                  "application/javascript"
                ]
              ],
              "status": 200,
              "status_text": ""
            }
          },
          "base_uri": "https://localhost:8080/",
          "height": 73
        },
        "id": "zolwDqIMwQQg",
        "outputId": "83aeb764-cae3-46e6-961f-69fd7e5aee7c"
      },
      "source": [
        "# Importing files from local disk\r\n",
        "\r\n",
        "from google.colab import files\r\n",
        "uploaded = files.upload()"
      ],
      "execution_count": 4,
      "outputs": [
        {
          "output_type": "display_data",
          "data": {
            "text/html": [
              "\n",
              "     <input type=\"file\" id=\"files-dc8901d3-9cf2-432e-8bdc-3de78f46c833\" name=\"files[]\" multiple disabled\n",
              "        style=\"border:none\" />\n",
              "     <output id=\"result-dc8901d3-9cf2-432e-8bdc-3de78f46c833\">\n",
              "      Upload widget is only available when the cell has been executed in the\n",
              "      current browser session. Please rerun this cell to enable.\n",
              "      </output>\n",
              "      <script src=\"/nbextensions/google.colab/files.js\"></script> "
            ],
            "text/plain": [
              "<IPython.core.display.HTML object>"
            ]
          },
          "metadata": {
            "tags": []
          }
        },
        {
          "output_type": "stream",
          "text": [
            "Saving bank.csv to bank (1).csv\n"
          ],
          "name": "stdout"
        }
      ]
    },
    {
      "cell_type": "code",
      "metadata": {
        "colab": {
          "base_uri": "https://localhost:8080/"
        },
        "id": "nUwfj57qwQaq",
        "outputId": "6dcc9241-14c4-47eb-ed19-7269f46caacb"
      },
      "source": [
        "# Bank Marketing dataset\r\n",
        "\r\n",
        "dataset = spark.read.csv(\"bank.csv\", inferSchema = True, header = True)\r\n",
        "dataset.show()"
      ],
      "execution_count": 5,
      "outputs": [
        {
          "output_type": "stream",
          "text": [
            "+---+-----------+--------+---------+-------+-------+-------+----+-------+---+-----+--------+--------+-----+--------+--------+-------+\n",
            "|age|        job| marital|education|default|balance|housing|loan|contact|day|month|duration|campaign|pdays|previous|poutcome|deposit|\n",
            "+---+-----------+--------+---------+-------+-------+-------+----+-------+---+-----+--------+--------+-----+--------+--------+-------+\n",
            "| 59|     admin.| married|secondary|     no|   2343|    yes|  no|unknown|  5|  may|    1042|       1|   -1|       0| unknown|    yes|\n",
            "| 56|     admin.| married|secondary|     no|     45|     no|  no|unknown|  5|  may|    1467|       1|   -1|       0| unknown|    yes|\n",
            "| 41| technician| married|secondary|     no|   1270|    yes|  no|unknown|  5|  may|    1389|       1|   -1|       0| unknown|    yes|\n",
            "| 55|   services| married|secondary|     no|   2476|    yes|  no|unknown|  5|  may|     579|       1|   -1|       0| unknown|    yes|\n",
            "| 54|     admin.| married| tertiary|     no|    184|     no|  no|unknown|  5|  may|     673|       2|   -1|       0| unknown|    yes|\n",
            "| 42| management|  single| tertiary|     no|      0|    yes| yes|unknown|  5|  may|     562|       2|   -1|       0| unknown|    yes|\n",
            "| 56| management| married| tertiary|     no|    830|    yes| yes|unknown|  6|  may|    1201|       1|   -1|       0| unknown|    yes|\n",
            "| 60|    retired|divorced|secondary|     no|    545|    yes|  no|unknown|  6|  may|    1030|       1|   -1|       0| unknown|    yes|\n",
            "| 37| technician| married|secondary|     no|      1|    yes|  no|unknown|  6|  may|     608|       1|   -1|       0| unknown|    yes|\n",
            "| 28|   services|  single|secondary|     no|   5090|    yes|  no|unknown|  6|  may|    1297|       3|   -1|       0| unknown|    yes|\n",
            "| 38|     admin.|  single|secondary|     no|    100|    yes|  no|unknown|  7|  may|     786|       1|   -1|       0| unknown|    yes|\n",
            "| 30|blue-collar| married|secondary|     no|    309|    yes|  no|unknown|  7|  may|    1574|       2|   -1|       0| unknown|    yes|\n",
            "| 29| management| married| tertiary|     no|    199|    yes| yes|unknown|  7|  may|    1689|       4|   -1|       0| unknown|    yes|\n",
            "| 46|blue-collar|  single| tertiary|     no|    460|    yes|  no|unknown|  7|  may|    1102|       2|   -1|       0| unknown|    yes|\n",
            "| 31| technician|  single| tertiary|     no|    703|    yes|  no|unknown|  8|  may|     943|       2|   -1|       0| unknown|    yes|\n",
            "| 35| management|divorced| tertiary|     no|   3837|    yes|  no|unknown|  8|  may|    1084|       1|   -1|       0| unknown|    yes|\n",
            "| 32|blue-collar|  single|  primary|     no|    611|    yes|  no|unknown|  8|  may|     541|       3|   -1|       0| unknown|    yes|\n",
            "| 49|   services| married|secondary|     no|     -8|    yes|  no|unknown|  8|  may|    1119|       1|   -1|       0| unknown|    yes|\n",
            "| 41|     admin.| married|secondary|     no|     55|    yes|  no|unknown|  8|  may|    1120|       2|   -1|       0| unknown|    yes|\n",
            "| 49|     admin.|divorced|secondary|     no|    168|    yes| yes|unknown|  8|  may|     513|       1|   -1|       0| unknown|    yes|\n",
            "+---+-----------+--------+---------+-------+-------+-------+----+-------+---+-----+--------+--------+-----+--------+--------+-------+\n",
            "only showing top 20 rows\n",
            "\n"
          ],
          "name": "stdout"
        }
      ]
    },
    {
      "cell_type": "code",
      "metadata": {
        "colab": {
          "base_uri": "https://localhost:8080/"
        },
        "id": "_wRd7pg1xFS5",
        "outputId": "2f191c1b-7eb2-44bb-8bf9-bac63abb4d6f"
      },
      "source": [
        "print((dataset.count(), len(dataset.columns)))"
      ],
      "execution_count": 6,
      "outputs": [
        {
          "output_type": "stream",
          "text": [
            "(11162, 17)\n"
          ],
          "name": "stdout"
        }
      ]
    },
    {
      "cell_type": "code",
      "metadata": {
        "colab": {
          "base_uri": "https://localhost:8080/"
        },
        "id": "LDUcIEMew6qx",
        "outputId": "84f586c3-56cd-4107-cae4-46d3b559f50f"
      },
      "source": [
        "dataset.printSchema()"
      ],
      "execution_count": 7,
      "outputs": [
        {
          "output_type": "stream",
          "text": [
            "root\n",
            " |-- age: integer (nullable = true)\n",
            " |-- job: string (nullable = true)\n",
            " |-- marital: string (nullable = true)\n",
            " |-- education: string (nullable = true)\n",
            " |-- default: string (nullable = true)\n",
            " |-- balance: integer (nullable = true)\n",
            " |-- housing: string (nullable = true)\n",
            " |-- loan: string (nullable = true)\n",
            " |-- contact: string (nullable = true)\n",
            " |-- day: integer (nullable = true)\n",
            " |-- month: string (nullable = true)\n",
            " |-- duration: integer (nullable = true)\n",
            " |-- campaign: integer (nullable = true)\n",
            " |-- pdays: integer (nullable = true)\n",
            " |-- previous: integer (nullable = true)\n",
            " |-- poutcome: string (nullable = true)\n",
            " |-- deposit: string (nullable = true)\n",
            "\n"
          ],
          "name": "stdout"
        }
      ]
    },
    {
      "cell_type": "code",
      "metadata": {
        "colab": {
          "base_uri": "https://localhost:8080/"
        },
        "id": "txzbvGEmwQeD",
        "outputId": "7806d4c4-442e-4e71-86e1-578242850832"
      },
      "source": [
        "dataset.describe().show()"
      ],
      "execution_count": 8,
      "outputs": [
        {
          "output_type": "stream",
          "text": [
            "+-------+------------------+-------+--------+---------+-------+------------------+-------+-----+--------+------------------+-----+------------------+------------------+------------------+------------------+--------+-------+\n",
            "|summary|               age|    job| marital|education|default|           balance|housing| loan| contact|               day|month|          duration|          campaign|             pdays|          previous|poutcome|deposit|\n",
            "+-------+------------------+-------+--------+---------+-------+------------------+-------+-----+--------+------------------+-----+------------------+------------------+------------------+------------------+--------+-------+\n",
            "|  count|             11162|  11162|   11162|    11162|  11162|             11162|  11162|11162|   11162|             11162|11162|             11162|             11162|             11162|             11162|   11162|  11162|\n",
            "|   mean|41.231947679627304|   null|    null|     null|   null|1528.5385235620856|   null| null|    null|15.658036194230425| null|371.99381831213043| 2.508421429851281| 51.33040673714388|0.8325568894463358|    null|   null|\n",
            "| stddev|11.913369192215518|   null|    null|     null|   null| 3225.413325946149|   null| null|    null| 8.420739541006462| null|347.12838571630687|2.7220771816614824|108.75828197197717| 2.292007218670508|    null|   null|\n",
            "|    min|                18| admin.|divorced|  primary|     no|             -6847|     no|   no|cellular|                 1|  apr|                 2|                 1|                -1|                 0| failure|     no|\n",
            "|    max|                95|unknown|  single|  unknown|    yes|             81204|    yes|  yes| unknown|                31|  sep|              3881|                63|               854|                58| unknown|    yes|\n",
            "+-------+------------------+-------+--------+---------+-------+------------------+-------+-----+--------+------------------+-----+------------------+------------------+------------------+------------------+--------+-------+\n",
            "\n"
          ],
          "name": "stdout"
        }
      ]
    },
    {
      "cell_type": "code",
      "metadata": {
        "colab": {
          "base_uri": "https://localhost:8080/"
        },
        "id": "bqY_wkzqwve9",
        "outputId": "6ff42f85-f3ff-4b4b-97f9-86344e5d660e"
      },
      "source": [
        "dataset.dtypes"
      ],
      "execution_count": 9,
      "outputs": [
        {
          "output_type": "execute_result",
          "data": {
            "text/plain": [
              "[('age', 'int'),\n",
              " ('job', 'string'),\n",
              " ('marital', 'string'),\n",
              " ('education', 'string'),\n",
              " ('default', 'string'),\n",
              " ('balance', 'int'),\n",
              " ('housing', 'string'),\n",
              " ('loan', 'string'),\n",
              " ('contact', 'string'),\n",
              " ('day', 'int'),\n",
              " ('month', 'string'),\n",
              " ('duration', 'int'),\n",
              " ('campaign', 'int'),\n",
              " ('pdays', 'int'),\n",
              " ('previous', 'int'),\n",
              " ('poutcome', 'string'),\n",
              " ('deposit', 'string')]"
            ]
          },
          "metadata": {
            "tags": []
          },
          "execution_count": 9
        }
      ]
    },
    {
      "cell_type": "code",
      "metadata": {
        "colab": {
          "base_uri": "https://localhost:8080/"
        },
        "id": "yZAwXbwhyVeo",
        "outputId": "3ca64767-6655-4497-f607-cd78d27d580e"
      },
      "source": [
        "my_data = dataset.drop(*['contact', 'day', 'month', 'default'])\r\n",
        "my_data.show()"
      ],
      "execution_count": 10,
      "outputs": [
        {
          "output_type": "stream",
          "text": [
            "+---+-----------+--------+---------+-------+-------+----+--------+--------+-----+--------+--------+-------+\n",
            "|age|        job| marital|education|balance|housing|loan|duration|campaign|pdays|previous|poutcome|deposit|\n",
            "+---+-----------+--------+---------+-------+-------+----+--------+--------+-----+--------+--------+-------+\n",
            "| 59|     admin.| married|secondary|   2343|    yes|  no|    1042|       1|   -1|       0| unknown|    yes|\n",
            "| 56|     admin.| married|secondary|     45|     no|  no|    1467|       1|   -1|       0| unknown|    yes|\n",
            "| 41| technician| married|secondary|   1270|    yes|  no|    1389|       1|   -1|       0| unknown|    yes|\n",
            "| 55|   services| married|secondary|   2476|    yes|  no|     579|       1|   -1|       0| unknown|    yes|\n",
            "| 54|     admin.| married| tertiary|    184|     no|  no|     673|       2|   -1|       0| unknown|    yes|\n",
            "| 42| management|  single| tertiary|      0|    yes| yes|     562|       2|   -1|       0| unknown|    yes|\n",
            "| 56| management| married| tertiary|    830|    yes| yes|    1201|       1|   -1|       0| unknown|    yes|\n",
            "| 60|    retired|divorced|secondary|    545|    yes|  no|    1030|       1|   -1|       0| unknown|    yes|\n",
            "| 37| technician| married|secondary|      1|    yes|  no|     608|       1|   -1|       0| unknown|    yes|\n",
            "| 28|   services|  single|secondary|   5090|    yes|  no|    1297|       3|   -1|       0| unknown|    yes|\n",
            "| 38|     admin.|  single|secondary|    100|    yes|  no|     786|       1|   -1|       0| unknown|    yes|\n",
            "| 30|blue-collar| married|secondary|    309|    yes|  no|    1574|       2|   -1|       0| unknown|    yes|\n",
            "| 29| management| married| tertiary|    199|    yes| yes|    1689|       4|   -1|       0| unknown|    yes|\n",
            "| 46|blue-collar|  single| tertiary|    460|    yes|  no|    1102|       2|   -1|       0| unknown|    yes|\n",
            "| 31| technician|  single| tertiary|    703|    yes|  no|     943|       2|   -1|       0| unknown|    yes|\n",
            "| 35| management|divorced| tertiary|   3837|    yes|  no|    1084|       1|   -1|       0| unknown|    yes|\n",
            "| 32|blue-collar|  single|  primary|    611|    yes|  no|     541|       3|   -1|       0| unknown|    yes|\n",
            "| 49|   services| married|secondary|     -8|    yes|  no|    1119|       1|   -1|       0| unknown|    yes|\n",
            "| 41|     admin.| married|secondary|     55|    yes|  no|    1120|       2|   -1|       0| unknown|    yes|\n",
            "| 49|     admin.|divorced|secondary|    168|    yes| yes|     513|       1|   -1|       0| unknown|    yes|\n",
            "+---+-----------+--------+---------+-------+-------+----+--------+--------+-----+--------+--------+-------+\n",
            "only showing top 20 rows\n",
            "\n"
          ],
          "name": "stdout"
        }
      ]
    },
    {
      "cell_type": "code",
      "metadata": {
        "colab": {
          "base_uri": "https://localhost:8080/"
        },
        "id": "CkmT6dkiysLD",
        "outputId": "c068193b-b981-4f19-ec70-d256bd5a8817"
      },
      "source": [
        "my_data.describe().show()"
      ],
      "execution_count": 11,
      "outputs": [
        {
          "output_type": "stream",
          "text": [
            "+-------+------------------+-------+--------+---------+------------------+-------+-----+------------------+------------------+------------------+------------------+--------+-------+\n",
            "|summary|               age|    job| marital|education|           balance|housing| loan|          duration|          campaign|             pdays|          previous|poutcome|deposit|\n",
            "+-------+------------------+-------+--------+---------+------------------+-------+-----+------------------+------------------+------------------+------------------+--------+-------+\n",
            "|  count|             11162|  11162|   11162|    11162|             11162|  11162|11162|             11162|             11162|             11162|             11162|   11162|  11162|\n",
            "|   mean|41.231947679627304|   null|    null|     null|1528.5385235620856|   null| null|371.99381831213043| 2.508421429851281| 51.33040673714388|0.8325568894463358|    null|   null|\n",
            "| stddev|11.913369192215518|   null|    null|     null| 3225.413325946149|   null| null|347.12838571630687|2.7220771816614824|108.75828197197717| 2.292007218670508|    null|   null|\n",
            "|    min|                18| admin.|divorced|  primary|             -6847|     no|   no|                 2|                 1|                -1|                 0| failure|     no|\n",
            "|    max|                95|unknown|  single|  unknown|             81204|    yes|  yes|              3881|                63|               854|                58| unknown|    yes|\n",
            "+-------+------------------+-------+--------+---------+------------------+-------+-----+------------------+------------------+------------------+------------------+--------+-------+\n",
            "\n"
          ],
          "name": "stdout"
        }
      ]
    },
    {
      "cell_type": "code",
      "metadata": {
        "id": "50DDNt7lwBKG"
      },
      "source": [
        ""
      ],
      "execution_count": null,
      "outputs": []
    },
    {
      "cell_type": "markdown",
      "metadata": {
        "id": "ah-J5FFDv5J9"
      },
      "source": [
        "**To know whether there is any null value or not.**"
      ]
    },
    {
      "cell_type": "code",
      "metadata": {
        "colab": {
          "base_uri": "https://localhost:8080/"
        },
        "id": "9bl8QC5Ey23w",
        "outputId": "5a056edc-012f-424b-b1c1-977506c719d9"
      },
      "source": [
        "data_agg = my_data.agg(*[f.count(f.when(f.isnull(col), col)).alias(col) for col in my_data.columns])\r\n",
        "data_agg.show()"
      ],
      "execution_count": 12,
      "outputs": [
        {
          "output_type": "stream",
          "text": [
            "+---+---+-------+---------+-------+-------+----+--------+--------+-----+--------+--------+-------+\n",
            "|age|job|marital|education|balance|housing|loan|duration|campaign|pdays|previous|poutcome|deposit|\n",
            "+---+---+-------+---------+-------+-------+----+--------+--------+-----+--------+--------+-------+\n",
            "|  0|  0|      0|        0|      0|      0|   0|       0|       0|    0|       0|       0|      0|\n",
            "+---+---+-------+---------+-------+-------+----+--------+--------+-----+--------+--------+-------+\n",
            "\n"
          ],
          "name": "stdout"
        }
      ]
    },
    {
      "cell_type": "markdown",
      "metadata": {
        "id": "RAu_U6KyvqpS"
      },
      "source": [
        "**Some visualizations showing the relationship between job, duration and deposit.**"
      ]
    },
    {
      "cell_type": "code",
      "metadata": {
        "colab": {
          "base_uri": "https://localhost:8080/",
          "height": 265
        },
        "id": "CQblwjEPp1NW",
        "outputId": "30a4a56d-aad7-4a49-bd96-814fde9be107"
      },
      "source": [
        "x_axis = my_data.toPandas()['deposit'].values.tolist()\r\n",
        "y_axis = my_data.toPandas()['job'].values.tolist()\r\n",
        "\r\n",
        "plt.bar(x_axis, y_axis)\r\n",
        "plt.show()"
      ],
      "execution_count": 70,
      "outputs": [
        {
          "output_type": "display_data",
          "data": {
            "image/png": "[encoded data removed]",
            "text/plain": [
              "<Figure size 432x288 with 1 Axes>"
            ]
          },
          "metadata": {
            "tags": [],
            "needs_background": "light"
          }
        }
      ]
    },
    {
      "cell_type": "code",
      "metadata": {
        "colab": {
          "base_uri": "https://localhost:8080/",
          "height": 265
        },
        "id": "wxcrkA8kp1QW",
        "outputId": "a878cba7-7d66-4e39-e859-19b4614c7cb7"
      },
      "source": [
        "x_axis = my_data.toPandas()['deposit'].values.tolist()\r\n",
        "y_axis = my_data.toPandas()['duration'].values.tolist()\r\n",
        "\r\n",
        "plt.bar(x_axis, y_axis)\r\n",
        "plt.show()"
      ],
      "execution_count": 73,
      "outputs": [
        {
          "output_type": "display_data",
          "data": {
            "image/png": "[encoded data removed]",
            "text/plain": [
              "<Figure size 432x288 with 1 Axes>"
            ]
          },
          "metadata": {
            "tags": [],
            "needs_background": "light"
          }
        }
      ]
    },
    {
      "cell_type": "code",
      "metadata": {
        "colab": {
          "base_uri": "https://localhost:8080/"
        },
        "id": "H9bhM35w3mR7",
        "outputId": "54e1c30c-072d-47be-831f-75cc1ca0367d"
      },
      "source": [
        "accept = ['job', 'marital', 'education', 'loan', 'poutcome', 'deposit']\r\n",
        "for i in accept:\r\n",
        "  print(my_data.groupBy(i).count().show())"
      ],
      "execution_count": 13,
      "outputs": [
        {
          "output_type": "stream",
          "text": [
            "+-------------+-----+\n",
            "|          job|count|\n",
            "+-------------+-----+\n",
            "|   management| 2566|\n",
            "|      retired|  778|\n",
            "|      unknown|   70|\n",
            "|self-employed|  405|\n",
            "|      student|  360|\n",
            "|  blue-collar| 1944|\n",
            "| entrepreneur|  328|\n",
            "|       admin.| 1334|\n",
            "|   technician| 1823|\n",
            "|     services|  923|\n",
            "|    housemaid|  274|\n",
            "|   unemployed|  357|\n",
            "+-------------+-----+\n",
            "\n",
            "None\n",
            "+--------+-----+\n",
            "| marital|count|\n",
            "+--------+-----+\n",
            "|divorced| 1293|\n",
            "| married| 6351|\n",
            "|  single| 3518|\n",
            "+--------+-----+\n",
            "\n",
            "None\n",
            "+---------+-----+\n",
            "|education|count|\n",
            "+---------+-----+\n",
            "|  unknown|  497|\n",
            "| tertiary| 3689|\n",
            "|secondary| 5476|\n",
            "|  primary| 1500|\n",
            "+---------+-----+\n",
            "\n",
            "None\n",
            "+----+-----+\n",
            "|loan|count|\n",
            "+----+-----+\n",
            "|  no| 9702|\n",
            "| yes| 1460|\n",
            "+----+-----+\n",
            "\n",
            "None\n",
            "+--------+-----+\n",
            "|poutcome|count|\n",
            "+--------+-----+\n",
            "| success| 1071|\n",
            "| unknown| 8326|\n",
            "|   other|  537|\n",
            "| failure| 1228|\n",
            "+--------+-----+\n",
            "\n",
            "None\n",
            "+-------+-----+\n",
            "|deposit|count|\n",
            "+-------+-----+\n",
            "|     no| 5873|\n",
            "|    yes| 5289|\n",
            "+-------+-----+\n",
            "\n",
            "None\n"
          ],
          "name": "stdout"
        }
      ]
    },
    {
      "cell_type": "code",
      "metadata": {
        "colab": {
          "base_uri": "https://localhost:8080/"
        },
        "id": "IJ8cpfxm1QDM",
        "outputId": "f8accad8-93c9-4c02-84f2-9fc1885decb2"
      },
      "source": [
        "my_data.dtypes"
      ],
      "execution_count": 14,
      "outputs": [
        {
          "output_type": "execute_result",
          "data": {
            "text/plain": [
              "[('age', 'int'),\n",
              " ('job', 'string'),\n",
              " ('marital', 'string'),\n",
              " ('education', 'string'),\n",
              " ('balance', 'int'),\n",
              " ('housing', 'string'),\n",
              " ('loan', 'string'),\n",
              " ('duration', 'int'),\n",
              " ('campaign', 'int'),\n",
              " ('pdays', 'int'),\n",
              " ('previous', 'int'),\n",
              " ('poutcome', 'string'),\n",
              " ('deposit', 'string')]"
            ]
          },
          "metadata": {
            "tags": []
          },
          "execution_count": 14
        }
      ]
    },
    {
      "cell_type": "code",
      "metadata": {
        "colab": {
          "base_uri": "https://localhost:8080/"
        },
        "id": "y8rcKaoWN0zy",
        "outputId": "1cf824d1-b08b-4ed1-895c-3544e0937b72"
      },
      "source": [
        "categoricalColumns = [item[0] for item in my_data.dtypes if item[1].startswith('string')]\r\n",
        "categoricalColumns"
      ],
      "execution_count": 15,
      "outputs": [
        {
          "output_type": "execute_result",
          "data": {
            "text/plain": [
              "['job', 'marital', 'education', 'housing', 'loan', 'poutcome', 'deposit']"
            ]
          },
          "metadata": {
            "tags": []
          },
          "execution_count": 15
        }
      ]
    },
    {
      "cell_type": "code",
      "metadata": {
        "id": "q1D-HlRgvoDW"
      },
      "source": [
        ""
      ],
      "execution_count": null,
      "outputs": []
    },
    {
      "cell_type": "markdown",
      "metadata": {
        "id": "uV8PCOmzvkIO"
      },
      "source": [
        "**String Indexer method.**"
      ]
    },
    {
      "cell_type": "code",
      "metadata": {
        "colab": {
          "base_uri": "https://localhost:8080/"
        },
        "id": "yHFfFhp7LlAT",
        "outputId": "5de75cf9-606e-463e-89b8-a940e9d99fe8"
      },
      "source": [
        "indexed = StringIndexer(inputCols = ['job', 'marital', 'education', 'housing', 'loan', 'poutcome', 'deposit'],\r\n",
        "                        outputCols = ['job_index', 'marital_index', 'education_index', 'housing_index', 'loan_index', 'poutcome_index', 'deposit_index'])\r\n",
        "my_data = indexed.fit(my_data).transform(my_data)\r\n",
        "my_data.show()\r\n"
      ],
      "execution_count": 16,
      "outputs": [
        {
          "output_type": "stream",
          "text": [
            "+---+-----------+--------+---------+-------+-------+----+--------+--------+-----+--------+--------+-------+--------------+-------------+----------+-------------+-------------+---------------+---------+\n",
            "|age|        job| marital|education|balance|housing|loan|duration|campaign|pdays|previous|poutcome|deposit|poutcome_index|deposit_index|loan_index|housing_index|marital_index|education_index|job_index|\n",
            "+---+-----------+--------+---------+-------+-------+----+--------+--------+-----+--------+--------+-------+--------------+-------------+----------+-------------+-------------+---------------+---------+\n",
            "| 59|     admin.| married|secondary|   2343|    yes|  no|    1042|       1|   -1|       0| unknown|    yes|           0.0|          1.0|       0.0|          1.0|          0.0|            0.0|      3.0|\n",
            "| 56|     admin.| married|secondary|     45|     no|  no|    1467|       1|   -1|       0| unknown|    yes|           0.0|          1.0|       0.0|          0.0|          0.0|            0.0|      3.0|\n",
            "| 41| technician| married|secondary|   1270|    yes|  no|    1389|       1|   -1|       0| unknown|    yes|           0.0|          1.0|       0.0|          1.0|          0.0|            0.0|      2.0|\n",
            "| 55|   services| married|secondary|   2476|    yes|  no|     579|       1|   -1|       0| unknown|    yes|           0.0|          1.0|       0.0|          1.0|          0.0|            0.0|      4.0|\n",
            "| 54|     admin.| married| tertiary|    184|     no|  no|     673|       2|   -1|       0| unknown|    yes|           0.0|          1.0|       0.0|          0.0|          0.0|            1.0|      3.0|\n",
            "| 42| management|  single| tertiary|      0|    yes| yes|     562|       2|   -1|       0| unknown|    yes|           0.0|          1.0|       1.0|          1.0|          1.0|            1.0|      0.0|\n",
            "| 56| management| married| tertiary|    830|    yes| yes|    1201|       1|   -1|       0| unknown|    yes|           0.0|          1.0|       1.0|          1.0|          0.0|            1.0|      0.0|\n",
            "| 60|    retired|divorced|secondary|    545|    yes|  no|    1030|       1|   -1|       0| unknown|    yes|           0.0|          1.0|       0.0|          1.0|          2.0|            0.0|      5.0|\n",
            "| 37| technician| married|secondary|      1|    yes|  no|     608|       1|   -1|       0| unknown|    yes|           0.0|          1.0|       0.0|          1.0|          0.0|            0.0|      2.0|\n",
            "| 28|   services|  single|secondary|   5090|    yes|  no|    1297|       3|   -1|       0| unknown|    yes|           0.0|          1.0|       0.0|          1.0|          1.0|            0.0|      4.0|\n",
            "| 38|     admin.|  single|secondary|    100|    yes|  no|     786|       1|   -1|       0| unknown|    yes|           0.0|          1.0|       0.0|          1.0|          1.0|            0.0|      3.0|\n",
            "| 30|blue-collar| married|secondary|    309|    yes|  no|    1574|       2|   -1|       0| unknown|    yes|           0.0|          1.0|       0.0|          1.0|          0.0|            0.0|      1.0|\n",
            "| 29| management| married| tertiary|    199|    yes| yes|    1689|       4|   -1|       0| unknown|    yes|           0.0|          1.0|       1.0|          1.0|          0.0|            1.0|      0.0|\n",
            "| 46|blue-collar|  single| tertiary|    460|    yes|  no|    1102|       2|   -1|       0| unknown|    yes|           0.0|          1.0|       0.0|          1.0|          1.0|            1.0|      1.0|\n",
            "| 31| technician|  single| tertiary|    703|    yes|  no|     943|       2|   -1|       0| unknown|    yes|           0.0|          1.0|       0.0|          1.0|          1.0|            1.0|      2.0|\n",
            "| 35| management|divorced| tertiary|   3837|    yes|  no|    1084|       1|   -1|       0| unknown|    yes|           0.0|          1.0|       0.0|          1.0|          2.0|            1.0|      0.0|\n",
            "| 32|blue-collar|  single|  primary|    611|    yes|  no|     541|       3|   -1|       0| unknown|    yes|           0.0|          1.0|       0.0|          1.0|          1.0|            2.0|      1.0|\n",
            "| 49|   services| married|secondary|     -8|    yes|  no|    1119|       1|   -1|       0| unknown|    yes|           0.0|          1.0|       0.0|          1.0|          0.0|            0.0|      4.0|\n",
            "| 41|     admin.| married|secondary|     55|    yes|  no|    1120|       2|   -1|       0| unknown|    yes|           0.0|          1.0|       0.0|          1.0|          0.0|            0.0|      3.0|\n",
            "| 49|     admin.|divorced|secondary|    168|    yes| yes|     513|       1|   -1|       0| unknown|    yes|           0.0|          1.0|       1.0|          1.0|          2.0|            0.0|      3.0|\n",
            "+---+-----------+--------+---------+-------+-------+----+--------+--------+-----+--------+--------+-------+--------------+-------------+----------+-------------+-------------+---------------+---------+\n",
            "only showing top 20 rows\n",
            "\n"
          ],
          "name": "stdout"
        }
      ]
    },
    {
      "cell_type": "code",
      "metadata": {
        "colab": {
          "base_uri": "https://localhost:8080/"
        },
        "id": "nK3Y05ACTUaS",
        "outputId": "b3d06edf-7b98-4745-9940-b254a5d18663"
      },
      "source": [
        "my_data.select('job','job_index',\r\n",
        "               'marital','marital_index',\r\n",
        "               'education','education_index',\r\n",
        "               'housing','housing_index',\r\n",
        "               'loan','loan_index',\r\n",
        "               'poutcome','poutcome_index',\r\n",
        "               'deposit','deposit_index').show()"
      ],
      "execution_count": 17,
      "outputs": [
        {
          "output_type": "stream",
          "text": [
            "+-----------+---------+--------+-------------+---------+---------------+-------+-------------+----+----------+--------+--------------+-------+-------------+\n",
            "|        job|job_index| marital|marital_index|education|education_index|housing|housing_index|loan|loan_index|poutcome|poutcome_index|deposit|deposit_index|\n",
            "+-----------+---------+--------+-------------+---------+---------------+-------+-------------+----+----------+--------+--------------+-------+-------------+\n",
            "|     admin.|      3.0| married|          0.0|secondary|            0.0|    yes|          1.0|  no|       0.0| unknown|           0.0|    yes|          1.0|\n",
            "|     admin.|      3.0| married|          0.0|secondary|            0.0|     no|          0.0|  no|       0.0| unknown|           0.0|    yes|          1.0|\n",
            "| technician|      2.0| married|          0.0|secondary|            0.0|    yes|          1.0|  no|       0.0| unknown|           0.0|    yes|          1.0|\n",
            "|   services|      4.0| married|          0.0|secondary|            0.0|    yes|          1.0|  no|       0.0| unknown|           0.0|    yes|          1.0|\n",
            "|     admin.|      3.0| married|          0.0| tertiary|            1.0|     no|          0.0|  no|       0.0| unknown|           0.0|    yes|          1.0|\n",
            "| management|      0.0|  single|          1.0| tertiary|            1.0|    yes|          1.0| yes|       1.0| unknown|           0.0|    yes|          1.0|\n",
            "| management|      0.0| married|          0.0| tertiary|            1.0|    yes|          1.0| yes|       1.0| unknown|           0.0|    yes|          1.0|\n",
            "|    retired|      5.0|divorced|          2.0|secondary|            0.0|    yes|          1.0|  no|       0.0| unknown|           0.0|    yes|          1.0|\n",
            "| technician|      2.0| married|          0.0|secondary|            0.0|    yes|          1.0|  no|       0.0| unknown|           0.0|    yes|          1.0|\n",
            "|   services|      4.0|  single|          1.0|secondary|            0.0|    yes|          1.0|  no|       0.0| unknown|           0.0|    yes|          1.0|\n",
            "|     admin.|      3.0|  single|          1.0|secondary|            0.0|    yes|          1.0|  no|       0.0| unknown|           0.0|    yes|          1.0|\n",
            "|blue-collar|      1.0| married|          0.0|secondary|            0.0|    yes|          1.0|  no|       0.0| unknown|           0.0|    yes|          1.0|\n",
            "| management|      0.0| married|          0.0| tertiary|            1.0|    yes|          1.0| yes|       1.0| unknown|           0.0|    yes|          1.0|\n",
            "|blue-collar|      1.0|  single|          1.0| tertiary|            1.0|    yes|          1.0|  no|       0.0| unknown|           0.0|    yes|          1.0|\n",
            "| technician|      2.0|  single|          1.0| tertiary|            1.0|    yes|          1.0|  no|       0.0| unknown|           0.0|    yes|          1.0|\n",
            "| management|      0.0|divorced|          2.0| tertiary|            1.0|    yes|          1.0|  no|       0.0| unknown|           0.0|    yes|          1.0|\n",
            "|blue-collar|      1.0|  single|          1.0|  primary|            2.0|    yes|          1.0|  no|       0.0| unknown|           0.0|    yes|          1.0|\n",
            "|   services|      4.0| married|          0.0|secondary|            0.0|    yes|          1.0|  no|       0.0| unknown|           0.0|    yes|          1.0|\n",
            "|     admin.|      3.0| married|          0.0|secondary|            0.0|    yes|          1.0|  no|       0.0| unknown|           0.0|    yes|          1.0|\n",
            "|     admin.|      3.0|divorced|          2.0|secondary|            0.0|    yes|          1.0| yes|       1.0| unknown|           0.0|    yes|          1.0|\n",
            "+-----------+---------+--------+-------------+---------+---------------+-------+-------------+----+----------+--------+--------------+-------+-------------+\n",
            "only showing top 20 rows\n",
            "\n"
          ],
          "name": "stdout"
        }
      ]
    },
    {
      "cell_type": "markdown",
      "metadata": {
        "id": "JC20TlnWvdDB"
      },
      "source": [
        "**One Hot Encoder method.**"
      ]
    },
    {
      "cell_type": "code",
      "metadata": {
        "colab": {
          "base_uri": "https://localhost:8080/"
        },
        "id": "0PFbRFe-V1M2",
        "outputId": "dfd78d56-7f17-4312-e3d5-8b7fc3a340e3"
      },
      "source": [
        "OHE = OneHotEncoder(inputCols = ['job_index', 'marital_index', 'education_index', 'housing_index', 'loan_index', 'poutcome_index', 'deposit_index'],\r\n",
        "                    outputCols = ['job_ohe', 'marital_ohe', 'education_ohe', 'housing_ohe', 'loan_ohe', 'poutcome_ohe', 'deposit_ohe'])\r\n",
        "my_data = OHE.fit(my_data).transform(my_data)\r\n",
        "\r\n",
        "my_data.select('job', 'job_index', 'job_ohe',\r\n",
        "               'marital','marital_index','marital_ohe',\r\n",
        "               'education','education_index','education_ohe',\r\n",
        "               'housing','housing_index','housing_ohe',\r\n",
        "               'loan','loan_index','loan_ohe',\r\n",
        "               'poutcome','poutcome_index','poutcome_ohe',\r\n",
        "               'deposit','deposit_index','deposit_ohe').show()"
      ],
      "execution_count": 18,
      "outputs": [
        {
          "output_type": "stream",
          "text": [
            "+-----------+---------+--------------+--------+-------------+-------------+---------+---------------+-------------+-------+-------------+-------------+----+----------+-------------+--------+--------------+-------------+-------+-------------+-----------+\n",
            "|        job|job_index|       job_ohe| marital|marital_index|  marital_ohe|education|education_index|education_ohe|housing|housing_index|  housing_ohe|loan|loan_index|     loan_ohe|poutcome|poutcome_index| poutcome_ohe|deposit|deposit_index|deposit_ohe|\n",
            "+-----------+---------+--------------+--------+-------------+-------------+---------+---------------+-------------+-------+-------------+-------------+----+----------+-------------+--------+--------------+-------------+-------+-------------+-----------+\n",
            "|     admin.|      3.0|(11,[3],[1.0])| married|          0.0|(2,[0],[1.0])|secondary|            0.0|(3,[0],[1.0])|    yes|          1.0|    (1,[],[])|  no|       0.0|(1,[0],[1.0])| unknown|           0.0|(3,[0],[1.0])|    yes|          1.0|  (1,[],[])|\n",
            "|     admin.|      3.0|(11,[3],[1.0])| married|          0.0|(2,[0],[1.0])|secondary|            0.0|(3,[0],[1.0])|     no|          0.0|(1,[0],[1.0])|  no|       0.0|(1,[0],[1.0])| unknown|           0.0|(3,[0],[1.0])|    yes|          1.0|  (1,[],[])|\n",
            "| technician|      2.0|(11,[2],[1.0])| married|          0.0|(2,[0],[1.0])|secondary|            0.0|(3,[0],[1.0])|    yes|          1.0|    (1,[],[])|  no|       0.0|(1,[0],[1.0])| unknown|           0.0|(3,[0],[1.0])|    yes|          1.0|  (1,[],[])|\n",
            "|   services|      4.0|(11,[4],[1.0])| married|          0.0|(2,[0],[1.0])|secondary|            0.0|(3,[0],[1.0])|    yes|          1.0|    (1,[],[])|  no|       0.0|(1,[0],[1.0])| unknown|           0.0|(3,[0],[1.0])|    yes|          1.0|  (1,[],[])|\n",
            "|     admin.|      3.0|(11,[3],[1.0])| married|          0.0|(2,[0],[1.0])| tertiary|            1.0|(3,[1],[1.0])|     no|          0.0|(1,[0],[1.0])|  no|       0.0|(1,[0],[1.0])| unknown|           0.0|(3,[0],[1.0])|    yes|          1.0|  (1,[],[])|\n",
            "| management|      0.0|(11,[0],[1.0])|  single|          1.0|(2,[1],[1.0])| tertiary|            1.0|(3,[1],[1.0])|    yes|          1.0|    (1,[],[])| yes|       1.0|    (1,[],[])| unknown|           0.0|(3,[0],[1.0])|    yes|          1.0|  (1,[],[])|\n",
            "| management|      0.0|(11,[0],[1.0])| married|          0.0|(2,[0],[1.0])| tertiary|            1.0|(3,[1],[1.0])|    yes|          1.0|    (1,[],[])| yes|       1.0|    (1,[],[])| unknown|           0.0|(3,[0],[1.0])|    yes|          1.0|  (1,[],[])|\n",
            "|    retired|      5.0|(11,[5],[1.0])|divorced|          2.0|    (2,[],[])|secondary|            0.0|(3,[0],[1.0])|    yes|          1.0|    (1,[],[])|  no|       0.0|(1,[0],[1.0])| unknown|           0.0|(3,[0],[1.0])|    yes|          1.0|  (1,[],[])|\n",
            "| technician|      2.0|(11,[2],[1.0])| married|          0.0|(2,[0],[1.0])|secondary|            0.0|(3,[0],[1.0])|    yes|          1.0|    (1,[],[])|  no|       0.0|(1,[0],[1.0])| unknown|           0.0|(3,[0],[1.0])|    yes|          1.0|  (1,[],[])|\n",
            "|   services|      4.0|(11,[4],[1.0])|  single|          1.0|(2,[1],[1.0])|secondary|            0.0|(3,[0],[1.0])|    yes|          1.0|    (1,[],[])|  no|       0.0|(1,[0],[1.0])| unknown|           0.0|(3,[0],[1.0])|    yes|          1.0|  (1,[],[])|\n",
            "|     admin.|      3.0|(11,[3],[1.0])|  single|          1.0|(2,[1],[1.0])|secondary|            0.0|(3,[0],[1.0])|    yes|          1.0|    (1,[],[])|  no|       0.0|(1,[0],[1.0])| unknown|           0.0|(3,[0],[1.0])|    yes|          1.0|  (1,[],[])|\n",
            "|blue-collar|      1.0|(11,[1],[1.0])| married|          0.0|(2,[0],[1.0])|secondary|            0.0|(3,[0],[1.0])|    yes|          1.0|    (1,[],[])|  no|       0.0|(1,[0],[1.0])| unknown|           0.0|(3,[0],[1.0])|    yes|          1.0|  (1,[],[])|\n",
            "| management|      0.0|(11,[0],[1.0])| married|          0.0|(2,[0],[1.0])| tertiary|            1.0|(3,[1],[1.0])|    yes|          1.0|    (1,[],[])| yes|       1.0|    (1,[],[])| unknown|           0.0|(3,[0],[1.0])|    yes|          1.0|  (1,[],[])|\n",
            "|blue-collar|      1.0|(11,[1],[1.0])|  single|          1.0|(2,[1],[1.0])| tertiary|            1.0|(3,[1],[1.0])|    yes|          1.0|    (1,[],[])|  no|       0.0|(1,[0],[1.0])| unknown|           0.0|(3,[0],[1.0])|    yes|          1.0|  (1,[],[])|\n",
            "| technician|      2.0|(11,[2],[1.0])|  single|          1.0|(2,[1],[1.0])| tertiary|            1.0|(3,[1],[1.0])|    yes|          1.0|    (1,[],[])|  no|       0.0|(1,[0],[1.0])| unknown|           0.0|(3,[0],[1.0])|    yes|          1.0|  (1,[],[])|\n",
            "| management|      0.0|(11,[0],[1.0])|divorced|          2.0|    (2,[],[])| tertiary|            1.0|(3,[1],[1.0])|    yes|          1.0|    (1,[],[])|  no|       0.0|(1,[0],[1.0])| unknown|           0.0|(3,[0],[1.0])|    yes|          1.0|  (1,[],[])|\n",
            "|blue-collar|      1.0|(11,[1],[1.0])|  single|          1.0|(2,[1],[1.0])|  primary|            2.0|(3,[2],[1.0])|    yes|          1.0|    (1,[],[])|  no|       0.0|(1,[0],[1.0])| unknown|           0.0|(3,[0],[1.0])|    yes|          1.0|  (1,[],[])|\n",
            "|   services|      4.0|(11,[4],[1.0])| married|          0.0|(2,[0],[1.0])|secondary|            0.0|(3,[0],[1.0])|    yes|          1.0|    (1,[],[])|  no|       0.0|(1,[0],[1.0])| unknown|           0.0|(3,[0],[1.0])|    yes|          1.0|  (1,[],[])|\n",
            "|     admin.|      3.0|(11,[3],[1.0])| married|          0.0|(2,[0],[1.0])|secondary|            0.0|(3,[0],[1.0])|    yes|          1.0|    (1,[],[])|  no|       0.0|(1,[0],[1.0])| unknown|           0.0|(3,[0],[1.0])|    yes|          1.0|  (1,[],[])|\n",
            "|     admin.|      3.0|(11,[3],[1.0])|divorced|          2.0|    (2,[],[])|secondary|            0.0|(3,[0],[1.0])|    yes|          1.0|    (1,[],[])| yes|       1.0|    (1,[],[])| unknown|           0.0|(3,[0],[1.0])|    yes|          1.0|  (1,[],[])|\n",
            "+-----------+---------+--------------+--------+-------------+-------------+---------+---------------+-------------+-------+-------------+-------------+----+----------+-------------+--------+--------------+-------------+-------+-------------+-----------+\n",
            "only showing top 20 rows\n",
            "\n"
          ],
          "name": "stdout"
        }
      ]
    },
    {
      "cell_type": "code",
      "metadata": {
        "id": "x6UEg1XKvblZ"
      },
      "source": [
        ""
      ],
      "execution_count": null,
      "outputs": []
    },
    {
      "cell_type": "markdown",
      "metadata": {
        "id": "mxBvrx8EvUdZ"
      },
      "source": [
        "**Final my_data dataset after all conversion.**"
      ]
    },
    {
      "cell_type": "code",
      "metadata": {
        "colab": {
          "base_uri": "https://localhost:8080/"
        },
        "id": "14tocvomdkZB",
        "outputId": "fd9d5867-4f47-4817-c2ab-e7874685b1ed"
      },
      "source": [
        "my_data.show()"
      ],
      "execution_count": 19,
      "outputs": [
        {
          "output_type": "stream",
          "text": [
            "+---+-----------+--------+---------+-------+-------+----+--------+--------+-----+--------+--------+-------+--------------+-------------+----------+-------------+-------------+---------------+---------+-------------+-----------+-------------+-------------+-------------+-------------+--------------+\n",
            "|age|        job| marital|education|balance|housing|loan|duration|campaign|pdays|previous|poutcome|deposit|poutcome_index|deposit_index|loan_index|housing_index|marital_index|education_index|job_index|education_ohe|deposit_ohe| poutcome_ohe|  housing_ohe|  marital_ohe|     loan_ohe|       job_ohe|\n",
            "+---+-----------+--------+---------+-------+-------+----+--------+--------+-----+--------+--------+-------+--------------+-------------+----------+-------------+-------------+---------------+---------+-------------+-----------+-------------+-------------+-------------+-------------+--------------+\n",
            "| 59|     admin.| married|secondary|   2343|    yes|  no|    1042|       1|   -1|       0| unknown|    yes|           0.0|          1.0|       0.0|          1.0|          0.0|            0.0|      3.0|(3,[0],[1.0])|  (1,[],[])|(3,[0],[1.0])|    (1,[],[])|(2,[0],[1.0])|(1,[0],[1.0])|(11,[3],[1.0])|\n",
            "| 56|     admin.| married|secondary|     45|     no|  no|    1467|       1|   -1|       0| unknown|    yes|           0.0|          1.0|       0.0|          0.0|          0.0|            0.0|      3.0|(3,[0],[1.0])|  (1,[],[])|(3,[0],[1.0])|(1,[0],[1.0])|(2,[0],[1.0])|(1,[0],[1.0])|(11,[3],[1.0])|\n",
            "| 41| technician| married|secondary|   1270|    yes|  no|    1389|       1|   -1|       0| unknown|    yes|           0.0|          1.0|       0.0|          1.0|          0.0|            0.0|      2.0|(3,[0],[1.0])|  (1,[],[])|(3,[0],[1.0])|    (1,[],[])|(2,[0],[1.0])|(1,[0],[1.0])|(11,[2],[1.0])|\n",
            "| 55|   services| married|secondary|   2476|    yes|  no|     579|       1|   -1|       0| unknown|    yes|           0.0|          1.0|       0.0|          1.0|          0.0|            0.0|      4.0|(3,[0],[1.0])|  (1,[],[])|(3,[0],[1.0])|    (1,[],[])|(2,[0],[1.0])|(1,[0],[1.0])|(11,[4],[1.0])|\n",
            "| 54|     admin.| married| tertiary|    184|     no|  no|     673|       2|   -1|       0| unknown|    yes|           0.0|          1.0|       0.0|          0.0|          0.0|            1.0|      3.0|(3,[1],[1.0])|  (1,[],[])|(3,[0],[1.0])|(1,[0],[1.0])|(2,[0],[1.0])|(1,[0],[1.0])|(11,[3],[1.0])|\n",
            "| 42| management|  single| tertiary|      0|    yes| yes|     562|       2|   -1|       0| unknown|    yes|           0.0|          1.0|       1.0|          1.0|          1.0|            1.0|      0.0|(3,[1],[1.0])|  (1,[],[])|(3,[0],[1.0])|    (1,[],[])|(2,[1],[1.0])|    (1,[],[])|(11,[0],[1.0])|\n",
            "| 56| management| married| tertiary|    830|    yes| yes|    1201|       1|   -1|       0| unknown|    yes|           0.0|          1.0|       1.0|          1.0|          0.0|            1.0|      0.0|(3,[1],[1.0])|  (1,[],[])|(3,[0],[1.0])|    (1,[],[])|(2,[0],[1.0])|    (1,[],[])|(11,[0],[1.0])|\n",
            "| 60|    retired|divorced|secondary|    545|    yes|  no|    1030|       1|   -1|       0| unknown|    yes|           0.0|          1.0|       0.0|          1.0|          2.0|            0.0|      5.0|(3,[0],[1.0])|  (1,[],[])|(3,[0],[1.0])|    (1,[],[])|    (2,[],[])|(1,[0],[1.0])|(11,[5],[1.0])|\n",
            "| 37| technician| married|secondary|      1|    yes|  no|     608|       1|   -1|       0| unknown|    yes|           0.0|          1.0|       0.0|          1.0|          0.0|            0.0|      2.0|(3,[0],[1.0])|  (1,[],[])|(3,[0],[1.0])|    (1,[],[])|(2,[0],[1.0])|(1,[0],[1.0])|(11,[2],[1.0])|\n",
            "| 28|   services|  single|secondary|   5090|    yes|  no|    1297|       3|   -1|       0| unknown|    yes|           0.0|          1.0|       0.0|          1.0|          1.0|            0.0|      4.0|(3,[0],[1.0])|  (1,[],[])|(3,[0],[1.0])|    (1,[],[])|(2,[1],[1.0])|(1,[0],[1.0])|(11,[4],[1.0])|\n",
            "| 38|     admin.|  single|secondary|    100|    yes|  no|     786|       1|   -1|       0| unknown|    yes|           0.0|          1.0|       0.0|          1.0|          1.0|            0.0|      3.0|(3,[0],[1.0])|  (1,[],[])|(3,[0],[1.0])|    (1,[],[])|(2,[1],[1.0])|(1,[0],[1.0])|(11,[3],[1.0])|\n",
            "| 30|blue-collar| married|secondary|    309|    yes|  no|    1574|       2|   -1|       0| unknown|    yes|           0.0|          1.0|       0.0|          1.0|          0.0|            0.0|      1.0|(3,[0],[1.0])|  (1,[],[])|(3,[0],[1.0])|    (1,[],[])|(2,[0],[1.0])|(1,[0],[1.0])|(11,[1],[1.0])|\n",
            "| 29| management| married| tertiary|    199|    yes| yes|    1689|       4|   -1|       0| unknown|    yes|           0.0|          1.0|       1.0|          1.0|          0.0|            1.0|      0.0|(3,[1],[1.0])|  (1,[],[])|(3,[0],[1.0])|    (1,[],[])|(2,[0],[1.0])|    (1,[],[])|(11,[0],[1.0])|\n",
            "| 46|blue-collar|  single| tertiary|    460|    yes|  no|    1102|       2|   -1|       0| unknown|    yes|           0.0|          1.0|       0.0|          1.0|          1.0|            1.0|      1.0|(3,[1],[1.0])|  (1,[],[])|(3,[0],[1.0])|    (1,[],[])|(2,[1],[1.0])|(1,[0],[1.0])|(11,[1],[1.0])|\n",
            "| 31| technician|  single| tertiary|    703|    yes|  no|     943|       2|   -1|       0| unknown|    yes|           0.0|          1.0|       0.0|          1.0|          1.0|            1.0|      2.0|(3,[1],[1.0])|  (1,[],[])|(3,[0],[1.0])|    (1,[],[])|(2,[1],[1.0])|(1,[0],[1.0])|(11,[2],[1.0])|\n",
            "| 35| management|divorced| tertiary|   3837|    yes|  no|    1084|       1|   -1|       0| unknown|    yes|           0.0|          1.0|       0.0|          1.0|          2.0|            1.0|      0.0|(3,[1],[1.0])|  (1,[],[])|(3,[0],[1.0])|    (1,[],[])|    (2,[],[])|(1,[0],[1.0])|(11,[0],[1.0])|\n",
            "| 32|blue-collar|  single|  primary|    611|    yes|  no|     541|       3|   -1|       0| unknown|    yes|           0.0|          1.0|       0.0|          1.0|          1.0|            2.0|      1.0|(3,[2],[1.0])|  (1,[],[])|(3,[0],[1.0])|    (1,[],[])|(2,[1],[1.0])|(1,[0],[1.0])|(11,[1],[1.0])|\n",
            "| 49|   services| married|secondary|     -8|    yes|  no|    1119|       1|   -1|       0| unknown|    yes|           0.0|          1.0|       0.0|          1.0|          0.0|            0.0|      4.0|(3,[0],[1.0])|  (1,[],[])|(3,[0],[1.0])|    (1,[],[])|(2,[0],[1.0])|(1,[0],[1.0])|(11,[4],[1.0])|\n",
            "| 41|     admin.| married|secondary|     55|    yes|  no|    1120|       2|   -1|       0| unknown|    yes|           0.0|          1.0|       0.0|          1.0|          0.0|            0.0|      3.0|(3,[0],[1.0])|  (1,[],[])|(3,[0],[1.0])|    (1,[],[])|(2,[0],[1.0])|(1,[0],[1.0])|(11,[3],[1.0])|\n",
            "| 49|     admin.|divorced|secondary|    168|    yes| yes|     513|       1|   -1|       0| unknown|    yes|           0.0|          1.0|       1.0|          1.0|          2.0|            0.0|      3.0|(3,[0],[1.0])|  (1,[],[])|(3,[0],[1.0])|    (1,[],[])|    (2,[],[])|    (1,[],[])|(11,[3],[1.0])|\n",
            "+---+-----------+--------+---------+-------+-------+----+--------+--------+-----+--------+--------+-------+--------------+-------------+----------+-------------+-------------+---------------+---------+-------------+-----------+-------------+-------------+-------------+-------------+--------------+\n",
            "only showing top 20 rows\n",
            "\n"
          ],
          "name": "stdout"
        }
      ]
    },
    {
      "cell_type": "code",
      "metadata": {
        "colab": {
          "base_uri": "https://localhost:8080/"
        },
        "id": "porcUDXhdyNO",
        "outputId": "60a7768d-4885-4b24-ef97-d81384d09b5d"
      },
      "source": [
        "my_data.columns"
      ],
      "execution_count": 20,
      "outputs": [
        {
          "output_type": "execute_result",
          "data": {
            "text/plain": [
              "['age',\n",
              " 'job',\n",
              " 'marital',\n",
              " 'education',\n",
              " 'balance',\n",
              " 'housing',\n",
              " 'loan',\n",
              " 'duration',\n",
              " 'campaign',\n",
              " 'pdays',\n",
              " 'previous',\n",
              " 'poutcome',\n",
              " 'deposit',\n",
              " 'poutcome_index',\n",
              " 'deposit_index',\n",
              " 'loan_index',\n",
              " 'housing_index',\n",
              " 'marital_index',\n",
              " 'education_index',\n",
              " 'job_index',\n",
              " 'education_ohe',\n",
              " 'deposit_ohe',\n",
              " 'poutcome_ohe',\n",
              " 'housing_ohe',\n",
              " 'marital_ohe',\n",
              " 'loan_ohe',\n",
              " 'job_ohe']"
            ]
          },
          "metadata": {
            "tags": []
          },
          "execution_count": 20
        }
      ]
    },
    {
      "cell_type": "code",
      "metadata": {
        "id": "SGNNaS75vM7e"
      },
      "source": [
        ""
      ],
      "execution_count": null,
      "outputs": []
    },
    {
      "cell_type": "markdown",
      "metadata": {
        "id": "S_MNBxkwu8_e"
      },
      "source": [
        "**All the features in the original dataset was assembled into a vector named \"features\".**"
      ]
    },
    {
      "cell_type": "code",
      "metadata": {
        "id": "KWMDz6KdYILM"
      },
      "source": [
        "from pyspark.ml.feature import VectorAssembler\r\n",
        "\r\n",
        "assembler = VectorAssembler(inputCols = ['age',\r\n",
        "                                        'balance',\r\n",
        "                                        'duration',\r\n",
        "                                        'campaign',\r\n",
        "                                        'pdays',\r\n",
        "                                        'previous',\r\n",
        "                                        'poutcome_index',\r\n",
        "                                        'loan_index',\r\n",
        "                                        'housing_index',\r\n",
        "                                        'marital_index',\r\n",
        "                                        'education_index',\r\n",
        "                                        'job_index',\r\n",
        "                                        'education_ohe',\r\n",
        "                                        'poutcome_ohe',\r\n",
        "                                        'housing_ohe',\r\n",
        "                                        'marital_ohe',\r\n",
        "                                        'loan_ohe',\r\n",
        "                                        'job_ohe'],\r\n",
        "                            outputCol = 'features')\r\n",
        "\r\n",
        "my_data = my_data.fillna(0)\r\n",
        "\r\n",
        "final_data = assembler.transform(my_data)"
      ],
      "execution_count": 22,
      "outputs": []
    },
    {
      "cell_type": "code",
      "metadata": {
        "colab": {
          "base_uri": "https://localhost:8080/"
        },
        "id": "HKLpRboUexv3",
        "outputId": "ec234671-c387-4a80-db5b-5247a703a7b6"
      },
      "source": [
        "final_data.select('features', 'deposit_index').show()"
      ],
      "execution_count": 23,
      "outputs": [
        {
          "output_type": "stream",
          "text": [
            "+--------------------+-------------+\n",
            "|            features|deposit_index|\n",
            "+--------------------+-------------+\n",
            "|(33,[0,1,2,3,4,8,...|          1.0|\n",
            "|(33,[0,1,2,3,4,11...|          1.0|\n",
            "|(33,[0,1,2,3,4,8,...|          1.0|\n",
            "|(33,[0,1,2,3,4,8,...|          1.0|\n",
            "|(33,[0,1,2,3,4,10...|          1.0|\n",
            "|(33,[0,2,3,4,7,8,...|          1.0|\n",
            "|(33,[0,1,2,3,4,7,...|          1.0|\n",
            "|(33,[0,1,2,3,4,8,...|          1.0|\n",
            "|(33,[0,1,2,3,4,8,...|          1.0|\n",
            "|(33,[0,1,2,3,4,8,...|          1.0|\n",
            "|(33,[0,1,2,3,4,8,...|          1.0|\n",
            "|(33,[0,1,2,3,4,8,...|          1.0|\n",
            "|(33,[0,1,2,3,4,7,...|          1.0|\n",
            "|(33,[0,1,2,3,4,8,...|          1.0|\n",
            "|(33,[0,1,2,3,4,8,...|          1.0|\n",
            "|(33,[0,1,2,3,4,8,...|          1.0|\n",
            "|(33,[0,1,2,3,4,8,...|          1.0|\n",
            "|(33,[0,1,2,3,4,8,...|          1.0|\n",
            "|(33,[0,1,2,3,4,8,...|          1.0|\n",
            "|(33,[0,1,2,3,4,7,...|          1.0|\n",
            "+--------------------+-------------+\n",
            "only showing top 20 rows\n",
            "\n"
          ],
          "name": "stdout"
        }
      ]
    },
    {
      "cell_type": "code",
      "metadata": {
        "id": "b-CsEUydu7kZ"
      },
      "source": [
        ""
      ],
      "execution_count": null,
      "outputs": []
    },
    {
      "cell_type": "markdown",
      "metadata": {
        "id": "H3eHlYOZujRK"
      },
      "source": [
        "**Model dataframe containing vectored features and label.**"
      ]
    },
    {
      "cell_type": "code",
      "metadata": {
        "colab": {
          "base_uri": "https://localhost:8080/"
        },
        "id": "9ITZhOWJfUeM",
        "outputId": "dff90ded-8ce6-4419-91ce-e9ed21715fe2"
      },
      "source": [
        "model = final_data.select(['features', 'deposit_index'])\r\n",
        "model = model.withColumnRenamed(\"deposit_index\", \"label\")\r\n",
        "model.printSchema()"
      ],
      "execution_count": 24,
      "outputs": [
        {
          "output_type": "stream",
          "text": [
            "root\n",
            " |-- features: vector (nullable = true)\n",
            " |-- label: double (nullable = false)\n",
            "\n"
          ],
          "name": "stdout"
        }
      ]
    },
    {
      "cell_type": "code",
      "metadata": {
        "colab": {
          "base_uri": "https://localhost:8080/"
        },
        "id": "sTvRs5sGuitj",
        "outputId": "2444fe66-525e-4445-d0dd-13789eaf96f4"
      },
      "source": [
        "model.show()"
      ],
      "execution_count": 74,
      "outputs": [
        {
          "output_type": "stream",
          "text": [
            "+--------------------+-----+\n",
            "|            features|label|\n",
            "+--------------------+-----+\n",
            "|(33,[0,1,2,3,4,8,...|  1.0|\n",
            "|(33,[0,1,2,3,4,11...|  1.0|\n",
            "|(33,[0,1,2,3,4,8,...|  1.0|\n",
            "|(33,[0,1,2,3,4,8,...|  1.0|\n",
            "|(33,[0,1,2,3,4,10...|  1.0|\n",
            "|(33,[0,2,3,4,7,8,...|  1.0|\n",
            "|(33,[0,1,2,3,4,7,...|  1.0|\n",
            "|(33,[0,1,2,3,4,8,...|  1.0|\n",
            "|(33,[0,1,2,3,4,8,...|  1.0|\n",
            "|(33,[0,1,2,3,4,8,...|  1.0|\n",
            "|(33,[0,1,2,3,4,8,...|  1.0|\n",
            "|(33,[0,1,2,3,4,8,...|  1.0|\n",
            "|(33,[0,1,2,3,4,7,...|  1.0|\n",
            "|(33,[0,1,2,3,4,8,...|  1.0|\n",
            "|(33,[0,1,2,3,4,8,...|  1.0|\n",
            "|(33,[0,1,2,3,4,8,...|  1.0|\n",
            "|(33,[0,1,2,3,4,8,...|  1.0|\n",
            "|(33,[0,1,2,3,4,8,...|  1.0|\n",
            "|(33,[0,1,2,3,4,8,...|  1.0|\n",
            "|(33,[0,1,2,3,4,7,...|  1.0|\n",
            "+--------------------+-----+\n",
            "only showing top 20 rows\n",
            "\n"
          ],
          "name": "stdout"
        }
      ]
    },
    {
      "cell_type": "code",
      "metadata": {
        "id": "DFzelHA7uy1G"
      },
      "source": [
        ""
      ],
      "execution_count": null,
      "outputs": []
    },
    {
      "cell_type": "markdown",
      "metadata": {
        "id": "nL-ulbfuuZew"
      },
      "source": [
        "**Splitting of the dataset into train_data and test_data in th ration of 3:1.**"
      ]
    },
    {
      "cell_type": "code",
      "metadata": {
        "colab": {
          "base_uri": "https://localhost:8080/"
        },
        "id": "PARrM-RIf5NO",
        "outputId": "2d2412c6-b2a1-4ae3-cc01-f3244493b5e7"
      },
      "source": [
        "train_data, test_data = model.randomSplit([0.75, 0.25], seed = 42)\r\n",
        "\r\n",
        "print(\"This is the Train dataset:- \")\r\n",
        "print(train_data.show())\r\n",
        "\r\n",
        "print(\"This is the Test dataset:- \")\r\n",
        "print(test_data.show())"
      ],
      "execution_count": 26,
      "outputs": [
        {
          "output_type": "stream",
          "text": [
            "This is the Train dataset:- \n",
            "+--------------------+-----+\n",
            "|            features|label|\n",
            "+--------------------+-----+\n",
            "|(33,[0,1,2,3,4,5,...|  0.0|\n",
            "|(33,[0,1,2,3,4,5,...|  1.0|\n",
            "|(33,[0,1,2,3,4,5,...|  1.0|\n",
            "|(33,[0,1,2,3,4,5,...|  0.0|\n",
            "|(33,[0,1,2,3,4,5,...|  0.0|\n",
            "|(33,[0,1,2,3,4,5,...|  0.0|\n",
            "|(33,[0,1,2,3,4,5,...|  1.0|\n",
            "|(33,[0,1,2,3,4,5,...|  1.0|\n",
            "|(33,[0,1,2,3,4,5,...|  1.0|\n",
            "|(33,[0,1,2,3,4,5,...|  0.0|\n",
            "|(33,[0,1,2,3,4,5,...|  0.0|\n",
            "|(33,[0,1,2,3,4,5,...|  1.0|\n",
            "|(33,[0,1,2,3,4,5,...|  1.0|\n",
            "|(33,[0,1,2,3,4,5,...|  0.0|\n",
            "|(33,[0,1,2,3,4,5,...|  1.0|\n",
            "|(33,[0,1,2,3,4,5,...|  1.0|\n",
            "|(33,[0,1,2,3,4,5,...|  0.0|\n",
            "|(33,[0,1,2,3,4,5,...|  1.0|\n",
            "|(33,[0,1,2,3,4,5,...|  0.0|\n",
            "|(33,[0,1,2,3,4,5,...|  0.0|\n",
            "+--------------------+-----+\n",
            "only showing top 20 rows\n",
            "\n",
            "None\n",
            "This is the Test dataset:- \n",
            "+--------------------+-----+\n",
            "|            features|label|\n",
            "+--------------------+-----+\n",
            "|(33,[0,1,2,3,4,5,...|  0.0|\n",
            "|(33,[0,1,2,3,4,5,...|  0.0|\n",
            "|(33,[0,1,2,3,4,5,...|  1.0|\n",
            "|(33,[0,1,2,3,4,5,...|  1.0|\n",
            "|(33,[0,1,2,3,4,5,...|  0.0|\n",
            "|(33,[0,1,2,3,4,5,...|  0.0|\n",
            "|(33,[0,1,2,3,4,5,...|  1.0|\n",
            "|(33,[0,1,2,3,4,5,...|  0.0|\n",
            "|(33,[0,1,2,3,4,5,...|  1.0|\n",
            "|(33,[0,1,2,3,4,5,...|  1.0|\n",
            "|(33,[0,1,2,3,4,5,...|  0.0|\n",
            "|(33,[0,1,2,3,4,5,...|  1.0|\n",
            "|(33,[0,1,2,3,4,5,...|  1.0|\n",
            "|(33,[0,1,2,3,4,5,...|  0.0|\n",
            "|(33,[0,1,2,3,4,5,...|  0.0|\n",
            "|(33,[0,1,2,3,4,5,...|  1.0|\n",
            "|(33,[0,1,2,3,4,5,...|  1.0|\n",
            "|(33,[0,1,2,3,4,5,...|  0.0|\n",
            "|(33,[0,1,2,3,4,5,...|  1.0|\n",
            "|(33,[0,1,2,3,4,5,...|  0.0|\n",
            "+--------------------+-----+\n",
            "only showing top 20 rows\n",
            "\n",
            "None\n"
          ],
          "name": "stdout"
        }
      ]
    },
    {
      "cell_type": "code",
      "metadata": {
        "id": "NJtizGMFuYTa"
      },
      "source": [
        ""
      ],
      "execution_count": null,
      "outputs": []
    },
    {
      "cell_type": "markdown",
      "metadata": {
        "id": "bof1YG_HuTRz"
      },
      "source": [
        "**Logistic Regression Model**"
      ]
    },
    {
      "cell_type": "code",
      "metadata": {
        "id": "mixs5blzgDVH"
      },
      "source": [
        "logistic = LogisticRegression().fit(train_data)\r\n",
        "\r\n",
        "logistic_summary = logistic.summary"
      ],
      "execution_count": 75,
      "outputs": []
    },
    {
      "cell_type": "code",
      "metadata": {
        "colab": {
          "base_uri": "https://localhost:8080/"
        },
        "id": "3nNQaZ6pnXuX",
        "outputId": "1f0aefdf-5fce-4bc6-85dc-db39ce306968"
      },
      "source": [
        "predictions_lr = logistic.transform(test_data)\r\n",
        "\r\n",
        "predictions_lr.select('label', 'prediction').show()"
      ],
      "execution_count": 57,
      "outputs": [
        {
          "output_type": "stream",
          "text": [
            "+-----+----------+\n",
            "|label|prediction|\n",
            "+-----+----------+\n",
            "|  0.0|       0.0|\n",
            "|  0.0|       0.0|\n",
            "|  1.0|       0.0|\n",
            "|  1.0|       1.0|\n",
            "|  0.0|       0.0|\n",
            "|  0.0|       0.0|\n",
            "|  1.0|       1.0|\n",
            "|  0.0|       0.0|\n",
            "|  1.0|       1.0|\n",
            "|  1.0|       1.0|\n",
            "|  0.0|       0.0|\n",
            "|  1.0|       1.0|\n",
            "|  1.0|       1.0|\n",
            "|  0.0|       0.0|\n",
            "|  0.0|       1.0|\n",
            "|  1.0|       1.0|\n",
            "|  1.0|       0.0|\n",
            "|  0.0|       0.0|\n",
            "|  1.0|       0.0|\n",
            "|  0.0|       0.0|\n",
            "+-----+----------+\n",
            "only showing top 20 rows\n",
            "\n"
          ],
          "name": "stdout"
        }
      ]
    },
    {
      "cell_type": "code",
      "metadata": {
        "colab": {
          "base_uri": "https://localhost:8080/"
        },
        "id": "uh51hPEOg944",
        "outputId": "21d7a1c5-a09f-4a8d-f9fb-c1dccbce3859"
      },
      "source": [
        "print(\"Logistic Regression Accuracy = \", logistic_summary.accuracy*100)\r\n",
        "print(\"Logistic Regression Test Error = %g \" % (1.0 - logistic_summary.accuracy))\r\n",
        "print(\"Logistic Regression ROC = \", logistic_summary.areaUnderROC*100)"
      ],
      "execution_count": 60,
      "outputs": [
        {
          "output_type": "stream",
          "text": [
            "Logistic Regression Accuracy =  79.84091178914876\n",
            "Logistic Regression Test Error = 0.201591 \n",
            "Logistic Regression ROC =  87.97282090276762\n"
          ],
          "name": "stdout"
        }
      ]
    },
    {
      "cell_type": "code",
      "metadata": {
        "colab": {
          "base_uri": "https://localhost:8080/"
        },
        "id": "M9vHp-mEjszF",
        "outputId": "4b14c3b2-1d8c-43bf-e576-30c9dfa23114"
      },
      "source": [
        "print(\"For Precision\")\r\n",
        "print(\"YES: \", logistic_summary.precisionByLabel[1])\r\n",
        "print(\"NO: \", logistic_summary.precisionByLabel[0])\r\n",
        "\r\n",
        "print(\"For Recall\")\r\n",
        "print(\"YES: \", logistic_summary.recallByLabel[1])\r\n",
        "print(\"NO: \", logistic_summary.recallByLabel[0])\r\n"
      ],
      "execution_count": 47,
      "outputs": [
        {
          "output_type": "stream",
          "text": [
            "For Precision\n",
            "YES:  0.813451425408248\n",
            "NO:  0.7871101871101871\n",
            "For Recall\n",
            "YES:  0.7416098914963412\n",
            "NO:  0.8488789237668162\n"
          ],
          "name": "stdout"
        }
      ]
    },
    {
      "cell_type": "code",
      "metadata": {
        "id": "2mMy0dBamnTS"
      },
      "source": [
        ""
      ],
      "execution_count": null,
      "outputs": []
    },
    {
      "cell_type": "markdown",
      "metadata": {
        "id": "ls5F68jxxQIq"
      },
      "source": [
        "**Decision Tree Classifier Model.**"
      ]
    },
    {
      "cell_type": "code",
      "metadata": {
        "colab": {
          "base_uri": "https://localhost:8080/"
        },
        "id": "80irIvnDi7lK",
        "outputId": "50253507-0a37-4d75-9208-9dd14ee612a5"
      },
      "source": [
        "dtc = DecisionTreeClassifier(labelCol=\"label\", featuresCol=\"features\")\r\n",
        "dtc = dtc.fit(train_data)\r\n",
        "\r\n",
        "predictions = dtc.transform(test_data)\r\n",
        "predictions.select(\"label\",\"prediction\").show()"
      ],
      "execution_count": 37,
      "outputs": [
        {
          "output_type": "stream",
          "text": [
            "+-----+----------+\n",
            "|label|prediction|\n",
            "+-----+----------+\n",
            "|  0.0|       0.0|\n",
            "|  0.0|       0.0|\n",
            "|  1.0|       1.0|\n",
            "|  1.0|       1.0|\n",
            "|  0.0|       0.0|\n",
            "|  0.0|       0.0|\n",
            "|  1.0|       1.0|\n",
            "|  0.0|       0.0|\n",
            "|  1.0|       1.0|\n",
            "|  1.0|       1.0|\n",
            "|  0.0|       0.0|\n",
            "|  1.0|       1.0|\n",
            "|  1.0|       1.0|\n",
            "|  0.0|       0.0|\n",
            "|  0.0|       1.0|\n",
            "|  1.0|       1.0|\n",
            "|  1.0|       0.0|\n",
            "|  0.0|       1.0|\n",
            "|  1.0|       0.0|\n",
            "|  0.0|       0.0|\n",
            "+-----+----------+\n",
            "only showing top 20 rows\n",
            "\n"
          ],
          "name": "stdout"
        }
      ]
    },
    {
      "cell_type": "code",
      "metadata": {
        "colab": {
          "base_uri": "https://localhost:8080/"
        },
        "id": "HfVFbsebhEDN",
        "outputId": "ca267c7c-e41b-4048-8d5e-40e368fb8b6d"
      },
      "source": [
        "evaluator = MulticlassClassificationEvaluator(labelCol=\"label\", predictionCol=\"prediction\",metricName=\"accuracy\")\r\n",
        "accuracy = evaluator.evaluate(predictions)\r\n",
        "\r\n",
        "print(\"Decision Tree Classifier Test Error = %g \" % (1.0 - accuracy))\r\n",
        "print(\"Decision Tree Classifier Accuracy = %g \" % accuracy)"
      ],
      "execution_count": 58,
      "outputs": [
        {
          "output_type": "stream",
          "text": [
            "Decision Tree Classifier Test Error = 0.204819 \n",
            "Decision Tree Classifier Accuracy = 0.795181 \n"
          ],
          "name": "stdout"
        }
      ]
    },
    {
      "cell_type": "code",
      "metadata": {
        "id": "oCnUkALth7yb"
      },
      "source": [
        ""
      ],
      "execution_count": null,
      "outputs": []
    }
  ]
}