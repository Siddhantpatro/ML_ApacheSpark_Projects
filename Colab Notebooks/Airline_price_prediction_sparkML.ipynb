{
  "nbformat": 4,
  "nbformat_minor": 0,
  "metadata": {
    "colab": {
      "name": "Airline_price_prediction_sparkML.ipynb",
      "provenance": [],
      "collapsed_sections": []
    },
    "kernelspec": {
      "name": "python3",
      "display_name": "Python 3"
    }
  },
  "cells": [
    {
      "cell_type": "code",
      "metadata": {
        "id": "5yZoD0yjnIOg"
      },
      "source": [
        "from pyspark import SparkConf, SparkContext \r\n",
        "\r\n",
        "# In Jupyter you have to stop the current context first\r\n",
        "spark.stop()\r\n",
        "# Create new config\r\n",
        "conf = (SparkConf().set(\"spark.driver.maxResultSize\", \"1g\"))\r\n",
        "\r\n",
        "# Create new context\r\n",
        "sc = SparkContext(conf=conf)\r\n",
        "\r\n",
        "from pyspark.sql import SQLContext\r\n",
        "sqlContext = SQLContext(sc)"
      ],
      "execution_count": null,
      "outputs": []
    },
    {
      "cell_type": "code",
      "metadata": {
        "id": "_Lu7v0SfD5FE"
      },
      "source": [
        "# install Java8\r\n",
        "!apt-get install openjdk-8-jdk-headless -qq > /dev/null\r\n",
        "\r\n",
        "#!apt-get update\r\n",
        "\r\n",
        "# download spark3.0.1\r\n",
        "!wget -q http://apache.osuosl.org/spark/spark-3.0.1/spark-3.0.1-bin-hadoop3.2.tgz\r\n",
        "\r\n",
        "# unzip it\r\n",
        "!tar xf spark-3.0.1-bin-hadoop3.2.tgz\r\n",
        "\r\n",
        "# install findspark \r\n",
        "!pip install -q findspark\r\n",
        "\r\n",
        "# environmental variable of java and sp ark was set\r\n",
        "import os\r\n",
        "os.environ[\"JAVA_HOME\"] = \"/usr/lib/jvm/java-8-openjdk-amd64\"\r\n",
        "os.environ[\"SPARK_HOME\"] = \"/content/spark-3.0.1-bin-hadoop3.2\"\r\n",
        "\r\n",
        "import findspark\r\n",
        "findspark.init()"
      ],
      "execution_count": null,
      "outputs": []
    },
    {
      "cell_type": "code",
      "metadata": {
        "id": "mYlssRmtF8DT"
      },
      "source": [
        "from pyspark.sql import SparkSession\r\n",
        "spark = SparkSession.builder.appName('Flight_ticket_prediction').getOrCreate()"
      ],
      "execution_count": null,
      "outputs": []
    },
    {
      "cell_type": "code",
      "metadata": {
        "id": "5aWt3wQuGjhG"
      },
      "source": [
        "import pandas as pd\r\n",
        "\r\n",
        "from pyspark.ml.linalg import Vectors\r\n",
        "from pyspark.ml.feature import StringIndexer, OneHotEncoder, VectorAssembler\r\n",
        "\r\n",
        "import pyspark.sql.functions as f"
      ],
      "execution_count": null,
      "outputs": []
    },
    {
      "cell_type": "code",
      "metadata": {
        "colab": {
          "resources": {
            "http://localhost:8080/nbextensions/google.colab/files.js": {
              "data": "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",
              "ok": true,
              "headers": [
                [
                  "content-type",
                  "application/javascript"
                ]
              ],
              "status": 200,
              "status_text": ""
            }
          },
          "base_uri": "https://localhost:8080/",
          "height": 106
        },
        "id": "DLxsX4_YG_s8",
        "outputId": "0eef6af0-9a4b-4087-d23e-f5c740c8c0ed"
      },
      "source": [
        "from google.colab import files\r\n",
        "uploaded = files.upload()"
      ],
      "execution_count": null,
      "outputs": [
        {
          "output_type": "display_data",
          "data": {
            "text/html": [
              "\n",
              "     <input type=\"file\" id=\"files-7e022db1-b51b-4189-9c9d-560bdecbd708\" name=\"files[]\" multiple disabled\n",
              "        style=\"border:none\" />\n",
              "     <output id=\"result-7e022db1-b51b-4189-9c9d-560bdecbd708\">\n",
              "      Upload widget is only available when the cell has been executed in the\n",
              "      current browser session. Please rerun this cell to enable.\n",
              "      </output>\n",
              "      <script src=\"/nbextensions/google.colab/files.js\"></script> "
            ],
            "text/plain": [
              "<IPython.core.display.HTML object>"
            ]
          },
          "metadata": {
            "tags": []
          }
        },
        {
          "output_type": "stream",
          "text": [
            "Saving Data_Train.xlsx to Data_Train.xlsx\n",
            "Saving Test_set.xlsx to Test_set.xlsx\n"
          ],
          "name": "stdout"
        }
      ]
    },
    {
      "cell_type": "code",
      "metadata": {
        "colab": {
          "base_uri": "https://localhost:8080/"
        },
        "id": "rvzeM0BoKFse",
        "outputId": "802031f0-d8d0-4983-fbba-69d3e897b12c"
      },
      "source": [
        "read_file = pd.read_excel (\"Data_Train.xlsx\") \r\n",
        "\r\n",
        "read_file.to_csv (\"Data_Train.csv\", index = None, header=True) \r\n",
        "\r\n",
        "train_df = spark.read.csv(\"Data_Train.csv\", inferSchema = True, header = True)\r\n",
        "train_df.show()"
      ],
      "execution_count": null,
      "outputs": [
        {
          "output_type": "stream",
          "text": [
            "+-----------------+---------------+--------+-----------+--------------------+--------+------------+--------+-----------+--------------------+-----+\n",
            "|          Airline|Date_of_Journey|  Source|Destination|               Route|Dep_Time|Arrival_Time|Duration|Total_Stops|     Additional_Info|Price|\n",
            "+-----------------+---------------+--------+-----------+--------------------+--------+------------+--------+-----------+--------------------+-----+\n",
            "|           IndiGo|     24/03/2019|Banglore|  New Delhi|           BLR → DEL|   22:20|01:10 22 Mar|  2h 50m|   non-stop|             No info| 3897|\n",
            "|        Air India|      1/05/2019| Kolkata|   Banglore|CCU → IXR → BBI →...|   05:50|       13:15|  7h 25m|    2 stops|             No info| 7662|\n",
            "|      Jet Airways|      9/06/2019|   Delhi|     Cochin|DEL → LKO → BOM →...|   09:25|04:25 10 Jun|     19h|    2 stops|             No info|13882|\n",
            "|           IndiGo|     12/05/2019| Kolkata|   Banglore|     CCU → NAG → BLR|   18:05|       23:30|  5h 25m|     1 stop|             No info| 6218|\n",
            "|           IndiGo|     01/03/2019|Banglore|  New Delhi|     BLR → NAG → DEL|   16:50|       21:35|  4h 45m|     1 stop|             No info|13302|\n",
            "|         SpiceJet|     24/06/2019| Kolkata|   Banglore|           CCU → BLR|   09:00|       11:25|  2h 25m|   non-stop|             No info| 3873|\n",
            "|      Jet Airways|     12/03/2019|Banglore|  New Delhi|     BLR → BOM → DEL|   18:55|10:25 13 Mar| 15h 30m|     1 stop|In-flight meal no...|11087|\n",
            "|      Jet Airways|     01/03/2019|Banglore|  New Delhi|     BLR → BOM → DEL|   08:00|05:05 02 Mar|  21h 5m|     1 stop|             No info|22270|\n",
            "|      Jet Airways|     12/03/2019|Banglore|  New Delhi|     BLR → BOM → DEL|   08:55|10:25 13 Mar| 25h 30m|     1 stop|In-flight meal no...|11087|\n",
            "|Multiple carriers|     27/05/2019|   Delhi|     Cochin|     DEL → BOM → COK|   11:25|       19:15|  7h 50m|     1 stop|             No info| 8625|\n",
            "|        Air India|      1/06/2019|   Delhi|     Cochin|     DEL → BLR → COK|   09:45|       23:00| 13h 15m|     1 stop|             No info| 8907|\n",
            "|           IndiGo|     18/04/2019| Kolkata|   Banglore|           CCU → BLR|   20:20|       22:55|  2h 35m|   non-stop|             No info| 4174|\n",
            "|        Air India|     24/06/2019| Chennai|    Kolkata|           MAA → CCU|   11:40|       13:55|  2h 15m|   non-stop|             No info| 4667|\n",
            "|      Jet Airways|      9/05/2019| Kolkata|   Banglore|     CCU → BOM → BLR|   21:10|09:20 10 May| 12h 10m|     1 stop|In-flight meal no...| 9663|\n",
            "|           IndiGo|     24/04/2019| Kolkata|   Banglore|           CCU → BLR|   17:15|       19:50|  2h 35m|   non-stop|             No info| 4804|\n",
            "|        Air India|      3/03/2019|   Delhi|     Cochin|DEL → AMD → BOM →...|   16:40|19:15 04 Mar| 26h 35m|    2 stops|             No info|14011|\n",
            "|         SpiceJet|     15/04/2019|   Delhi|     Cochin|     DEL → PNQ → COK|   08:45|       13:15|  4h 30m|     1 stop|             No info| 5830|\n",
            "|      Jet Airways|     12/06/2019|   Delhi|     Cochin|     DEL → BOM → COK|   14:00|12:35 13 Jun| 22h 35m|     1 stop|In-flight meal no...|10262|\n",
            "|        Air India|     12/06/2019|   Delhi|     Cochin|DEL → CCU → BOM →...|   20:15|19:15 13 Jun|     23h|    2 stops|             No info|13381|\n",
            "|      Jet Airways|     27/05/2019|   Delhi|     Cochin|     DEL → BOM → COK|   16:00|12:35 28 May| 20h 35m|     1 stop|In-flight meal no...|12898|\n",
            "+-----------------+---------------+--------+-----------+--------------------+--------+------------+--------+-----------+--------------------+-----+\n",
            "only showing top 20 rows\n",
            "\n"
          ],
          "name": "stdout"
        }
      ]
    },
    {
      "cell_type": "code",
      "metadata": {
        "colab": {
          "base_uri": "https://localhost:8080/"
        },
        "id": "psI7sbZomllC",
        "outputId": "7fa5b189-8c8f-4052-ca13-ebcdc1ceea44"
      },
      "source": [
        "read_file = pd.read_excel (\"Test_set.xlsx\") \r\n",
        "\r\n",
        "read_file.to_csv (\"Test_set.csv\", index = None, header=True) \r\n",
        "\r\n",
        "test_df = spark.read.csv(\"Test_set.csv\", inferSchema = True, header = True)\r\n",
        "test_df.show()"
      ],
      "execution_count": null,
      "outputs": [
        {
          "output_type": "stream",
          "text": [
            "+-----------------+---------------+--------+-----------+--------------------+--------+------------+--------+-----------+--------------------+\n",
            "|          Airline|Date_of_Journey|  Source|Destination|               Route|Dep_Time|Arrival_Time|Duration|Total_Stops|     Additional_Info|\n",
            "+-----------------+---------------+--------+-----------+--------------------+--------+------------+--------+-----------+--------------------+\n",
            "|      Jet Airways|      6/06/2019|   Delhi|     Cochin|     DEL → BOM → COK|   17:30|04:25 07 Jun| 10h 55m|     1 stop|             No info|\n",
            "|           IndiGo|     12/05/2019| Kolkata|   Banglore|     CCU → MAA → BLR|   06:20|       10:20|      4h|     1 stop|             No info|\n",
            "|      Jet Airways|     21/05/2019|   Delhi|     Cochin|     DEL → BOM → COK|   19:15|19:00 22 May| 23h 45m|     1 stop|In-flight meal no...|\n",
            "|Multiple carriers|     21/05/2019|   Delhi|     Cochin|     DEL → BOM → COK|   08:00|       21:00|     13h|     1 stop|             No info|\n",
            "|         Air Asia|     24/06/2019|Banglore|      Delhi|           BLR → DEL|   23:55|02:45 25 Jun|  2h 50m|   non-stop|             No info|\n",
            "|      Jet Airways|     12/06/2019|   Delhi|     Cochin|     DEL → BOM → COK|   18:15|12:35 13 Jun| 18h 20m|     1 stop|In-flight meal no...|\n",
            "|        Air India|     12/03/2019|Banglore|  New Delhi|     BLR → TRV → DEL|   07:30|       22:35|  15h 5m|     1 stop|             No info|\n",
            "|           IndiGo|      1/05/2019| Kolkata|   Banglore|     CCU → HYD → BLR|   15:15|       20:30|  5h 15m|     1 stop|             No info|\n",
            "|           IndiGo|     15/03/2019| Kolkata|   Banglore|           CCU → BLR|   10:10|       12:55|  2h 45m|   non-stop|             No info|\n",
            "|      Jet Airways|     18/05/2019| Kolkata|   Banglore|     CCU → BOM → BLR|   16:30|       22:35|   6h 5m|     1 stop|             No info|\n",
            "|      Jet Airways|     21/03/2019|   Delhi|     Cochin|DEL → MAA → BOM →...|   13:55|18:50 22 Mar| 28h 55m|    2 stops|In-flight meal no...|\n",
            "|           IndiGo|     15/06/2019|   Delhi|     Cochin|     DEL → HYD → COK|   06:50|       16:10|  9h 20m|     1 stop|             No info|\n",
            "|Multiple carriers|     15/05/2019|   Delhi|     Cochin|     DEL → BOM → COK|   09:00|       19:15| 10h 15m|     1 stop|             No info|\n",
            "|      Jet Airways|     12/03/2019|Banglore|  New Delhi|     BLR → BOM → DEL|   05:45|       10:25|  4h 40m|     1 stop|             No info|\n",
            "|      Jet Airways|      3/06/2019|   Delhi|     Cochin|     DEL → BOM → COK|   19:15|12:35 04 Jun| 17h 20m|     1 stop|In-flight meal no...|\n",
            "|      Jet Airways|     06/03/2019|Banglore|  New Delhi|     BLR → BOM → DEL|   21:25|08:15 07 Mar| 10h 50m|     1 stop|             No info|\n",
            "|Multiple carriers|      6/06/2019|   Delhi|     Cochin|     DEL → HYD → COK|   13:15|       22:30|  9h 15m|     1 stop|             No info|\n",
            "|          Vistara|     24/03/2019| Kolkata|   Banglore|     CCU → DEL → BLR|   09:55|       22:10| 12h 15m|     1 stop|             No info|\n",
            "|      Jet Airways|     12/06/2019|   Delhi|     Cochin|     DEL → BOM → COK|   19:15|04:25 13 Jun|  9h 10m|     1 stop|In-flight meal no...|\n",
            "|      Jet Airways|     12/03/2019|Banglore|  New Delhi|     BLR → BOM → DEL|   22:55|08:15 13 Mar|  9h 20m|     1 stop|             No info|\n",
            "+-----------------+---------------+--------+-----------+--------------------+--------+------------+--------+-----------+--------------------+\n",
            "only showing top 20 rows\n",
            "\n"
          ],
          "name": "stdout"
        }
      ]
    },
    {
      "cell_type": "code",
      "metadata": {
        "colab": {
          "base_uri": "https://localhost:8080/"
        },
        "id": "tAhuJZGiOPR8",
        "outputId": "f5674f3a-d275-4d70-d5fb-92f4ead919ff"
      },
      "source": [
        "train_df.printSchema()"
      ],
      "execution_count": null,
      "outputs": [
        {
          "output_type": "stream",
          "text": [
            "root\n",
            " |-- Airline: string (nullable = true)\n",
            " |-- Date_of_Journey: string (nullable = true)\n",
            " |-- Source: string (nullable = true)\n",
            " |-- Destination: string (nullable = true)\n",
            " |-- Route: string (nullable = true)\n",
            " |-- Dep_Time: string (nullable = true)\n",
            " |-- Arrival_Time: string (nullable = true)\n",
            " |-- Duration: string (nullable = true)\n",
            " |-- Total_Stops: string (nullable = true)\n",
            " |-- Additional_Info: string (nullable = true)\n",
            " |-- Price: integer (nullable = true)\n",
            "\n"
          ],
          "name": "stdout"
        }
      ]
    },
    {
      "cell_type": "code",
      "metadata": {
        "colab": {
          "base_uri": "https://localhost:8080/"
        },
        "id": "KpRSMRBymkRM",
        "outputId": "06698671-267d-4796-9f76-18cec564d096"
      },
      "source": [
        "test_df.printSchema()"
      ],
      "execution_count": null,
      "outputs": [
        {
          "output_type": "stream",
          "text": [
            "root\n",
            " |-- Airline: string (nullable = true)\n",
            " |-- Date_of_Journey: string (nullable = true)\n",
            " |-- Source: string (nullable = true)\n",
            " |-- Destination: string (nullable = true)\n",
            " |-- Route: string (nullable = true)\n",
            " |-- Dep_Time: string (nullable = true)\n",
            " |-- Arrival_Time: string (nullable = true)\n",
            " |-- Duration: string (nullable = true)\n",
            " |-- Total_Stops: string (nullable = true)\n",
            " |-- Additional_Info: string (nullable = true)\n",
            "\n"
          ],
          "name": "stdout"
        }
      ]
    },
    {
      "cell_type": "code",
      "metadata": {
        "colab": {
          "base_uri": "https://localhost:8080/"
        },
        "id": "F2AD6U_fPA7f",
        "outputId": "22bf0c17-e2e1-4825-df36-23dfc9cda1eb"
      },
      "source": [
        "null_values = train_df.agg(*[f.count(f.when(f.isnull(col), col)).alias(col) for col in train_df.columns])\r\n",
        "null_values.show()"
      ],
      "execution_count": null,
      "outputs": [
        {
          "output_type": "stream",
          "text": [
            "+-------+---------------+------+-----------+-----+--------+------------+--------+-----------+---------------+-----+\n",
            "|Airline|Date_of_Journey|Source|Destination|Route|Dep_Time|Arrival_Time|Duration|Total_Stops|Additional_Info|Price|\n",
            "+-------+---------------+------+-----------+-----+--------+------------+--------+-----------+---------------+-----+\n",
            "|      0|              0|     0|          0|    1|       0|           0|       0|          1|              0|    0|\n",
            "+-------+---------------+------+-----------+-----+--------+------------+--------+-----------+---------------+-----+\n",
            "\n"
          ],
          "name": "stdout"
        }
      ]
    },
    {
      "cell_type": "code",
      "metadata": {
        "id": "uPd3rLDlPtEt"
      },
      "source": [
        "train_df = train_df.fillna({ 'Route':0, 'Total_Stops':0 })"
      ],
      "execution_count": null,
      "outputs": []
    },
    {
      "cell_type": "code",
      "metadata": {
        "colab": {
          "base_uri": "https://localhost:8080/"
        },
        "id": "H7KchlZJRTuA",
        "outputId": "585106b3-b03e-4fbc-d05e-40fffc6114cf"
      },
      "source": [
        "null_valuesfinal = train_df.agg(*[f.count(f.when(f.isnull(col), col)).alias(col) for col in train_df.columns])\r\n",
        "null_valuesfinal.show()"
      ],
      "execution_count": null,
      "outputs": [
        {
          "output_type": "stream",
          "text": [
            "+-------+---------------+------+-----------+-----+--------+------------+--------+-----------+---------------+-----+\n",
            "|Airline|Date_of_Journey|Source|Destination|Route|Dep_Time|Arrival_Time|Duration|Total_Stops|Additional_Info|Price|\n",
            "+-------+---------------+------+-----------+-----+--------+------------+--------+-----------+---------------+-----+\n",
            "|      0|              0|     0|          0|    0|       0|           0|       0|          0|              0|    0|\n",
            "+-------+---------------+------+-----------+-----+--------+------------+--------+-----------+---------------+-----+\n",
            "\n"
          ],
          "name": "stdout"
        }
      ]
    },
    {
      "cell_type": "code",
      "metadata": {
        "id": "1mMO7uqZm46Q"
      },
      "source": [
        "#null_values_test = test_df.agg(*[f.count(f.when(f.isnull(col), col)).alias(col) for col in test_df.columns])\r\n",
        "#null_values_test.show()"
      ],
      "execution_count": null,
      "outputs": []
    },
    {
      "cell_type": "code",
      "metadata": {
        "colab": {
          "base_uri": "https://localhost:8080/"
        },
        "id": "2cK7PuasRaFU",
        "outputId": "c59ae155-eef9-4889-dd2b-7519953b1cf6"
      },
      "source": [
        "train_df.dtypes"
      ],
      "execution_count": null,
      "outputs": [
        {
          "output_type": "execute_result",
          "data": {
            "text/plain": [
              "[('Airline', 'string'),\n",
              " ('Date_of_Journey', 'string'),\n",
              " ('Source', 'string'),\n",
              " ('Destination', 'string'),\n",
              " ('Route', 'string'),\n",
              " ('Dep_Time', 'string'),\n",
              " ('Arrival_Time', 'string'),\n",
              " ('Duration', 'string'),\n",
              " ('Total_Stops', 'string'),\n",
              " ('Additional_Info', 'string'),\n",
              " ('Price', 'int')]"
            ]
          },
          "metadata": {
            "tags": []
          },
          "execution_count": 13
        }
      ]
    },
    {
      "cell_type": "code",
      "metadata": {
        "colab": {
          "base_uri": "https://localhost:8080/"
        },
        "id": "5pZvAe-dSRgu",
        "outputId": "b15a23e5-088d-4ae7-e7e9-6ffc02a85b01"
      },
      "source": [
        "\r\n",
        "categoricalColumns = [item[0] for item in train_df.dtypes if item[1].startswith('string')]\r\n",
        "categoricalColumns"
      ],
      "execution_count": null,
      "outputs": [
        {
          "output_type": "execute_result",
          "data": {
            "text/plain": [
              "['Airline',\n",
              " 'Date_of_Journey',\n",
              " 'Source',\n",
              " 'Destination',\n",
              " 'Route',\n",
              " 'Dep_Time',\n",
              " 'Arrival_Time',\n",
              " 'Duration',\n",
              " 'Total_Stops',\n",
              " 'Additional_Info']"
            ]
          },
          "metadata": {
            "tags": []
          },
          "execution_count": 14
        }
      ]
    },
    {
      "cell_type": "code",
      "metadata": {
        "colab": {
          "base_uri": "https://localhost:8080/"
        },
        "id": "S7mtCDTNcdBR",
        "outputId": "0afa7f85-98c7-4e9a-f0e0-b0d0039342de"
      },
      "source": [
        "numericalColumns = [item[0] for item in train_df.dtypes if item[1].startswith('int')]\r\n",
        "numericalColumns"
      ],
      "execution_count": null,
      "outputs": [
        {
          "output_type": "execute_result",
          "data": {
            "text/plain": [
              "['Price']"
            ]
          },
          "metadata": {
            "tags": []
          },
          "execution_count": 15
        }
      ]
    },
    {
      "cell_type": "code",
      "metadata": {
        "id": "fItkMj2yVnAu"
      },
      "source": [
        "stages = []\r\n",
        "for cols in categoricalColumns:\r\n",
        "  stringIndexer = StringIndexer(inputCol= cols, outputCol = cols + '_Index')\r\n",
        "  encoder = OneHotEncoder(inputCols = [stringIndexer.getOutputCol()], outputCols= [cols + \"OHE\"])\r\n",
        "  stages += [stringIndexer, encoder]\r\n",
        "\r\n",
        "assembly = [c + \"OHE\" for c in categoricalColumns] + numericalColumns\r\n",
        "assembler = VectorAssembler(inputCols = assembly, outputCol = \"features\")\r\n",
        "stages += [assembler]"
      ],
      "execution_count": null,
      "outputs": []
    },
    {
      "cell_type": "code",
      "metadata": {
        "colab": {
          "base_uri": "https://localhost:8080/"
        },
        "id": "b3ptrmt6czlt",
        "outputId": "de8d82e2-50b3-427b-b7eb-60ce9b815109"
      },
      "source": [
        "from pyspark.ml import Pipeline\r\n",
        "\r\n",
        "pipeline = Pipeline(stages = stages)\r\n",
        "pipelineModel = pipeline.fit(train_df)\r\n",
        "train_df = pipelineModel.transform(train_df)\r\n",
        "selectedCols = ['Price', 'features'] + categoricalColumns\r\n",
        "train_df = train_df.select(selectedCols)\r\n",
        "train_df.printSchema()"
      ],
      "execution_count": null,
      "outputs": [
        {
          "output_type": "stream",
          "text": [
            "root\n",
            " |-- Price: integer (nullable = true)\n",
            " |-- features: vector (nullable = true)\n",
            " |-- Airline: string (nullable = true)\n",
            " |-- Date_of_Journey: string (nullable = true)\n",
            " |-- Source: string (nullable = true)\n",
            " |-- Destination: string (nullable = true)\n",
            " |-- Route: string (nullable = false)\n",
            " |-- Dep_Time: string (nullable = true)\n",
            " |-- Arrival_Time: string (nullable = true)\n",
            " |-- Duration: string (nullable = true)\n",
            " |-- Total_Stops: string (nullable = false)\n",
            " |-- Additional_Info: string (nullable = true)\n",
            "\n"
          ],
          "name": "stdout"
        }
      ]
    },
    {
      "cell_type": "code",
      "metadata": {
        "colab": {
          "base_uri": "https://localhost:8080/"
        },
        "id": "vAvAm2C-ns9n",
        "outputId": "c3dadcbe-b1fe-43ce-bb69-c9a19977686b"
      },
      "source": [
        "categoricalColumns_test = [item[0] for item in test_df.dtypes if item[1].startswith('string')]\r\n",
        "categoricalColumns_test"
      ],
      "execution_count": null,
      "outputs": [
        {
          "output_type": "execute_result",
          "data": {
            "text/plain": [
              "['Airline',\n",
              " 'Date_of_Journey',\n",
              " 'Source',\n",
              " 'Destination',\n",
              " 'Route',\n",
              " 'Dep_Time',\n",
              " 'Arrival_Time',\n",
              " 'Duration',\n",
              " 'Total_Stops',\n",
              " 'Additional_Info']"
            ]
          },
          "metadata": {
            "tags": []
          },
          "execution_count": 18
        }
      ]
    },
    {
      "cell_type": "code",
      "metadata": {
        "colab": {
          "base_uri": "https://localhost:8080/"
        },
        "id": "yfmEn-VworC2",
        "outputId": "da6b5c6c-7078-44e3-8b13-1003f62e9b1c"
      },
      "source": [
        "indexer_test = StringIndexer(inputCols= ['Airline',\r\n",
        "                                        'Date_of_Journey',\r\n",
        "                                        'Source',\r\n",
        "                                        'Destination',\r\n",
        "                                        'Route',\r\n",
        "                                        'Dep_Time',\r\n",
        "                                        'Arrival_Time',\r\n",
        "                                        'Duration',\r\n",
        "                                        'Total_Stops',\r\n",
        "                                        'Additional_Info'], \r\n",
        "                        outputCols=['Airline_index',\r\n",
        "                                    'Date_of_Journey_index',\r\n",
        "                                    'Source_index',\r\n",
        "                                    'Destination_index',\r\n",
        "                                    'Route_index',\r\n",
        "                                    'Dep_Time_index',\r\n",
        "                                    'Arrival_Time_index',\r\n",
        "                                    'Duration_index',\r\n",
        "                                    'Total_Stops_index',\r\n",
        "                                    'Additional_Info_index']) \r\n",
        "\r\n",
        "indexed = indexer_test.fit(test_df).transform(test_df) \r\n",
        "indexed.show()"
      ],
      "execution_count": null,
      "outputs": [
        {
          "output_type": "stream",
          "text": [
            "+-----------------+---------------+--------+-----------+--------------------+--------+------------+--------+-----------+--------------------+-----------------+-----------+---------------------+--------------+--------------+-------------+---------------------+------------------+------------+-----------------+\n",
            "|          Airline|Date_of_Journey|  Source|Destination|               Route|Dep_Time|Arrival_Time|Duration|Total_Stops|     Additional_Info|Total_Stops_index|Route_index|Additional_Info_index|Duration_index|Dep_Time_index|Airline_index|Date_of_Journey_index|Arrival_Time_index|Source_index|Destination_index|\n",
            "+-----------------+---------------+--------+-----------+--------------------+--------+------------+--------+-----------+--------------------+-----------------+-----------+---------------------+--------------+--------------+-------------+---------------------+------------------+------------+-----------------+\n",
            "|      Jet Airways|      6/06/2019|   Delhi|     Cochin|     DEL → BOM → COK|   17:30|04:25 07 Jun| 10h 55m|     1 stop|             No info|              0.0|        0.0|                  0.0|         167.0|          48.0|          0.0|                  3.0|              32.0|         0.0|              0.0|\n",
            "|           IndiGo|     12/05/2019| Kolkata|   Banglore|     CCU → MAA → BLR|   06:20|       10:20|      4h|     1 stop|             No info|              0.0|       19.0|                  0.0|         222.0|          69.0|          1.0|                 18.0|             204.0|         1.0|              1.0|\n",
            "|      Jet Airways|     21/05/2019|   Delhi|     Cochin|     DEL → BOM → COK|   19:15|19:00 22 May| 23h 45m|     1 stop|In-flight meal no...|              0.0|        0.0|                  1.0|         132.0|          74.0|          0.0|                  5.0|             137.0|         0.0|              0.0|\n",
            "|Multiple carriers|     21/05/2019|   Delhi|     Cochin|     DEL → BOM → COK|   08:00|       21:00|     13h|     1 stop|             No info|              0.0|        0.0|                  0.0|          23.0|           6.0|          3.0|                  5.0|               1.0|         0.0|              0.0|\n",
            "|         Air Asia|     24/06/2019|Banglore|      Delhi|           BLR → DEL|   23:55|02:45 25 Jun|  2h 50m|   non-stop|             No info|              1.0|        1.0|                  0.0|           0.0|         139.0|          6.0|                 12.0|             444.0|         2.0|              2.0|\n",
            "|      Jet Airways|     12/06/2019|   Delhi|     Cochin|     DEL → BOM → COK|   18:15|12:35 13 Jun| 18h 20m|     1 stop|In-flight meal no...|              0.0|        0.0|                  1.0|          54.0|          52.0|          0.0|                  1.0|             113.0|         0.0|              0.0|\n",
            "|        Air India|     12/03/2019|Banglore|  New Delhi|     BLR → TRV → DEL|   07:30|       22:35|  15h 5m|     1 stop|             No info|              0.0|       64.0|                  0.0|         151.0|          32.0|          2.0|                 24.0|              12.0|         2.0|              3.0|\n",
            "|           IndiGo|      1/05/2019| Kolkata|   Banglore|     CCU → HYD → BLR|   15:15|       20:30|  5h 15m|     1 stop|             No info|              0.0|       14.0|                  0.0|          11.0|          10.0|          1.0|                 21.0|              40.0|         1.0|              1.0|\n",
            "|           IndiGo|     15/03/2019| Kolkata|   Banglore|           CCU → BLR|   10:10|       12:55|  2h 45m|   non-stop|             No info|              1.0|        3.0|                  0.0|           2.0|         100.0|          1.0|                 27.0|              23.0|         1.0|              1.0|\n",
            "|      Jet Airways|     18/05/2019| Kolkata|   Banglore|     CCU → BOM → BLR|   16:30|       22:35|   6h 5m|     1 stop|             No info|              0.0|        2.0|                  0.0|          85.0|          22.0|          0.0|                  2.0|              12.0|         1.0|              1.0|\n",
            "|      Jet Airways|     21/03/2019|   Delhi|     Cochin|DEL → MAA → BOM →...|   13:55|18:50 22 Mar| 28h 55m|    2 stops|In-flight meal no...|              2.0|       39.0|                  1.0|         295.0|          65.0|          0.0|                  9.0|              83.0|         0.0|              0.0|\n",
            "|           IndiGo|     15/06/2019|   Delhi|     Cochin|     DEL → HYD → COK|   06:50|       16:10|  9h 20m|     1 stop|             No info|              0.0|        7.0|                  0.0|          16.0|          38.0|          1.0|                  7.0|               4.0|         0.0|              0.0|\n",
            "|Multiple carriers|     15/05/2019|   Delhi|     Cochin|     DEL → BOM → COK|   09:00|       19:15| 10h 15m|     1 stop|             No info|              0.0|        0.0|                  0.0|          14.0|           5.0|          3.0|                  6.0|               2.0|         0.0|              0.0|\n",
            "|      Jet Airways|     12/03/2019|Banglore|  New Delhi|     BLR → BOM → DEL|   05:45|       10:25|  4h 40m|     1 stop|             No info|              0.0|        6.0|                  0.0|         164.0|          26.0|          0.0|                 24.0|             547.0|         2.0|              3.0|\n",
            "|      Jet Airways|      3/06/2019|   Delhi|     Cochin|     DEL → BOM → COK|   19:15|12:35 04 Jun| 17h 20m|     1 stop|In-flight meal no...|              0.0|        0.0|                  1.0|         243.0|          74.0|          0.0|                 10.0|              94.0|         0.0|              0.0|\n",
            "|      Jet Airways|     06/03/2019|Banglore|  New Delhi|     BLR → BOM → DEL|   21:25|08:15 07 Mar| 10h 50m|     1 stop|             No info|              0.0|        6.0|                  0.0|         119.0|          27.0|          0.0|                 28.0|             184.0|         2.0|              3.0|\n",
            "|Multiple carriers|      6/06/2019|   Delhi|     Cochin|     DEL → HYD → COK|   13:15|       22:30|  9h 15m|     1 stop|             No info|              0.0|        7.0|                  0.0|          87.0|          51.0|          3.0|                  3.0|               8.0|         0.0|              0.0|\n",
            "|          Vistara|     24/03/2019| Kolkata|   Banglore|     CCU → DEL → BLR|   09:55|       22:10| 12h 15m|     1 stop|             No info|              0.0|        5.0|                  0.0|          51.0|         109.0|          5.0|                 14.0|             167.0|         1.0|              1.0|\n",
            "|      Jet Airways|     12/06/2019|   Delhi|     Cochin|     DEL → BOM → COK|   19:15|04:25 13 Jun|  9h 10m|     1 stop|In-flight meal no...|              0.0|        0.0|                  1.0|         166.0|          74.0|          0.0|                  1.0|              45.0|         0.0|              0.0|\n",
            "|      Jet Airways|     12/03/2019|Banglore|  New Delhi|     BLR → BOM → DEL|   22:55|08:15 13 Mar|  9h 20m|     1 stop|             No info|              0.0|        6.0|                  0.0|          16.0|         104.0|          0.0|                 24.0|             267.0|         2.0|              3.0|\n",
            "+-----------------+---------------+--------+-----------+--------------------+--------+------------+--------+-----------+--------------------+-----------------+-----------+---------------------+--------------+--------------+-------------+---------------------+------------------+------------+-----------------+\n",
            "only showing top 20 rows\n",
            "\n"
          ],
          "name": "stdout"
        }
      ]
    },
    {
      "cell_type": "code",
      "metadata": {
        "id": "yF6SiBvqpaxj"
      },
      "source": [
        "new_test_df = indexed.drop(*['Airline',\r\n",
        "                             'Date_of_Journey',\r\n",
        "                              'Source',\r\n",
        "                              'Destination',\r\n",
        "                              'Route',\r\n",
        "                              'Dep_Time',\r\n",
        "                              'Arrival_Time',\r\n",
        "                              'Duration',\r\n",
        "                              'Total_Stops',\r\n",
        "                              'Additional_Info'])\r\n"
      ],
      "execution_count": null,
      "outputs": []
    },
    {
      "cell_type": "code",
      "metadata": {
        "colab": {
          "base_uri": "https://localhost:8080/"
        },
        "id": "Bm3Ta95seJ99",
        "outputId": "fc04f765-d6fb-4d85-c8c8-c652a422a0b1"
      },
      "source": [
        "new_test_df.show()"
      ],
      "execution_count": null,
      "outputs": [
        {
          "output_type": "stream",
          "text": [
            "+-----------------+-----------+---------------------+--------------+--------------+-------------+---------------------+------------------+------------+-----------------+\n",
            "|Total_Stops_index|Route_index|Additional_Info_index|Duration_index|Dep_Time_index|Airline_index|Date_of_Journey_index|Arrival_Time_index|Source_index|Destination_index|\n",
            "+-----------------+-----------+---------------------+--------------+--------------+-------------+---------------------+------------------+------------+-----------------+\n",
            "|              0.0|        0.0|                  0.0|         167.0|          48.0|          0.0|                  3.0|              32.0|         0.0|              0.0|\n",
            "|              0.0|       19.0|                  0.0|         222.0|          69.0|          1.0|                 18.0|             204.0|         1.0|              1.0|\n",
            "|              0.0|        0.0|                  1.0|         132.0|          74.0|          0.0|                  5.0|             137.0|         0.0|              0.0|\n",
            "|              0.0|        0.0|                  0.0|          23.0|           6.0|          3.0|                  5.0|               1.0|         0.0|              0.0|\n",
            "|              1.0|        1.0|                  0.0|           0.0|         139.0|          6.0|                 12.0|             444.0|         2.0|              2.0|\n",
            "|              0.0|        0.0|                  1.0|          54.0|          52.0|          0.0|                  1.0|             113.0|         0.0|              0.0|\n",
            "|              0.0|       64.0|                  0.0|         151.0|          32.0|          2.0|                 24.0|              12.0|         2.0|              3.0|\n",
            "|              0.0|       14.0|                  0.0|          11.0|          10.0|          1.0|                 21.0|              40.0|         1.0|              1.0|\n",
            "|              1.0|        3.0|                  0.0|           2.0|         100.0|          1.0|                 27.0|              23.0|         1.0|              1.0|\n",
            "|              0.0|        2.0|                  0.0|          85.0|          22.0|          0.0|                  2.0|              12.0|         1.0|              1.0|\n",
            "|              2.0|       39.0|                  1.0|         295.0|          65.0|          0.0|                  9.0|              83.0|         0.0|              0.0|\n",
            "|              0.0|        7.0|                  0.0|          16.0|          38.0|          1.0|                  7.0|               4.0|         0.0|              0.0|\n",
            "|              0.0|        0.0|                  0.0|          14.0|           5.0|          3.0|                  6.0|               2.0|         0.0|              0.0|\n",
            "|              0.0|        6.0|                  0.0|         164.0|          26.0|          0.0|                 24.0|             547.0|         2.0|              3.0|\n",
            "|              0.0|        0.0|                  1.0|         243.0|          74.0|          0.0|                 10.0|              94.0|         0.0|              0.0|\n",
            "|              0.0|        6.0|                  0.0|         119.0|          27.0|          0.0|                 28.0|             184.0|         2.0|              3.0|\n",
            "|              0.0|        7.0|                  0.0|          87.0|          51.0|          3.0|                  3.0|               8.0|         0.0|              0.0|\n",
            "|              0.0|        5.0|                  0.0|          51.0|         109.0|          5.0|                 14.0|             167.0|         1.0|              1.0|\n",
            "|              0.0|        0.0|                  1.0|         166.0|          74.0|          0.0|                  1.0|              45.0|         0.0|              0.0|\n",
            "|              0.0|        6.0|                  0.0|          16.0|         104.0|          0.0|                 24.0|             267.0|         2.0|              3.0|\n",
            "+-----------------+-----------+---------------------+--------------+--------------+-------------+---------------------+------------------+------------+-----------------+\n",
            "only showing top 20 rows\n",
            "\n"
          ],
          "name": "stdout"
        }
      ]
    },
    {
      "cell_type": "code",
      "metadata": {
        "colab": {
          "base_uri": "https://localhost:8080/"
        },
        "id": "M_HKRYHVp1r_",
        "outputId": "e34f93e2-cad5-4246-9a7c-8984c3a53a4f"
      },
      "source": [
        "assembler = VectorAssembler(\r\n",
        "    inputCols=[x for x in new_test_df.columns],\r\n",
        "    outputCol='features')\r\n",
        "\r\n",
        "output_test_df = assembler.transform(new_test_df)\r\n",
        "output_test_df.show()"
      ],
      "execution_count": null,
      "outputs": [
        {
          "output_type": "stream",
          "text": [
            "+-----------------+-----------+---------------------+--------------+--------------+-------------+---------------------+------------------+------------+-----------------+--------------------+\n",
            "|Total_Stops_index|Route_index|Additional_Info_index|Duration_index|Dep_Time_index|Airline_index|Date_of_Journey_index|Arrival_Time_index|Source_index|Destination_index|            features|\n",
            "+-----------------+-----------+---------------------+--------------+--------------+-------------+---------------------+------------------+------------+-----------------+--------------------+\n",
            "|              0.0|        0.0|                  0.0|         167.0|          48.0|          0.0|                  3.0|              32.0|         0.0|              0.0|(10,[3,4,6,7],[16...|\n",
            "|              0.0|       19.0|                  0.0|         222.0|          69.0|          1.0|                 18.0|             204.0|         1.0|              1.0|[0.0,19.0,0.0,222...|\n",
            "|              0.0|        0.0|                  1.0|         132.0|          74.0|          0.0|                  5.0|             137.0|         0.0|              0.0|(10,[2,3,4,6,7],[...|\n",
            "|              0.0|        0.0|                  0.0|          23.0|           6.0|          3.0|                  5.0|               1.0|         0.0|              0.0|(10,[3,4,5,6,7],[...|\n",
            "|              1.0|        1.0|                  0.0|           0.0|         139.0|          6.0|                 12.0|             444.0|         2.0|              2.0|[1.0,1.0,0.0,0.0,...|\n",
            "|              0.0|        0.0|                  1.0|          54.0|          52.0|          0.0|                  1.0|             113.0|         0.0|              0.0|(10,[2,3,4,6,7],[...|\n",
            "|              0.0|       64.0|                  0.0|         151.0|          32.0|          2.0|                 24.0|              12.0|         2.0|              3.0|[0.0,64.0,0.0,151...|\n",
            "|              0.0|       14.0|                  0.0|          11.0|          10.0|          1.0|                 21.0|              40.0|         1.0|              1.0|[0.0,14.0,0.0,11....|\n",
            "|              1.0|        3.0|                  0.0|           2.0|         100.0|          1.0|                 27.0|              23.0|         1.0|              1.0|[1.0,3.0,0.0,2.0,...|\n",
            "|              0.0|        2.0|                  0.0|          85.0|          22.0|          0.0|                  2.0|              12.0|         1.0|              1.0|[0.0,2.0,0.0,85.0...|\n",
            "|              2.0|       39.0|                  1.0|         295.0|          65.0|          0.0|                  9.0|              83.0|         0.0|              0.0|[2.0,39.0,1.0,295...|\n",
            "|              0.0|        7.0|                  0.0|          16.0|          38.0|          1.0|                  7.0|               4.0|         0.0|              0.0|[0.0,7.0,0.0,16.0...|\n",
            "|              0.0|        0.0|                  0.0|          14.0|           5.0|          3.0|                  6.0|               2.0|         0.0|              0.0|(10,[3,4,5,6,7],[...|\n",
            "|              0.0|        6.0|                  0.0|         164.0|          26.0|          0.0|                 24.0|             547.0|         2.0|              3.0|[0.0,6.0,0.0,164....|\n",
            "|              0.0|        0.0|                  1.0|         243.0|          74.0|          0.0|                 10.0|              94.0|         0.0|              0.0|(10,[2,3,4,6,7],[...|\n",
            "|              0.0|        6.0|                  0.0|         119.0|          27.0|          0.0|                 28.0|             184.0|         2.0|              3.0|[0.0,6.0,0.0,119....|\n",
            "|              0.0|        7.0|                  0.0|          87.0|          51.0|          3.0|                  3.0|               8.0|         0.0|              0.0|[0.0,7.0,0.0,87.0...|\n",
            "|              0.0|        5.0|                  0.0|          51.0|         109.0|          5.0|                 14.0|             167.0|         1.0|              1.0|[0.0,5.0,0.0,51.0...|\n",
            "|              0.0|        0.0|                  1.0|         166.0|          74.0|          0.0|                  1.0|              45.0|         0.0|              0.0|(10,[2,3,4,6,7],[...|\n",
            "|              0.0|        6.0|                  0.0|          16.0|         104.0|          0.0|                 24.0|             267.0|         2.0|              3.0|[0.0,6.0,0.0,16.0...|\n",
            "+-----------------+-----------+---------------------+--------------+--------------+-------------+---------------------+------------------+------------+-----------------+--------------------+\n",
            "only showing top 20 rows\n",
            "\n"
          ],
          "name": "stdout"
        }
      ]
    },
    {
      "cell_type": "code",
      "metadata": {
        "colab": {
          "base_uri": "https://localhost:8080/"
        },
        "id": "I-5sQWENqIB0",
        "outputId": "70f61d02-0050-42c8-d2f8-1b2b523fe67c"
      },
      "source": [
        "finalized_test_data = output_test_df.select('features')\r\n",
        "finalized_test_data.show()"
      ],
      "execution_count": null,
      "outputs": [
        {
          "output_type": "stream",
          "text": [
            "+--------------------+\n",
            "|            features|\n",
            "+--------------------+\n",
            "|(10,[3,4,6,7],[16...|\n",
            "|[0.0,19.0,0.0,222...|\n",
            "|(10,[2,3,4,6,7],[...|\n",
            "|(10,[3,4,5,6,7],[...|\n",
            "|[1.0,1.0,0.0,0.0,...|\n",
            "|(10,[2,3,4,6,7],[...|\n",
            "|[0.0,64.0,0.0,151...|\n",
            "|[0.0,14.0,0.0,11....|\n",
            "|[1.0,3.0,0.0,2.0,...|\n",
            "|[0.0,2.0,0.0,85.0...|\n",
            "|[2.0,39.0,1.0,295...|\n",
            "|[0.0,7.0,0.0,16.0...|\n",
            "|(10,[3,4,5,6,7],[...|\n",
            "|[0.0,6.0,0.0,164....|\n",
            "|(10,[2,3,4,6,7],[...|\n",
            "|[0.0,6.0,0.0,119....|\n",
            "|[0.0,7.0,0.0,87.0...|\n",
            "|[0.0,5.0,0.0,51.0...|\n",
            "|(10,[2,3,4,6,7],[...|\n",
            "|[0.0,6.0,0.0,16.0...|\n",
            "+--------------------+\n",
            "only showing top 20 rows\n",
            "\n"
          ],
          "name": "stdout"
        }
      ]
    },
    {
      "cell_type": "code",
      "metadata": {
        "colab": {
          "base_uri": "https://localhost:8080/"
        },
        "id": "_Rw1W5zcqWaH",
        "outputId": "86fcbc59-e1a8-4d1e-9216-7b9047dbf693"
      },
      "source": [
        "train_df.show()"
      ],
      "execution_count": null,
      "outputs": [
        {
          "output_type": "stream",
          "text": [
            "+-----+--------------------+-----------------+---------------+--------+-----------+--------------------+--------+------------+--------+-----------+--------------------+\n",
            "|Price|            features|          Airline|Date_of_Journey|  Source|Destination|               Route|Dep_Time|Arrival_Time|Duration|Total_Stops|     Additional_Info|\n",
            "+-----+--------------------+-----------------+---------------+--------+-----------+--------------------+--------+------------+--------+-----------+--------------------+\n",
            "| 3897|(2136,[1,25,56,61...|           IndiGo|     24/03/2019|Banglore|  New Delhi|           BLR → DEL|   22:20|01:10 22 Mar|  2h 50m|   non-stop|             No info|\n",
            "| 7662|(2136,[2,30,55,59...|        Air India|      1/05/2019| Kolkata|   Banglore|CCU → IXR → BBI →...|   05:50|       13:15|  7h 25m|    2 stops|             No info|\n",
            "|13882|(2136,[0,14,54,58...|      Jet Airways|      9/06/2019|   Delhi|     Cochin|DEL → LKO → BOM →...|   09:25|04:25 10 Jun|     19h|    2 stops|             No info|\n",
            "| 6218|(2136,[1,31,55,59...|           IndiGo|     12/05/2019| Kolkata|   Banglore|     CCU → NAG → BLR|   18:05|       23:30|  5h 25m|     1 stop|             No info|\n",
            "|13302|(2136,[1,37,56,61...|           IndiGo|     01/03/2019|Banglore|  New Delhi|     BLR → NAG → DEL|   16:50|       21:35|  4h 45m|     1 stop|             No info|\n",
            "| 3873|(2136,[4,21,55,59...|         SpiceJet|     24/06/2019| Kolkata|   Banglore|           CCU → BLR|   09:00|       11:25|  2h 25m|   non-stop|             No info|\n",
            "|11087|(2136,[0,38,56,61...|      Jet Airways|     12/03/2019|Banglore|  New Delhi|     BLR → BOM → DEL|   18:55|10:25 13 Mar| 15h 30m|     1 stop|In-flight meal no...|\n",
            "|22270|(2136,[0,37,56,61...|      Jet Airways|     01/03/2019|Banglore|  New Delhi|     BLR → BOM → DEL|   08:00|05:05 02 Mar|  21h 5m|     1 stop|             No info|\n",
            "|11087|(2136,[0,38,56,61...|      Jet Airways|     12/03/2019|Banglore|  New Delhi|     BLR → BOM → DEL|   08:55|10:25 13 Mar| 25h 30m|     1 stop|In-flight meal no...|\n",
            "| 8625|(2136,[3,19,54,58...|Multiple carriers|     27/05/2019|   Delhi|     Cochin|     DEL → BOM → COK|   11:25|       19:15|  7h 50m|     1 stop|             No info|\n",
            "| 8907|(2136,[2,22,54,58...|        Air India|      1/06/2019|   Delhi|     Cochin|     DEL → BLR → COK|   09:45|       23:00| 13h 15m|     1 stop|             No info|\n",
            "| 4174|(2136,[1,52,55,59...|           IndiGo|     18/04/2019| Kolkata|   Banglore|           CCU → BLR|   20:20|       22:55|  2h 35m|   non-stop|             No info|\n",
            "| 4667|(2136,[2,21,70,20...|        Air India|     24/06/2019| Chennai|    Kolkata|           MAA → CCU|   11:40|       13:55|  2h 15m|   non-stop|             No info|\n",
            "| 9663|(2136,[0,16,55,59...|      Jet Airways|      9/05/2019| Kolkata|   Banglore|     CCU → BOM → BLR|   21:10|09:20 10 May| 12h 10m|     1 stop|In-flight meal no...|\n",
            "| 4804|(2136,[1,48,55,59...|           IndiGo|     24/04/2019| Kolkata|   Banglore|           CCU → BLR|   17:15|       19:50|  2h 35m|   non-stop|             No info|\n",
            "|14011|(2136,[2,33,54,58...|        Air India|      3/03/2019|   Delhi|     Cochin|DEL → AMD → BOM →...|   16:40|19:15 04 Mar| 26h 35m|    2 stops|             No info|\n",
            "| 5830|(2136,[4,50,54,58...|         SpiceJet|     15/04/2019|   Delhi|     Cochin|     DEL → PNQ → COK|   08:45|       13:15|  4h 30m|     1 stop|             No info|\n",
            "|10262|(2136,[0,15,54,58...|      Jet Airways|     12/06/2019|   Delhi|     Cochin|     DEL → BOM → COK|   14:00|12:35 13 Jun| 22h 35m|     1 stop|In-flight meal no...|\n",
            "|13381|(2136,[2,15,54,58...|        Air India|     12/06/2019|   Delhi|     Cochin|DEL → CCU → BOM →...|   20:15|19:15 13 Jun|     23h|    2 stops|             No info|\n",
            "|12898|(2136,[0,19,54,58...|      Jet Airways|     27/05/2019|   Delhi|     Cochin|     DEL → BOM → COK|   16:00|12:35 28 May| 20h 35m|     1 stop|In-flight meal no...|\n",
            "+-----+--------------------+-----------------+---------------+--------+-----------+--------------------+--------+------------+--------+-----------+--------------------+\n",
            "only showing top 20 rows\n",
            "\n"
          ],
          "name": "stdout"
        }
      ]
    },
    {
      "cell_type": "code",
      "metadata": {
        "colab": {
          "base_uri": "https://localhost:8080/"
        },
        "id": "0xHeFEF_qeQS",
        "outputId": "dd5e2d16-d381-47f8-b7a9-b6012e98a241"
      },
      "source": [
        "finalized_train_df = train_df.select(\"features\", \"Price\")\r\n",
        "finalized_train_df.show()"
      ],
      "execution_count": null,
      "outputs": [
        {
          "output_type": "stream",
          "text": [
            "+--------------------+-----+\n",
            "|            features|Price|\n",
            "+--------------------+-----+\n",
            "|(2136,[1,25,56,61...| 3897|\n",
            "|(2136,[2,30,55,59...| 7662|\n",
            "|(2136,[0,14,54,58...|13882|\n",
            "|(2136,[1,31,55,59...| 6218|\n",
            "|(2136,[1,37,56,61...|13302|\n",
            "|(2136,[4,21,55,59...| 3873|\n",
            "|(2136,[0,38,56,61...|11087|\n",
            "|(2136,[0,37,56,61...|22270|\n",
            "|(2136,[0,38,56,61...|11087|\n",
            "|(2136,[3,19,54,58...| 8625|\n",
            "|(2136,[2,22,54,58...| 8907|\n",
            "|(2136,[1,52,55,59...| 4174|\n",
            "|(2136,[2,21,70,20...| 4667|\n",
            "|(2136,[0,16,55,59...| 9663|\n",
            "|(2136,[1,48,55,59...| 4804|\n",
            "|(2136,[2,33,54,58...|14011|\n",
            "|(2136,[4,50,54,58...| 5830|\n",
            "|(2136,[0,15,54,58...|10262|\n",
            "|(2136,[2,15,54,58...|13381|\n",
            "|(2136,[0,19,54,58...|12898|\n",
            "+--------------------+-----+\n",
            "only showing top 20 rows\n",
            "\n"
          ],
          "name": "stdout"
        }
      ]
    },
    {
      "cell_type": "code",
      "metadata": {
        "colab": {
          "base_uri": "https://localhost:8080/"
        },
        "id": "KZGYv-QIqufc",
        "outputId": "b7b3125f-0fc1-444e-cb52-860217758b92"
      },
      "source": [
        "training_data, testing_data = finalized_train_df.randomSplit([0.7,0.3], seed = 2018)\r\n",
        "print(\"Training Dataset Count: \" + str(training_data.count()))\r\n",
        "print(\"Testing Dataset Count: \" + str(testing_data.count()))"
      ],
      "execution_count": null,
      "outputs": [
        {
          "output_type": "stream",
          "text": [
            "Training Dataset Count: 7526\n",
            "Testing Dataset Count: 3157\n"
          ],
          "name": "stdout"
        }
      ]
    },
    {
      "cell_type": "code",
      "metadata": {
        "colab": {
          "base_uri": "https://localhost:8080/"
        },
        "id": "QQmOmkvFaFcT",
        "outputId": "33f458b0-4be7-4113-dec7-0716b5929e1b"
      },
      "source": [
        "testing_data.columns"
      ],
      "execution_count": null,
      "outputs": [
        {
          "output_type": "execute_result",
          "data": {
            "text/plain": [
              "['features', 'Price']"
            ]
          },
          "metadata": {
            "tags": []
          },
          "execution_count": 27
        }
      ]
    },
    {
      "cell_type": "code",
      "metadata": {
        "colab": {
          "base_uri": "https://localhost:8080/"
        },
        "id": "uOoI7FYOri5Y",
        "outputId": "ba9fe7c9-5d1b-4252-a648-8be4d940c7b0"
      },
      "source": [
        "from pyspark.ml.regression import RandomForestRegressor\r\n",
        "\r\n",
        "rfr = RandomForestRegressor(labelCol=\"Price\", featuresCol=\"features\")\r\n",
        "rfrModel = rfr.fit(training_data)\r\n",
        "predictions = rfrModel.transform(testing_data)\r\n",
        "predictions.select(\"features\", \"Price\", \"prediction\").show()"
      ],
      "execution_count": null,
      "outputs": [
        {
          "output_type": "stream",
          "text": [
            "+--------------------+-----+------------------+\n",
            "|            features|Price|        prediction|\n",
            "+--------------------+-----+------------------+\n",
            "|(2136,[0,11,54,58...|15554|14548.097598340126|\n",
            "|(2136,[0,11,54,58...|15554|14548.097598340126|\n",
            "|(2136,[0,11,54,58...|12373|12190.698518329295|\n",
            "|(2136,[0,11,54,58...|12373|12190.698518329295|\n",
            "|(2136,[0,11,54,58...|12373|12190.698518329295|\n",
            "|(2136,[0,11,54,58...|12373|12190.698518329295|\n",
            "|(2136,[0,11,54,58...|15554|14548.097598340126|\n",
            "|(2136,[0,11,54,58...|12373|12190.698518329295|\n",
            "|(2136,[0,11,54,58...|12373|12190.698518329295|\n",
            "|(2136,[0,11,54,58...|12373|12190.698518329295|\n",
            "|(2136,[0,11,54,58...|12373|12190.698518329295|\n",
            "|(2136,[0,11,54,58...|12373|12190.698518329295|\n",
            "|(2136,[0,11,54,58...|12373|12190.698518329295|\n",
            "|(2136,[0,11,54,58...|12373|12190.698518329295|\n",
            "|(2136,[0,11,54,58...|12373|12190.698518329295|\n",
            "|(2136,[0,11,54,58...|13029|12869.923046451207|\n",
            "|(2136,[0,11,54,58...|15129|14139.478314954973|\n",
            "|(2136,[0,11,54,58...|15129|14139.478314954973|\n",
            "|(2136,[0,11,54,58...|15129|14139.478314954973|\n",
            "|(2136,[0,11,54,58...|10368| 10841.90328969037|\n",
            "+--------------------+-----+------------------+\n",
            "only showing top 20 rows\n",
            "\n"
          ],
          "name": "stdout"
        }
      ]
    },
    {
      "cell_type": "code",
      "metadata": {
        "colab": {
          "base_uri": "https://localhost:8080/"
        },
        "id": "cMRBkZHIvX4G",
        "outputId": "5b6d6045-7689-4aff-9e8c-ed33789ddb70"
      },
      "source": [
        "from pyspark.ml.evaluation import RegressionEvaluator\r\n",
        "\r\n",
        "evaluator = RegressionEvaluator(labelCol=\"Price\", predictionCol=\"prediction\", metricName=\"rmse\")\r\n",
        "rmse = evaluator.evaluate(predictions)\r\n",
        "print(\"Root Mean Squared Error (RMSE) on test data = %g\" % rmse)"
      ],
      "execution_count": null,
      "outputs": [
        {
          "output_type": "stream",
          "text": [
            "Root Mean Squared Error (RMSE) on test data = 1184.32\n"
          ],
          "name": "stdout"
        }
      ]
    },
    {
      "cell_type": "code",
      "metadata": {
        "colab": {
          "base_uri": "https://localhost:8080/"
        },
        "id": "50KZZ_Nvv3w_",
        "outputId": "7f8c41e5-79f0-4aa8-f56a-10055b0df1fe"
      },
      "source": [
        "from pyspark.ml.regression import GBTRegressor\r\n",
        "\r\n",
        "gbt = GBTRegressor(featuresCol=\"features\",labelCol=\"Price\", maxIter=10)\r\n",
        "gbtModel = gbt.fit(training_data)\r\n",
        "predictions_gbt = gbtModel.transform(testing_data)\r\n",
        "\r\n",
        "predictions_gbt.select(\"features\", \"Price\", \"prediction\").show()"
      ],
      "execution_count": null,
      "outputs": [
        {
          "output_type": "stream",
          "text": [
            "+--------------------+-----+------------------+\n",
            "|            features|Price|        prediction|\n",
            "+--------------------+-----+------------------+\n",
            "|(2136,[0,11,54,58...|15554|15860.540874969634|\n",
            "|(2136,[0,11,54,58...|15554|15860.540874969634|\n",
            "|(2136,[0,11,54,58...|12373|12136.887067455067|\n",
            "|(2136,[0,11,54,58...|12373|12136.887067455067|\n",
            "|(2136,[0,11,54,58...|12373|12136.887067455067|\n",
            "|(2136,[0,11,54,58...|12373|12136.887067455067|\n",
            "|(2136,[0,11,54,58...|15554|15860.540874969634|\n",
            "|(2136,[0,11,54,58...|12373|12136.887067455067|\n",
            "|(2136,[0,11,54,58...|12373|12136.887067455067|\n",
            "|(2136,[0,11,54,58...|12373|12136.887067455067|\n",
            "|(2136,[0,11,54,58...|12373|12136.887067455067|\n",
            "|(2136,[0,11,54,58...|12373|12136.887067455067|\n",
            "|(2136,[0,11,54,58...|12373|12136.887067455067|\n",
            "|(2136,[0,11,54,58...|12373|12136.887067455067|\n",
            "|(2136,[0,11,54,58...|12373|12136.887067455067|\n",
            "|(2136,[0,11,54,58...|13029|12851.156908724908|\n",
            "|(2136,[0,11,54,58...|15129|14734.428095165586|\n",
            "|(2136,[0,11,54,58...|15129|14734.428095165586|\n",
            "|(2136,[0,11,54,58...|15129|14734.428095165586|\n",
            "|(2136,[0,11,54,58...|10368|10746.414904460516|\n",
            "+--------------------+-----+------------------+\n",
            "only showing top 20 rows\n",
            "\n"
          ],
          "name": "stdout"
        }
      ]
    },
    {
      "cell_type": "code",
      "metadata": {
        "colab": {
          "base_uri": "https://localhost:8080/"
        },
        "id": "8a3xOLE5xW5G",
        "outputId": "d6e1103c-fac3-424b-8d49-d89fd11ec14a"
      },
      "source": [
        "evaluator = RegressionEvaluator(labelCol=\"Price\", predictionCol=\"prediction\", metricName=\"rmse\")\r\n",
        "rmse = evaluator.evaluate(predictions_gbt)\r\n",
        "print(\"Root Mean Squared Error (RMSE) on test data = %g\" % rmse)"
      ],
      "execution_count": null,
      "outputs": [
        {
          "output_type": "stream",
          "text": [
            "Root Mean Squared Error (RMSE) on test data = 893.155\n"
          ],
          "name": "stdout"
        }
      ]
    },
    {
      "cell_type": "code",
      "metadata": {
        "colab": {
          "base_uri": "https://localhost:8080/"
        },
        "id": "eAPtuhBJEfzk",
        "outputId": "b75ad604-e630-4c51-e059-14b8d2ec208b"
      },
      "source": [
        "from pyspark.ml.evaluation import BinaryClassificationEvaluator\r\n",
        "evaluator = BinaryClassificationEvaluator(labelCol=\"Price\", rawPredictionCol='prediction')\r\n",
        "print(\"Test_SET (Area Under ROC): \" + str(evaluator.evaluate(predictions_gbt, {evaluator.metricName: \"areaUnderROC\"})))"
      ],
      "execution_count": null,
      "outputs": [
        {
          "output_type": "stream",
          "text": [
            "Test_SET (Area Under ROC): 1.0\n"
          ],
          "name": "stdout"
        }
      ]
    },
    {
      "cell_type": "code",
      "metadata": {
        "id": "vZJLGtdWKT-U"
      },
      "source": [
        ""
      ],
      "execution_count": null,
      "outputs": []
    },
    {
      "cell_type": "code",
      "metadata": {
        "id": "gClsvhYCKUBm"
      },
      "source": [
        ""
      ],
      "execution_count": null,
      "outputs": []
    },
    {
      "cell_type": "code",
      "metadata": {
        "id": "QbeCLYuQKUEM"
      },
      "source": [
        ""
      ],
      "execution_count": null,
      "outputs": []
    }
  ]
}