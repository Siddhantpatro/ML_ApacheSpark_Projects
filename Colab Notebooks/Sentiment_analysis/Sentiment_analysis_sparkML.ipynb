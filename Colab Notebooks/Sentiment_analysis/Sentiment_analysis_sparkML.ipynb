{
  "nbformat": 4,
  "nbformat_minor": 0,
  "metadata": {
    "colab": {
      "name": "Sentiment_analysis_sparkML.ipynb",
      "provenance": []
    },
    "kernelspec": {
      "name": "python3",
      "display_name": "Python 3"
    }
  },
  "cells": [
    {
      "cell_type": "code",
      "metadata": {
        "id": "DShzvgL88KyI"
      },
      "source": [
        "# install Java8\r\n",
        "!apt-get install openjdk-8-jdk-headless -qq > /dev/null\r\n",
        "\r\n",
        "#!apt-get update\r\n",
        "\r\n",
        "# download spark3.0.1\r\n",
        "!wget -q http://apache.osuosl.org/spark/spark-3.0.1/spark-3.0.1-bin-hadoop3.2.tgz\r\n",
        "\r\n",
        "# unzip it\r\n",
        "!tar xf spark-3.0.1-bin-hadoop3.2.tgz\r\n",
        "\r\n",
        "# install findspark \r\n",
        "!pip install -q findspark\r\n",
        "\r\n",
        "# environmental variable of java and sp ark was set\r\n",
        "import os\r\n",
        "os.environ[\"JAVA_HOME\"] = \"/usr/lib/jvm/java-8-openjdk-amd64\"\r\n",
        "os.environ[\"SPARK_HOME\"] = \"/content/spark-3.0.1-bin-hadoop3.2\"\r\n",
        "\r\n",
        "import findspark\r\n",
        "findspark.init()"
      ],
      "execution_count": 1,
      "outputs": []
    },
    {
      "cell_type": "code",
      "metadata": {
        "id": "exCUKvGa974T"
      },
      "source": [
        "# Creating spark session\r\n",
        "\r\n",
        "from pyspark.sql import SparkSession\r\n",
        "spark = SparkSession.builder.appName('Sentiment_analysis').getOrCreate()"
      ],
      "execution_count": 3,
      "outputs": []
    },
    {
      "cell_type": "code",
      "metadata": {
        "id": "Tz4Pb1EG-EDY"
      },
      "source": [
        "# Importing libraries\r\n",
        "\r\n",
        "import pandas as pd\r\n",
        "\r\n",
        "from pyspark.ml.classification import LogisticRegression, LinearSVC\r\n",
        "from pyspark.ml.feature import HashingTF, Tokenizer, StopWordsRemover\r\n",
        "\r\n",
        "from pyspark.sql.functions import *\r\n",
        "from pyspark.sql.types import *"
      ],
      "execution_count": 4,
      "outputs": []
    },
    {
      "cell_type": "code",
      "metadata": {
        "colab": {
          "resources": {
            "http://localhost:8080/nbextensions/google.colab/files.js": {
              "data": "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",
              "ok": true,
              "headers": [
                [
                  "content-type",
                  "application/javascript"
                ]
              ],
              "status": 200,
              "status_text": ""
            }
          },
          "base_uri": "https://localhost:8080/",
          "height": 106
        },
        "id": "T3pe3i0j-EFr",
        "outputId": "d0643a01-66d6-441c-f57b-ad95d2b57b82"
      },
      "source": [
        "# Uploading files from local disk\r\n",
        "\r\n",
        "from google.colab import files\r\n",
        "uploaded = files.upload()"
      ],
      "execution_count": 29,
      "outputs": [
        {
          "output_type": "display_data",
          "data": {
            "text/html": [
              "\n",
              "     <input type=\"file\" id=\"files-2ff3d124-2ccc-4839-b20a-4aebfd62af75\" name=\"files[]\" multiple disabled\n",
              "        style=\"border:none\" />\n",
              "     <output id=\"result-2ff3d124-2ccc-4839-b20a-4aebfd62af75\">\n",
              "      Upload widget is only available when the cell has been executed in the\n",
              "      current browser session. Please rerun this cell to enable.\n",
              "      </output>\n",
              "      <script src=\"/nbextensions/google.colab/files.js\"></script> "
            ],
            "text/plain": [
              "<IPython.core.display.HTML object>"
            ]
          },
          "metadata": {
            "tags": []
          }
        },
        {
          "output_type": "stream",
          "text": [
            "Saving test.csv to test (1).csv\n",
            "Saving train.csv to train (1).csv\n"
          ],
          "name": "stdout"
        }
      ]
    },
    {
      "cell_type": "code",
      "metadata": {
        "colab": {
          "base_uri": "https://localhost:8080/"
        },
        "id": "r5ytarwu-EIi",
        "outputId": "fa0442a7-1ae1-44f9-9dd5-7b4c16bee9df"
      },
      "source": [
        "# Train CSV\r\n",
        "tweets_csv = spark.read.csv(\"train.csv\", inferSchema = True, header = True)\r\n",
        "print(\"Train CSV:- \")\r\n",
        "tweets_csv.show()\r\n",
        "\r\n",
        "# Test CSV\r\n",
        "tweets_test_csv = spark.read.csv(\"test.csv\", inferSchema = True, header = True)\r\n",
        "print(\"Test CSV:- \")\r\n",
        "tweets_test_csv.show()"
      ],
      "execution_count": 40,
      "outputs": [
        {
          "output_type": "stream",
          "text": [
            "Train CSV:- \n",
            "+---+-----+--------------------+\n",
            "| id|label|               tweet|\n",
            "+---+-----+--------------------+\n",
            "|  1|    0| @user when a fat...|\n",
            "|  2|    0|@user @user thank...|\n",
            "|  3|    0|  bihday your maj...|\n",
            "|  4|    0|#model   i love u...|\n",
            "|  5|    0| factsguide: soci...|\n",
            "|  6|    0|[2/2] huge fan fa...|\n",
            "|  7|    0| @user camping to...|\n",
            "|  8|    0|the next school y...|\n",
            "|  9|    0|we won!!! love th...|\n",
            "| 10|    0| @user @user welc...|\n",
            "| 11|    0| â #ireland con...|\n",
            "| 12|    0|we are so selfish...|\n",
            "| 13|    0|i get to see my d...|\n",
            "| 14|    1|@user #cnn calls ...|\n",
            "| 15|    1|no comment!  in #...|\n",
            "| 16|    0|ouch...junior is ...|\n",
            "| 17|    0|i am thankful for...|\n",
            "| 18|    1|retweet if you ag...|\n",
            "| 19|    0|its #friday! ð...|\n",
            "| 20|    0|as we all know, e...|\n",
            "+---+-----+--------------------+\n",
            "only showing top 20 rows\n",
            "\n",
            "Test CSV:- \n",
            "+-----+--------------------+\n",
            "|   id|               tweet|\n",
            "+-----+--------------------+\n",
            "|31963|#studiolife #aisl...|\n",
            "|31964| @user #white #su...|\n",
            "|31965|safe ways to heal...|\n",
            "|31966|is the hp and the...|\n",
            "|31967|  3rd #bihday to ...|\n",
            "|31968|choose to be   :)...|\n",
            "|31969|something inside ...|\n",
            "|31970|#finished#tattoo#...|\n",
            "|31971| @user @user @use...|\n",
            "|31972|#delicious   #foo...|\n",
            "|31973|1000dayswasted - ...|\n",
            "|31974|one of the world'...|\n",
            "|31975|half way through ...|\n",
            "|31976|good food, good l...|\n",
            "|31977|i'll stand behind...|\n",
            "|31978|i ate,i ate and i...|\n",
            "|31979| @user got my @us...|\n",
            "|31980|&amp; #love &amp;...|\n",
            "|31981|ð­ðð #gir...|\n",
            "|31982|thought factory: ...|\n",
            "+-----+--------------------+\n",
            "only showing top 20 rows\n",
            "\n"
          ],
          "name": "stdout"
        }
      ]
    },
    {
      "cell_type": "code",
      "metadata": {
        "colab": {
          "base_uri": "https://localhost:8080/"
        },
        "id": "PIqjYkqIAn0u",
        "outputId": "7fde4378-066f-4a36-d212-c4b7df82cb88"
      },
      "source": [
        "# Splitting of Train CSV intp training_data and testing_data\r\n",
        "\r\n",
        "training_data, testing_data = tweets_csv.randomSplit([0.7,0.3], seed = 2018)\r\n",
        "print(\"Training Dataset Count: \" + str(training_data.count()))\r\n",
        "print(\"Testing Dataset Count: \" + str(testing_data.count()))"
      ],
      "execution_count": 9,
      "outputs": [
        {
          "output_type": "stream",
          "text": [
            "Training Dataset Count: 22418\n",
            "Testing Dataset Count: 9544\n"
          ],
          "name": "stdout"
        }
      ]
    },
    {
      "cell_type": "code",
      "metadata": {
        "colab": {
          "base_uri": "https://localhost:8080/"
        },
        "id": "TyYDZBMhBnJI",
        "outputId": "94e311c6-71ee-4810-858e-df825bf46da8"
      },
      "source": [
        "# Tokenizer helps in splitting of the tweets/sentence \r\n",
        "\r\n",
        "tokenizer = Tokenizer(inputCol = 'tweet', outputCol = 'tweet_Words')\r\n",
        "tokenizedTrain = tokenizer.transform(training_data)\r\n",
        "tokenizedTrain.show()"
      ],
      "execution_count": 11,
      "outputs": [
        {
          "output_type": "stream",
          "text": [
            "+---+-----+--------------------+--------------------+\n",
            "| id|label|               tweet|         tweet_Words|\n",
            "+---+-----+--------------------+--------------------+\n",
            "|  2|    0|@user @user thank...|[@user, @user, th...|\n",
            "|  3|    0|  bihday your maj...|[, , bihday, your...|\n",
            "|  4|    0|#model   i love u...|[#model, , , i, l...|\n",
            "|  5|    0| factsguide: soci...|[, factsguide:, s...|\n",
            "|  6|    0|[2/2] huge fan fa...|[[2/2], huge, fan...|\n",
            "|  7|    0| @user camping to...|[, @user, camping...|\n",
            "|  8|    0|the next school y...|[the, next, schoo...|\n",
            "| 10|    0| @user @user welc...|[, @user, @user, ...|\n",
            "| 11|    0| â #ireland con...|[, â, #ireland,...|\n",
            "| 14|    1|@user #cnn calls ...|[@user, #cnn, cal...|\n",
            "| 15|    1|no comment!  in #...|[no, comment!, , ...|\n",
            "| 16|    0|ouch...junior is ...|[ouch...junior, i...|\n",
            "| 18|    1|retweet if you ag...|[retweet, if, you...|\n",
            "| 19|    0|its #friday! ð...|[its, #friday!, ð...|\n",
            "| 21|    0|#euro2016 people ...|[#euro2016, peopl...|\n",
            "| 22|    0|sad little dude.....|[sad, little, dud...|\n",
            "| 23|    0|product of the da...|[product, of, the...|\n",
            "| 25|    0| @user #tgif   #f...|[, @user, #tgif, ...|\n",
            "| 26|    0|beautiful sign by...|[beautiful, sign,...|\n",
            "| 27|    0| @user all #smile...|[, @user, all, #s...|\n",
            "+---+-----+--------------------+--------------------+\n",
            "only showing top 20 rows\n",
            "\n"
          ],
          "name": "stdout"
        }
      ]
    },
    {
      "cell_type": "code",
      "metadata": {
        "colab": {
          "base_uri": "https://localhost:8080/"
        },
        "id": "jPQrnvfACHMS",
        "outputId": "fec0c1ea-485f-4b63-db9c-20bdb6d65695"
      },
      "source": [
        "# Stop word remover filters out stop words from input\r\n",
        "\r\n",
        "swr = StopWordsRemover(inputCol = tokenizer.getOutputCol(), outputCol = \"Meaningful_Words\")\r\n",
        "swr_train = swr.transform(tokenizedTrain)\r\n",
        "swr_train.show()"
      ],
      "execution_count": 14,
      "outputs": [
        {
          "output_type": "stream",
          "text": [
            "+---+-----+--------------------+--------------------+--------------------+\n",
            "| id|label|               tweet|         tweet_Words|    Meaningful_Words|\n",
            "+---+-----+--------------------+--------------------+--------------------+\n",
            "|  2|    0|@user @user thank...|[@user, @user, th...|[@user, @user, th...|\n",
            "|  3|    0|  bihday your maj...|[, , bihday, your...|[, , bihday, maje...|\n",
            "|  4|    0|#model   i love u...|[#model, , , i, l...|[#model, , , love...|\n",
            "|  5|    0| factsguide: soci...|[, factsguide:, s...|[, factsguide:, s...|\n",
            "|  6|    0|[2/2] huge fan fa...|[[2/2], huge, fan...|[[2/2], huge, fan...|\n",
            "|  7|    0| @user camping to...|[, @user, camping...|[, @user, camping...|\n",
            "|  8|    0|the next school y...|[the, next, schoo...|[next, school, ye...|\n",
            "| 10|    0| @user @user welc...|[, @user, @user, ...|[, @user, @user, ...|\n",
            "| 11|    0| â #ireland con...|[, â, #ireland,...|[, â, #ireland,...|\n",
            "| 14|    1|@user #cnn calls ...|[@user, #cnn, cal...|[@user, #cnn, cal...|\n",
            "| 15|    1|no comment!  in #...|[no, comment!, , ...|[comment!, , #aus...|\n",
            "| 16|    0|ouch...junior is ...|[ouch...junior, i...|[ouch...junior, a...|\n",
            "| 18|    1|retweet if you ag...|[retweet, if, you...|   [retweet, agree!]|\n",
            "| 19|    0|its #friday! ð...|[its, #friday!, ð...|[#friday!, ð, ...|\n",
            "| 21|    0|#euro2016 people ...|[#euro2016, peopl...|[#euro2016, peopl...|\n",
            "| 22|    0|sad little dude.....|[sad, little, dud...|[sad, little, dud...|\n",
            "| 23|    0|product of the da...|[product, of, the...|[product, day:, h...|\n",
            "| 25|    0| @user #tgif   #f...|[, @user, #tgif, ...|[, @user, #tgif, ...|\n",
            "| 26|    0|beautiful sign by...|[beautiful, sign,...|[beautiful, sign,...|\n",
            "| 27|    0| @user all #smile...|[, @user, all, #s...|[, @user, #smiles...|\n",
            "+---+-----+--------------------+--------------------+--------------------+\n",
            "only showing top 20 rows\n",
            "\n"
          ],
          "name": "stdout"
        }
      ]
    },
    {
      "cell_type": "code",
      "metadata": {
        "colab": {
          "base_uri": "https://localhost:8080/"
        },
        "id": "8SvgZoztDCiD",
        "outputId": "46de86a0-20b6-4755-eee2-9e42a5ad3459"
      },
      "source": [
        "# converts tweets to vector\r\n",
        "\r\n",
        "hashTF = HashingTF(inputCol = swr.getOutputCol(), outputCol = \"features\")\r\n",
        "numeric_train_data = hashTF.transform(swr_train).select('label', 'Meaningful_Words', 'features')\r\n",
        "numeric_train_data.show() "
      ],
      "execution_count": 15,
      "outputs": [
        {
          "output_type": "stream",
          "text": [
            "+-----+--------------------+--------------------+\n",
            "|label|    Meaningful_Words|            features|\n",
            "+-----+--------------------+--------------------+\n",
            "|    0|[@user, @user, th...|(262144,[3824,118...|\n",
            "|    0|[, , bihday, maje...|(262144,[120737,1...|\n",
            "|    0|[#model, , , love...|(262144,[19056,44...|\n",
            "|    0|[, factsguide:, s...|(262144,[16578,23...|\n",
            "|    0|[[2/2], huge, fan...|(262144,[31097,40...|\n",
            "|    0|[, @user, camping...|(262144,[11879,29...|\n",
            "|    0|[next, school, ye...|(262144,[43994,54...|\n",
            "|    0|[, @user, @user, ...|(262144,[11879,19...|\n",
            "|    0|[, â, #ireland,...|(262144,[28227,38...|\n",
            "|    1|[@user, #cnn, cal...|(262144,[11879,18...|\n",
            "|    1|[comment!, , #aus...|(262144,[5870,248...|\n",
            "|    0|[ouch...junior, a...|(262144,[71088,72...|\n",
            "|    1|   [retweet, agree!]|(262144,[20326,13...|\n",
            "|    0|[#friday!, ð, ...|(262144,[11879,63...|\n",
            "|    0|[#euro2016, peopl...|(262144,[8421,912...|\n",
            "|    0|[sad, little, dud...|(262144,[30150,79...|\n",
            "|    0|[product, day:, h...|(262144,[19247,33...|\n",
            "|    0|[, @user, #tgif, ...|(262144,[11879,87...|\n",
            "|    0|[beautiful, sign,...|(262144,[12826,55...|\n",
            "|    0|[, @user, #smiles...|(262144,[11879,22...|\n",
            "+-----+--------------------+--------------------+\n",
            "only showing top 20 rows\n",
            "\n"
          ],
          "name": "stdout"
        }
      ]
    },
    {
      "cell_type": "code",
      "metadata": {
        "colab": {
          "base_uri": "https://localhost:8080/"
        },
        "id": "3m4qq2kgD8Ts",
        "outputId": "4544bc70-8e6c-4cc4-97b4-2836f646e1c6"
      },
      "source": [
        "# LogisticRegression algorithm is used\r\n",
        "\r\n",
        "lr = LogisticRegression(labelCol = \"label\", featuresCol = \"features\", maxIter = 10)\r\n",
        "lr_model = lr.fit(numeric_train_data)\r\n",
        "print(\"Training on train_data using Logistic regression is done !\")"
      ],
      "execution_count": 36,
      "outputs": [
        {
          "output_type": "stream",
          "text": [
            "Training on train_data using Logistic regression is done !\n"
          ],
          "name": "stdout"
        }
      ]
    },
    {
      "cell_type": "code",
      "metadata": {
        "colab": {
          "base_uri": "https://localhost:8080/"
        },
        "id": "ZUffXCe0MuAs",
        "outputId": "d87e2f0b-e04c-4039-e784-91405719e721"
      },
      "source": [
        "# Linear support vector algorithm is used\r\n",
        "\r\n",
        "lsvc = LinearSVC(labelCol = \"label\",featuresCol='features', maxIter=10, regParam=0.1)\r\n",
        "lsvcModel = lsvc.fit(numeric_train_data)\r\n",
        "print(\"Training on train_data using SVM is done !\")\r\n"
      ],
      "execution_count": 31,
      "outputs": [
        {
          "output_type": "stream",
          "text": [
            "Training on train_data using SVM is done !\n"
          ],
          "name": "stdout"
        }
      ]
    },
    {
      "cell_type": "code",
      "metadata": {
        "colab": {
          "base_uri": "https://localhost:8080/"
        },
        "id": "8OpOp1t4Epfo",
        "outputId": "4ea65f98-c328-41d9-843a-27e54ac7528a"
      },
      "source": [
        "# Working on testing_data\r\n",
        "\r\n",
        "tokenizedTest = tokenizer.transform(testing_data)\r\n",
        "swr_test = swr.transform(tokenizedTest)\r\n",
        "numeric_test_data = hashTF.transform(swr_test).select(\"label\", \"Meaningful_Words\", \"features\")\r\n",
        "numeric_test_data.show()"
      ],
      "execution_count": 18,
      "outputs": [
        {
          "output_type": "stream",
          "text": [
            "+-----+--------------------+--------------------+\n",
            "|label|    Meaningful_Words|            features|\n",
            "+-----+--------------------+--------------------+\n",
            "|    0|[, @user, father,...|(262144,[11879,26...|\n",
            "|    0|[won!!!, love, la...|(262144,[11334,29...|\n",
            "|    0|[selfish., #orlan...|(262144,[17060,95...|\n",
            "|    0|[get, see, daddy,...|(262144,[8538,146...|\n",
            "|    0|[thankful, paner....|(262144,[23177,36...|\n",
            "|    0|[know,, essential...|(262144,[35415,73...|\n",
            "|    1|[@user, @user, lu...|(262144,[11879,45...|\n",
            "|    0|[never, chance, v...|(262144,[49918,10...|\n",
            "|    0|[, @user, rip, fe...|(262144,[8411,912...|\n",
            "|    0|[hard, monday, du...|(262144,[2437,289...|\n",
            "|    0|[#taylorswift1989...|(262144,[95411,14...|\n",
            "|    0|[thankful, sunshi...|(262144,[23177,84...|\n",
            "|    0|[life, social, ne...|(262144,[303,4920...|\n",
            "|    0|[mom, shares, bih...|(262144,[8538,118...|\n",
            "|    0|[best, pa, life, ...|(262144,[8421,992...|\n",
            "|    0|[christina, grimm...|(262144,[5381,118...|\n",
            "|    0|[@user, wife, ado...|(262144,[11879,35...|\n",
            "|    1|[ð©the, white, ...|(262144,[24035,27...|\n",
            "|    0|[good, morning!, ...|(262144,[49971,75...|\n",
            "|    0|[aced, first, tes...|(262144,[81336,10...|\n",
            "+-----+--------------------+--------------------+\n",
            "only showing top 20 rows\n",
            "\n"
          ],
          "name": "stdout"
        }
      ]
    },
    {
      "cell_type": "code",
      "metadata": {
        "colab": {
          "base_uri": "https://localhost:8080/"
        },
        "id": "Wcx9qebAFKPt",
        "outputId": "a4aa4207-c170-4d7c-b556-ab1ee7b8728b"
      },
      "source": [
        "# Using logistic regression model for prediction on testing_data\r\n",
        "\r\n",
        "prediction = lr_model.transform(numeric_test_data)\r\n",
        "prediction_final = prediction.select(\"Meaningful_Words\", \"label\", \"Prediction\")\r\n",
        "\r\n",
        "prediction_final.show()\r\n",
        "\r\n",
        "correct_prediction = prediction_final.filter(prediction_final['prediction'] == prediction_final['label']).count() \r\n",
        "\r\n",
        "total_data = prediction_final.count()\r\n",
        "\r\n",
        "print(\"Correct prediction: \", correct_prediction, \", total data: \", total_data, \", accuracy: \", correct_prediction/total_data)"
      ],
      "execution_count": 19,
      "outputs": [
        {
          "output_type": "stream",
          "text": [
            "+--------------------+-----+----------+\n",
            "|    Meaningful_Words|label|Prediction|\n",
            "+--------------------+-----+----------+\n",
            "|[, @user, father,...|    0|       0.0|\n",
            "|[won!!!, love, la...|    0|       0.0|\n",
            "|[selfish., #orlan...|    0|       0.0|\n",
            "|[get, see, daddy,...|    0|       0.0|\n",
            "|[thankful, paner....|    0|       0.0|\n",
            "|[know,, essential...|    0|       0.0|\n",
            "|[@user, @user, lu...|    1|       0.0|\n",
            "|[never, chance, v...|    0|       0.0|\n",
            "|[, @user, rip, fe...|    0|       0.0|\n",
            "|[hard, monday, du...|    0|       0.0|\n",
            "|[#taylorswift1989...|    0|       0.0|\n",
            "|[thankful, sunshi...|    0|       0.0|\n",
            "|[life, social, ne...|    0|       0.0|\n",
            "|[mom, shares, bih...|    0|       0.0|\n",
            "|[best, pa, life, ...|    0|       0.0|\n",
            "|[christina, grimm...|    0|       0.0|\n",
            "|[@user, wife, ado...|    0|       0.0|\n",
            "|[ð©the, white, ...|    1|       1.0|\n",
            "|[good, morning!, ...|    0|       0.0|\n",
            "|[aced, first, tes...|    0|       0.0|\n",
            "+--------------------+-----+----------+\n",
            "only showing top 20 rows\n",
            "\n",
            "Correct prediction:  9121 , total data:  9544 , accuracy:  0.9556789606035205\n"
          ],
          "name": "stdout"
        }
      ]
    },
    {
      "cell_type": "code",
      "metadata": {
        "colab": {
          "base_uri": "https://localhost:8080/"
        },
        "id": "hazGq63oOhnz",
        "outputId": "567ee800-be66-435c-c369-ffff5453fc32"
      },
      "source": [
        "# Using linear support vector machines for prediction on testing_data\r\n",
        "\r\n",
        "pred_lsvc = lsvcModel.transform(numeric_test_data)\r\n",
        "pred_lsvc_final = pred_lsvc.select(\"Meaningful_Words\", \"label\", \"Prediction\")\r\n",
        "\r\n",
        "pred_lsvc_final.show()\r\n",
        "\r\n",
        "correct_pred_lsvc = pred_lsvc_final.filter(pred_lsvc_final['prediction'] == pred_lsvc_final['label']).count() \r\n",
        "\r\n",
        "total_data_lsvc = pred_lsvc_final.count()\r\n",
        "\r\n",
        "print(\"Correct prediction: \", correct_pred_lsvc, \", total data: \", total_data_lsvc, \", accuracy: \", correct_pred_lsvc/total_data_lsvc)"
      ],
      "execution_count": 35,
      "outputs": [
        {
          "output_type": "stream",
          "text": [
            "+--------------------+-----+----------+\n",
            "|    Meaningful_Words|label|Prediction|\n",
            "+--------------------+-----+----------+\n",
            "|[, @user, father,...|    0|       0.0|\n",
            "|[won!!!, love, la...|    0|       0.0|\n",
            "|[selfish., #orlan...|    0|       0.0|\n",
            "|[get, see, daddy,...|    0|       0.0|\n",
            "|[thankful, paner....|    0|       0.0|\n",
            "|[know,, essential...|    0|       0.0|\n",
            "|[@user, @user, lu...|    1|       1.0|\n",
            "|[never, chance, v...|    0|       0.0|\n",
            "|[, @user, rip, fe...|    0|       0.0|\n",
            "|[hard, monday, du...|    0|       0.0|\n",
            "|[#taylorswift1989...|    0|       0.0|\n",
            "|[thankful, sunshi...|    0|       0.0|\n",
            "|[life, social, ne...|    0|       0.0|\n",
            "|[mom, shares, bih...|    0|       0.0|\n",
            "|[best, pa, life, ...|    0|       0.0|\n",
            "|[christina, grimm...|    0|       0.0|\n",
            "|[@user, wife, ado...|    0|       0.0|\n",
            "|[ð©the, white, ...|    1|       1.0|\n",
            "|[good, morning!, ...|    0|       0.0|\n",
            "|[aced, first, tes...|    0|       0.0|\n",
            "+--------------------+-----+----------+\n",
            "only showing top 20 rows\n",
            "\n",
            "Correct prediction:  9140 , total data:  9544 , accuracy:  0.9576697401508801\n"
          ],
          "name": "stdout"
        }
      ]
    },
    {
      "cell_type": "code",
      "metadata": {
        "id": "o94siJmDQQno"
      },
      "source": [
        ""
      ],
      "execution_count": null,
      "outputs": []
    },
    {
      "cell_type": "markdown",
      "metadata": {
        "id": "ok1AxIBrQRSI"
      },
      "source": [
        "**Working on test csv data.**"
      ]
    },
    {
      "cell_type": "code",
      "metadata": {
        "colab": {
          "base_uri": "https://localhost:8080/"
        },
        "id": "xjICmUEjHt1x",
        "outputId": "30f34f5d-1903-490c-ff56-e3e4349fa3c0"
      },
      "source": [
        "# Tokenizing, stop word removing and hashing of the test csv dataset\r\n",
        "\r\n",
        "tokenizer_test_csv = Tokenizer(inputCol = 'tweet', outputCol = 'tweet_Words')\r\n",
        "tokenized = tokenizer.transform(tweets_test_csv)\r\n",
        "\r\n",
        "swr_test_csv = StopWordsRemover(inputCol = tokenizer_test_csv.getOutputCol(), outputCol = \"Meaningful_Words\")\r\n",
        "swr = swr_test_csv.transform(tokenized)\r\n",
        "\r\n",
        "hashTF_test_csv = HashingTF(inputCol = swr_test_csv.getOutputCol(), outputCol = \"features\")\r\n",
        "numeric = hashTF_test_csv.transform(swr).select('Meaningful_Words', 'features')\r\n",
        "numeric.show() "
      ],
      "execution_count": 25,
      "outputs": [
        {
          "output_type": "stream",
          "text": [
            "+--------------------+--------------------+\n",
            "|    Meaningful_Words|            features|\n",
            "+--------------------+--------------------+\n",
            "|[#studiolife, #ai...|(262144,[25986,70...|\n",
            "|[, @user, #white,...|(262144,[8538,857...|\n",
            "|[safe, ways, heal...|(262144,[11018,15...|\n",
            "|[hp, cursed, chil...|(262144,[53146,55...|\n",
            "|[, , 3rd, #bihday...|(262144,[40394,63...|\n",
            "|[choose, , , :), ...|(262144,[19528,46...|\n",
            "|[something, insid...|(262144,[4472,844...|\n",
            "|[#finished#tattoo...|(262144,[14254,58...|\n",
            "|[, @user, @user, ...|(262144,[11879,71...|\n",
            "|[#delicious, , , ...|(262144,[43875,12...|\n",
            "|[1000dayswasted, ...|(262144,[2035,386...|\n",
            "|[one, world's, gr...|(262144,[21823,49...|\n",
            "|[half, way, websi...|(262144,[17252,51...|\n",
            "|[good, food,, goo...|(262144,[36957,39...|\n",
            "|[stand, behind, #...|(262144,[15973,49...|\n",
            "|[ate,i, ate, ate....|(262144,[7242,265...|\n",
            "|[, @user, got, @u...|(262144,[11879,21...|\n",
            "|[&amp;, #love, &a...|(262144,[12980,32...|\n",
            "|[ð­ðð, #g...|(262144,[6099,239...|\n",
            "|[thought, factory...|(262144,[34987,88...|\n",
            "+--------------------+--------------------+\n",
            "only showing top 20 rows\n",
            "\n"
          ],
          "name": "stdout"
        }
      ]
    },
    {
      "cell_type": "code",
      "metadata": {
        "colab": {
          "base_uri": "https://localhost:8080/"
        },
        "id": "Zbq4uKrpIbB5",
        "outputId": "8cdf18a6-a1fe-4264-94b2-167010392cc6"
      },
      "source": [
        "# Prediction using logistic regression model on test csv dataset\r\n",
        "\r\n",
        "pred_test_csv = lr_model.transform(numeric)\r\n",
        "pred_final_test = pred_test_csv.select(\"Meaningful_Words\", \"Prediction\")\r\n",
        "pred_final_test.show()"
      ],
      "execution_count": 27,
      "outputs": [
        {
          "output_type": "stream",
          "text": [
            "+--------------------+----------+\n",
            "|    Meaningful_Words|Prediction|\n",
            "+--------------------+----------+\n",
            "|[#studiolife, #ai...|       0.0|\n",
            "|[, @user, #white,...|       0.0|\n",
            "|[safe, ways, heal...|       0.0|\n",
            "|[hp, cursed, chil...|       0.0|\n",
            "|[, , 3rd, #bihday...|       0.0|\n",
            "|[choose, , , :), ...|       0.0|\n",
            "|[something, insid...|       0.0|\n",
            "|[#finished#tattoo...|       0.0|\n",
            "|[, @user, @user, ...|       0.0|\n",
            "|[#delicious, , , ...|       0.0|\n",
            "|[1000dayswasted, ...|       0.0|\n",
            "|[one, world's, gr...|       0.0|\n",
            "|[half, way, websi...|       0.0|\n",
            "|[good, food,, goo...|       0.0|\n",
            "|[stand, behind, #...|       0.0|\n",
            "|[ate,i, ate, ate....|       0.0|\n",
            "|[, @user, got, @u...|       0.0|\n",
            "|[&amp;, #love, &a...|       0.0|\n",
            "|[ð­ðð, #g...|       0.0|\n",
            "|[thought, factory...|       1.0|\n",
            "+--------------------+----------+\n",
            "only showing top 20 rows\n",
            "\n"
          ],
          "name": "stdout"
        }
      ]
    },
    {
      "cell_type": "code",
      "metadata": {
        "colab": {
          "base_uri": "https://localhost:8080/"
        },
        "id": "MHAc-6w9JdgV",
        "outputId": "e5ba947b-d835-43fa-8967-8c0ce94fa831"
      },
      "source": [
        "# Prediction using linear support vector machines model on test csv dataset\r\n",
        "\r\n",
        "pred_test_csv_svc = lsvcModel.transform(numeric)\r\n",
        "pred_final_test_svc = pred_test_csv_svc.select(\"Meaningful_Words\", \"Prediction\")\r\n",
        "pred_final_test_svc.show()"
      ],
      "execution_count": 37,
      "outputs": [
        {
          "output_type": "stream",
          "text": [
            "+--------------------+----------+\n",
            "|    Meaningful_Words|Prediction|\n",
            "+--------------------+----------+\n",
            "|[#studiolife, #ai...|       0.0|\n",
            "|[, @user, #white,...|       0.0|\n",
            "|[safe, ways, heal...|       0.0|\n",
            "|[hp, cursed, chil...|       0.0|\n",
            "|[, , 3rd, #bihday...|       0.0|\n",
            "|[choose, , , :), ...|       0.0|\n",
            "|[something, insid...|       0.0|\n",
            "|[#finished#tattoo...|       0.0|\n",
            "|[, @user, @user, ...|       0.0|\n",
            "|[#delicious, , , ...|       0.0|\n",
            "|[1000dayswasted, ...|       0.0|\n",
            "|[one, world's, gr...|       0.0|\n",
            "|[half, way, websi...|       0.0|\n",
            "|[good, food,, goo...|       0.0|\n",
            "|[stand, behind, #...|       0.0|\n",
            "|[ate,i, ate, ate....|       0.0|\n",
            "|[, @user, got, @u...|       0.0|\n",
            "|[&amp;, #love, &a...|       0.0|\n",
            "|[ð­ðð, #g...|       0.0|\n",
            "|[thought, factory...|       1.0|\n",
            "+--------------------+----------+\n",
            "only showing top 20 rows\n",
            "\n"
          ],
          "name": "stdout"
        }
      ]
    },
    {
      "cell_type": "code",
      "metadata": {
        "id": "jYOTCQSNQLoG"
      },
      "source": [
        ""
      ],
      "execution_count": null,
      "outputs": []
    }
  ]
}