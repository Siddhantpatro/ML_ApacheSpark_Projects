{
  "nbformat": 4,
  "nbformat_minor": 0,
  "metadata": {
    "colab": {
      "name": "HousePrice_prediction_spark.ipynb",
      "provenance": []
    },
    "kernelspec": {
      "name": "python3",
      "display_name": "Python 3"
    }
  },
  "cells": [
    {
      "cell_type": "markdown",
      "metadata": {
        "id": "bCy3xQBfOh71"
      },
      "source": [
        "# Installation of PySpark in google colab."
      ]
    },
    {
      "cell_type": "code",
      "metadata": {
        "id": "YVO1kZtu8un8"
      },
      "source": [
        "# install Java8\r\n",
        "!apt-get install openjdk-8-jdk-headless -qq > /dev/null\r\n",
        "# download spark3.0.1\r\n",
        "!wget -q http://apache.osuosl.org/spark/spark-3.0.1/spark-3.0.1-bin-hadoop3.2.tgz\r\n",
        "# unzip it\r\n",
        "!tar xf spark-3.0.1-bin-hadoop3.2.tgz\r\n",
        "# install findspark \r\n",
        "!pip install -q findspark\r\n",
        "\r\n",
        "# environmental variable of java and spark was set\r\n",
        "import os\r\n",
        "os.environ[\"JAVA_HOME\"] = \"/usr/lib/jvm/java-8-openjdk-amd64\"\r\n",
        "os.environ[\"SPARK_HOME\"] = \"/content/spark-3.0.1-bin-hadoop3.2\"\r\n",
        "\r\n",
        "import findspark\r\n",
        "findspark.init()"
      ],
      "execution_count": 33,
      "outputs": []
    },
    {
      "cell_type": "markdown",
      "metadata": {
        "id": "-5iFxtdJOwEn"
      },
      "source": [
        "**Spark Session was created**"
      ]
    },
    {
      "cell_type": "code",
      "metadata": {
        "id": "qj-MeloK_UM1"
      },
      "source": [
        "from pyspark.sql import SparkSession\r\n",
        "spark = SparkSession.builder.appName('HousePrice_Prediction').getOrCreate()"
      ],
      "execution_count": 36,
      "outputs": []
    },
    {
      "cell_type": "markdown",
      "metadata": {
        "id": "WrkGqOzRO-2X"
      },
      "source": [
        "**All the necessary sparkML libraries required for this task was imported.**"
      ]
    },
    {
      "cell_type": "code",
      "metadata": {
        "id": "rHSa9C2x_Y23"
      },
      "source": [
        "from pyspark.ml.linalg import Vectors\r\n",
        "from pyspark.ml.feature import VectorAssembler, StringIndexer\r\n",
        "\r\n",
        "from pyspark.ml.regression import LinearRegression\r\n",
        "from pyspark.mllib.evaluation import RegressionMetrics"
      ],
      "execution_count": 37,
      "outputs": []
    },
    {
      "cell_type": "markdown",
      "metadata": {
        "id": "Xi0Pv-giPRi5"
      },
      "source": [
        "**Upload of the House price prediction dataset.**"
      ]
    },
    {
      "cell_type": "code",
      "metadata": {
        "colab": {
          "resources": {
            "http://localhost:8080/nbextensions/google.colab/files.js": {
              "data": "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",
              "ok": true,
              "headers": [
                [
                  "content-type",
                  "application/javascript"
                ]
              ],
              "status": 200,
              "status_text": ""
            }
          },
          "base_uri": "https://localhost:8080/",
          "height": 73
        },
        "id": "So0jNHPPB5TS",
        "outputId": "26d97e99-f6b1-4776-ffbb-d3813d6c6b79"
      },
      "source": [
        "from google.colab import files\r\n",
        "uploaded = files.upload()"
      ],
      "execution_count": 38,
      "outputs": [
        {
          "output_type": "display_data",
          "data": {
            "text/html": [
              "\n",
              "     <input type=\"file\" id=\"files-e1bc386c-2d1e-4b84-b94d-96aaf33c391c\" name=\"files[]\" multiple disabled\n",
              "        style=\"border:none\" />\n",
              "     <output id=\"result-e1bc386c-2d1e-4b84-b94d-96aaf33c391c\">\n",
              "      Upload widget is only available when the cell has been executed in the\n",
              "      current browser session. Please rerun this cell to enable.\n",
              "      </output>\n",
              "      <script src=\"/nbextensions/google.colab/files.js\"></script> "
            ],
            "text/plain": [
              "<IPython.core.display.HTML object>"
            ]
          },
          "metadata": {
            "tags": []
          }
        },
        {
          "output_type": "stream",
          "text": [
            "Saving data.csv to data (5).csv\n"
          ],
          "name": "stdout"
        }
      ]
    },
    {
      "cell_type": "code",
      "metadata": {
        "colab": {
          "base_uri": "https://localhost:8080/"
        },
        "id": "GBoBXf0VDj73",
        "outputId": "d6010e01-99cf-4a86-c3d8-0265f1667048"
      },
      "source": [
        "dataset = spark.read.csv(\"data.csv\", inferSchema = True, header = True)\r\n",
        "dataset.show()"
      ],
      "execution_count": 64,
      "outputs": [
        {
          "output_type": "stream",
          "text": [
            "+-------------------+---------+--------+---------+-----------+--------+------+----------+----+---------+----------+-------------+--------+------------+--------------------+----------------+--------+-------+\n",
            "|               date|    price|bedrooms|bathrooms|sqft_living|sqft_lot|floors|waterfront|view|condition|sqft_above|sqft_basement|yr_built|yr_renovated|              street|            city|statezip|country|\n",
            "+-------------------+---------+--------+---------+-----------+--------+------+----------+----+---------+----------+-------------+--------+------------+--------------------+----------------+--------+-------+\n",
            "|2014-05-02 00:00:00| 313000.0|     3.0|      1.5|       1340|    7912|   1.5|         0|   0|        3|      1340|            0|    1955|        2005|18810 Densmore Ave N|       Shoreline|WA 98133|    USA|\n",
            "|2014-05-02 00:00:00|2384000.0|     5.0|      2.5|       3650|    9050|   2.0|         0|   4|        5|      3370|          280|    1921|           0|     709 W Blaine St|         Seattle|WA 98119|    USA|\n",
            "|2014-05-02 00:00:00| 342000.0|     3.0|      2.0|       1930|   11947|   1.0|         0|   0|        4|      1930|            0|    1966|           0|26206-26214 143rd...|            Kent|WA 98042|    USA|\n",
            "|2014-05-02 00:00:00| 420000.0|     3.0|     2.25|       2000|    8030|   1.0|         0|   0|        4|      1000|         1000|    1963|           0|     857 170th Pl NE|        Bellevue|WA 98008|    USA|\n",
            "|2014-05-02 00:00:00| 550000.0|     4.0|      2.5|       1940|   10500|   1.0|         0|   0|        4|      1140|          800|    1976|        1992|   9105 170th Ave NE|         Redmond|WA 98052|    USA|\n",
            "|2014-05-02 00:00:00| 490000.0|     2.0|      1.0|        880|    6380|   1.0|         0|   0|        3|       880|            0|    1938|        1994|      522 NE 88th St|         Seattle|WA 98115|    USA|\n",
            "|2014-05-02 00:00:00| 335000.0|     2.0|      2.0|       1350|    2560|   1.0|         0|   0|        3|      1350|            0|    1976|           0|   2616 174th Ave NE|         Redmond|WA 98052|    USA|\n",
            "|2014-05-02 00:00:00| 482000.0|     4.0|      2.5|       2710|   35868|   2.0|         0|   0|        3|      2710|            0|    1989|           0|   23762 SE 253rd Pl|    Maple Valley|WA 98038|    USA|\n",
            "|2014-05-02 00:00:00| 452500.0|     3.0|      2.5|       2430|   88426|   1.0|         0|   0|        4|      1570|          860|    1985|           0|46611-46625 SE 12...|      North Bend|WA 98045|    USA|\n",
            "|2014-05-02 00:00:00| 640000.0|     4.0|      2.0|       1520|    6200|   1.5|         0|   0|        3|      1520|            0|    1945|        2010|    6811 55th Ave NE|         Seattle|WA 98115|    USA|\n",
            "|2014-05-02 00:00:00| 463000.0|     3.0|     1.75|       1710|    7320|   1.0|         0|   0|        3|      1710|            0|    1948|        1994|  Burke-Gilman Trail|Lake Forest Park|WA 98155|    USA|\n",
            "|2014-05-02 00:00:00|1400000.0|     4.0|      2.5|       2920|    4000|   1.5|         0|   0|        5|      1910|         1010|    1909|        1988|3838-4098 44th Av...|         Seattle|WA 98105|    USA|\n",
            "|2014-05-02 00:00:00| 588500.0|     3.0|     1.75|       2330|   14892|   1.0|         0|   0|        3|      1970|          360|    1980|           0|    1833 220th Pl NE|       Sammamish|WA 98074|    USA|\n",
            "|2014-05-02 00:00:00| 365000.0|     3.0|      1.0|       1090|    6435|   1.0|         0|   0|        4|      1090|            0|    1955|        2009| 2504 SW Portland Ct|         Seattle|WA 98106|    USA|\n",
            "|2014-05-02 00:00:00|1200000.0|     5.0|     2.75|       2910|    9480|   1.5|         0|   0|        3|      2910|            0|    1939|        1969|    3534 46th Ave NE|         Seattle|WA 98105|    USA|\n",
            "|2014-05-02 00:00:00| 242500.0|     3.0|      1.5|       1200|    9720|   1.0|         0|   0|        4|      1200|            0|    1965|           0|   14034 SE 201st St|            Kent|WA 98042|    USA|\n",
            "|2014-05-02 00:00:00| 419000.0|     3.0|      1.5|       1570|    6700|   1.0|         0|   0|        4|      1570|            0|    1956|           0|     15424 SE 9th St|        Bellevue|WA 98007|    USA|\n",
            "|2014-05-02 00:00:00| 367500.0|     4.0|      3.0|       3110|    7231|   2.0|         0|   0|        3|      3110|            0|    1997|           0|   11224 SE 306th Pl|          Auburn|WA 98092|    USA|\n",
            "|2014-05-02 00:00:00| 257950.0|     3.0|     1.75|       1370|    5858|   1.0|         0|   0|        3|      1370|            0|    1987|        2000|     1605 S 245th Pl|      Des Moines|WA 98198|    USA|\n",
            "|2014-05-02 00:00:00| 275000.0|     3.0|      1.5|       1180|   10277|   1.0|         0|   0|        3|      1180|            0|    1983|        2009|  12425 415th Ave SE|      North Bend|WA 98045|    USA|\n",
            "+-------------------+---------+--------+---------+-----------+--------+------+----------+----+---------+----------+-------------+--------+------------+--------------------+----------------+--------+-------+\n",
            "only showing top 20 rows\n",
            "\n"
          ],
          "name": "stdout"
        }
      ]
    },
    {
      "cell_type": "markdown",
      "metadata": {
        "id": "l4fuFwAPPcwZ"
      },
      "source": [
        "**Printing the schema of all the columns in the dataset.\r\n",
        "Schema gives the description of the structure of the given data.**"
      ]
    },
    {
      "cell_type": "code",
      "metadata": {
        "colab": {
          "base_uri": "https://localhost:8080/"
        },
        "id": "Ni9mDj0iDsTD",
        "outputId": "7997938d-be91-49ab-e119-ffbffd7dccd7"
      },
      "source": [
        "dataset.printSchema()"
      ],
      "execution_count": 65,
      "outputs": [
        {
          "output_type": "stream",
          "text": [
            "root\n",
            " |-- date: string (nullable = true)\n",
            " |-- price: double (nullable = true)\n",
            " |-- bedrooms: double (nullable = true)\n",
            " |-- bathrooms: double (nullable = true)\n",
            " |-- sqft_living: integer (nullable = true)\n",
            " |-- sqft_lot: integer (nullable = true)\n",
            " |-- floors: double (nullable = true)\n",
            " |-- waterfront: integer (nullable = true)\n",
            " |-- view: integer (nullable = true)\n",
            " |-- condition: integer (nullable = true)\n",
            " |-- sqft_above: integer (nullable = true)\n",
            " |-- sqft_basement: integer (nullable = true)\n",
            " |-- yr_built: integer (nullable = true)\n",
            " |-- yr_renovated: integer (nullable = true)\n",
            " |-- street: string (nullable = true)\n",
            " |-- city: string (nullable = true)\n",
            " |-- statezip: string (nullable = true)\n",
            " |-- country: string (nullable = true)\n",
            "\n"
          ],
          "name": "stdout"
        }
      ]
    },
    {
      "cell_type": "code",
      "metadata": {
        "id": "Y_gAE-d7bRbq"
      },
      "source": [
        "dtypes_strings = dataset.select(\"city\", \"country\", \"street\", \"statezip\", \"date\").distinct()"
      ],
      "execution_count": 66,
      "outputs": []
    },
    {
      "cell_type": "code",
      "metadata": {
        "colab": {
          "base_uri": "https://localhost:8080/"
        },
        "id": "WDUU9uvocEfn",
        "outputId": "dbe3d1cb-e966-4fcc-c901-f1a3859152cb"
      },
      "source": [
        "dtypes_strings.show()"
      ],
      "execution_count": 67,
      "outputs": [
        {
          "output_type": "stream",
          "text": [
            "+-------------+-------+--------------------+--------+-------------------+\n",
            "|         city|country|              street|statezip|               date|\n",
            "+-------------+-------+--------------------+--------+-------------------+\n",
            "|     Bellevue|    USA|   3250 165th Ave SE|WA 98008|2014-05-06 00:00:00|\n",
            "|Mercer Island|    USA|     8300 SE 82nd St|WA 98040|2014-05-06 00:00:00|\n",
            "|      Seattle|    USA| 4602 Woodlawn Ave N|WA 98103|2014-05-07 00:00:00|\n",
            "|       Renton|    USA|  16411 120th Ave SE|WA 98058|2014-05-12 00:00:00|\n",
            "|    Sammamish|    USA|   27747 SE 24th Way|WA 98075|2014-05-13 00:00:00|\n",
            "|     Kirkland|    USA|   12033 NE 136th Pl|WA 98034|2014-05-13 00:00:00|\n",
            "|      Seattle|    USA|     4417 47th Ave S|WA 98118|2014-05-15 00:00:00|\n",
            "|      Seattle|    USA|     8309 36th Ave S|WA 98118|2014-05-19 00:00:00|\n",
            "|  Federal Way|    USA|    1714 SW 354th Pl|WA 98023|2014-05-19 00:00:00|\n",
            "|   Des Moines|    USA|    24807 10th Ave S|WA 98198|2014-05-21 00:00:00|\n",
            "|      Seattle|    USA|     303 SW 108th St|WA 98146|2014-05-22 00:00:00|\n",
            "|      Tukwila|    USA|14426-14598 42nd ...|WA 98168|2014-06-04 00:00:00|\n",
            "|      Seattle|    USA|    6008 14th Ave NW|WA 98107|2014-06-09 00:00:00|\n",
            "|      Seattle|    USA|    7344 50th Ave NE|WA 98115|2014-06-12 00:00:00|\n",
            "|     Kirkland|    USA|  11721 106th Ave NE|WA 98034|2014-06-16 00:00:00|\n",
            "|       Renton|    USA|     2515 NE 19th St|WA 98056|2014-06-19 00:00:00|\n",
            "|    Shoreline|    USA|   18032 Burke Ave N|WA 98133|2014-06-25 00:00:00|\n",
            "|      Seattle|    USA|     1901 25th Ave E|WA 98112|2014-07-01 00:00:00|\n",
            "|      Seattle|    USA|    3505 W McGraw St|WA 98199|2014-07-03 00:00:00|\n",
            "|      Seattle|    USA|       922 N 91st St|WA 98103|2014-07-08 00:00:00|\n",
            "+-------------+-------+--------------------+--------+-------------------+\n",
            "only showing top 20 rows\n",
            "\n"
          ],
          "name": "stdout"
        }
      ]
    },
    {
      "cell_type": "code",
      "metadata": {
        "id": "QGlnMtJzQOBJ"
      },
      "source": [
        ""
      ],
      "execution_count": null,
      "outputs": []
    },
    {
      "cell_type": "markdown",
      "metadata": {
        "id": "vak1ExYzQHpo"
      },
      "source": [
        "**Distingusing between categorical and numerical columns.**"
      ]
    },
    {
      "cell_type": "code",
      "metadata": {
        "colab": {
          "base_uri": "https://localhost:8080/"
        },
        "id": "oX7r-yizpZcv",
        "outputId": "b7a50fbf-b6da-4623-b8ec-06405e2005b4"
      },
      "source": [
        "categoricalColumns = [item[0] for item in dataset.dtypes if item[1].startswith('string')]\r\n",
        "categoricalColumns"
      ],
      "execution_count": 68,
      "outputs": [
        {
          "output_type": "execute_result",
          "data": {
            "text/plain": [
              "['date', 'street', 'city', 'statezip', 'country']"
            ]
          },
          "metadata": {
            "tags": []
          },
          "execution_count": 68
        }
      ]
    },
    {
      "cell_type": "code",
      "metadata": {
        "colab": {
          "base_uri": "https://localhost:8080/"
        },
        "id": "wAdVjlgepZfu",
        "outputId": "522e09a0-d177-42c8-bb83-03d4a9d8dccd"
      },
      "source": [
        "numericalColumnsInt = [item[0] for item in dataset.dtypes if item[1].startswith(\"int\")]\r\n",
        "numericalColumnsInt"
      ],
      "execution_count": 69,
      "outputs": [
        {
          "output_type": "execute_result",
          "data": {
            "text/plain": [
              "['sqft_living',\n",
              " 'sqft_lot',\n",
              " 'waterfront',\n",
              " 'view',\n",
              " 'condition',\n",
              " 'sqft_above',\n",
              " 'sqft_basement',\n",
              " 'yr_built',\n",
              " 'yr_renovated']"
            ]
          },
          "metadata": {
            "tags": []
          },
          "execution_count": 69
        }
      ]
    },
    {
      "cell_type": "code",
      "metadata": {
        "colab": {
          "base_uri": "https://localhost:8080/"
        },
        "id": "pFRpXDfWqcDo",
        "outputId": "aff8ce1b-f881-40bd-9ccc-418917e37557"
      },
      "source": [
        "numericalColumnsDouble = [item[0] for item in dataset.dtypes if item[1].startswith(\"double\")]\r\n",
        "numericalColumnsDouble"
      ],
      "execution_count": 70,
      "outputs": [
        {
          "output_type": "execute_result",
          "data": {
            "text/plain": [
              "['price', 'bedrooms', 'bathrooms', 'floors']"
            ]
          },
          "metadata": {
            "tags": []
          },
          "execution_count": 70
        }
      ]
    },
    {
      "cell_type": "code",
      "metadata": {
        "id": "BTrJ3bjvQS00"
      },
      "source": [
        ""
      ],
      "execution_count": null,
      "outputs": []
    },
    {
      "cell_type": "markdown",
      "metadata": {
        "id": "V_xgSjVxQTVS"
      },
      "source": [
        "**StringIndexer was imported to convert the columns having string dtypes to numerical values.**"
      ]
    },
    {
      "cell_type": "code",
      "metadata": {
        "colab": {
          "base_uri": "https://localhost:8080/"
        },
        "id": "_xMYBxh3ci8Z",
        "outputId": "d7283e0b-205e-41b9-c926-1e0565b9af98"
      },
      "source": [
        "indexer = StringIndexer(inputCols= [\"date\", \"street\", \"city\", \"statezip\", \"country\"], \r\n",
        "                        outputCols=[\"date_Index\", \"street_Index\", \"city_Index\", \"statezip_Index\", \"country_Index\"]) \r\n",
        "indexed = indexer.fit(dataset).transform(dataset) \r\n",
        "indexed.show()"
      ],
      "execution_count": 71,
      "outputs": [
        {
          "output_type": "stream",
          "text": [
            "+-------------------+---------+--------+---------+-----------+--------+------+----------+----+---------+----------+-------------+--------+------------+--------------------+----------------+--------+-------+----------+------------+--------------+-------------+----------+\n",
            "|               date|    price|bedrooms|bathrooms|sqft_living|sqft_lot|floors|waterfront|view|condition|sqft_above|sqft_basement|yr_built|yr_renovated|              street|            city|statezip|country|city_Index|street_Index|statezip_Index|country_Index|date_Index|\n",
            "+-------------------+---------+--------+---------+-----------+--------+------+----------+----+---------+----------+-------------+--------+------------+--------------------+----------------+--------+-------+----------+------------+--------------+-------------+----------+\n",
            "|2014-05-02 00:00:00| 313000.0|     3.0|      1.5|       1340|    7912|   1.5|         0|   0|        3|      1340|            0|    1955|        2005|18810 Densmore Ave N|       Shoreline|WA 98133|    USA|      10.0|      1574.0|          14.0|          0.0|      44.0|\n",
            "|2014-05-02 00:00:00|2384000.0|     5.0|      2.5|       3650|    9050|   2.0|         0|   4|        5|      3370|          280|    1921|           0|     709 W Blaine St|         Seattle|WA 98119|    USA|       0.0|      3912.0|          48.0|          0.0|      44.0|\n",
            "|2014-05-02 00:00:00| 342000.0|     3.0|      2.0|       1930|   11947|   1.0|         0|   0|        4|      1930|            0|    1966|           0|26206-26214 143rd...|            Kent|WA 98042|    USA|       6.0|      2330.0|           6.0|          0.0|      44.0|\n",
            "|2014-05-02 00:00:00| 420000.0|     3.0|     2.25|       2000|    8030|   1.0|         0|   0|        4|      1000|         1000|    1963|           0|     857 170th Pl NE|        Bellevue|WA 98008|    USA|       2.0|      4269.0|          45.0|          0.0|      44.0|\n",
            "|2014-05-02 00:00:00| 550000.0|     4.0|      2.5|       1940|   10500|   1.0|         0|   0|        4|      1140|          800|    1976|        1992|   9105 170th Ave NE|         Redmond|WA 98052|    USA|       3.0|      4357.0|           1.0|          0.0|      44.0|\n",
            "|2014-05-02 00:00:00| 490000.0|     2.0|      1.0|        880|    6380|   1.0|         0|   0|        3|       880|            0|    1938|        1994|      522 NE 88th St|         Seattle|WA 98115|    USA|       0.0|      3544.0|           3.0|          0.0|      44.0|\n",
            "|2014-05-02 00:00:00| 335000.0|     2.0|      2.0|       1350|    2560|   1.0|         0|   0|        3|      1350|            0|    1976|           0|   2616 174th Ave NE|         Redmond|WA 98052|    USA|       3.0|      2325.0|           1.0|          0.0|      44.0|\n",
            "|2014-05-02 00:00:00| 482000.0|     4.0|      2.5|       2710|   35868|   2.0|         0|   0|        3|      2710|            0|    1989|           0|   23762 SE 253rd Pl|    Maple Valley|WA 98038|    USA|      12.0|      2081.0|          10.0|          0.0|      44.0|\n",
            "|2014-05-02 00:00:00| 452500.0|     3.0|      2.5|       2430|   88426|   1.0|         0|   0|        4|      1570|          860|    1985|           0|46611-46625 SE 12...|      North Bend|WA 98045|    USA|      18.0|      3395.0|          46.0|          0.0|      44.0|\n",
            "|2014-05-02 00:00:00| 640000.0|     4.0|      2.0|       1520|    6200|   1.5|         0|   0|        3|      1520|            0|    1945|        2010|    6811 55th Ave NE|         Seattle|WA 98115|    USA|       0.0|      3860.0|           3.0|          0.0|      44.0|\n",
            "|2014-05-02 00:00:00| 463000.0|     3.0|     1.75|       1710|    7320|   1.0|         0|   0|        3|      1710|            0|    1948|        1994|  Burke-Gilman Trail|Lake Forest Park|WA 98155|    USA|      21.0|        70.0|          18.0|          0.0|      44.0|\n",
            "|2014-05-02 00:00:00|1400000.0|     4.0|      2.5|       2920|    4000|   1.5|         0|   0|        5|      1910|         1010|    1909|        1988|3838-4098 44th Av...|         Seattle|WA 98105|    USA|       0.0|      3054.0|          47.0|          0.0|      44.0|\n",
            "|2014-05-02 00:00:00| 588500.0|     3.0|     1.75|       2330|   14892|   1.0|         0|   0|        3|      1970|          360|    1980|           0|    1833 220th Pl NE|       Sammamish|WA 98074|    USA|       8.0|      1525.0|           9.0|          0.0|      44.0|\n",
            "|2014-05-02 00:00:00| 365000.0|     3.0|      1.0|       1090|    6435|   1.0|         0|   0|        4|      1090|            0|    1955|        2009| 2504 SW Portland Ct|         Seattle|WA 98106|    USA|       0.0|      2217.0|          34.0|          0.0|      44.0|\n",
            "|2014-05-02 00:00:00|1200000.0|     5.0|     2.75|       2910|    9480|   1.5|         0|   0|        3|      2910|            0|    1939|        1969|    3534 46th Ave NE|         Seattle|WA 98105|    USA|       0.0|      2935.0|          47.0|          0.0|      44.0|\n",
            "|2014-05-02 00:00:00| 242500.0|     3.0|      1.5|       1200|    9720|   1.0|         0|   0|        4|      1200|            0|    1965|           0|   14034 SE 201st St|            Kent|WA 98042|    USA|       6.0|       865.0|           6.0|          0.0|      44.0|\n",
            "|2014-05-02 00:00:00| 419000.0|     3.0|      1.5|       1570|    6700|   1.0|         0|   0|        4|      1570|            0|    1956|           0|     15424 SE 9th St|        Bellevue|WA 98007|    USA|       2.0|      1115.0|          54.0|          0.0|      44.0|\n",
            "|2014-05-02 00:00:00| 367500.0|     4.0|      3.0|       3110|    7231|   2.0|         0|   0|        3|      3110|            0|    1997|           0|   11224 SE 306th Pl|          Auburn|WA 98092|    USA|       7.0|       345.0|          22.0|          0.0|      44.0|\n",
            "|2014-05-02 00:00:00| 257950.0|     3.0|     1.75|       1370|    5858|   1.0|         0|   0|        3|      1370|            0|    1987|        2000|     1605 S 245th Pl|      Des Moines|WA 98198|    USA|      17.0|      1202.0|          41.0|          0.0|      44.0|\n",
            "|2014-05-02 00:00:00| 275000.0|     3.0|      1.5|       1180|   10277|   1.0|         0|   0|        3|      1180|            0|    1983|        2009|  12425 415th Ave SE|      North Bend|WA 98045|    USA|      18.0|       590.0|          46.0|          0.0|      44.0|\n",
            "+-------------------+---------+--------+---------+-----------+--------+------+----------+----+---------+----------+-------------+--------+------------+--------------------+----------------+--------+-------+----------+------------+--------------+-------------+----------+\n",
            "only showing top 20 rows\n",
            "\n"
          ],
          "name": "stdout"
        }
      ]
    },
    {
      "cell_type": "code",
      "metadata": {
        "id": "yKGdk-j3Qrrb"
      },
      "source": [
        ""
      ],
      "execution_count": null,
      "outputs": []
    },
    {
      "cell_type": "markdown",
      "metadata": {
        "id": "PBpDLM0lQsNh"
      },
      "source": [
        "**Unrequired columns were deleted.**"
      ]
    },
    {
      "cell_type": "code",
      "metadata": {
        "id": "FFOqgjriu6jw"
      },
      "source": [
        "dataset_new = indexed.drop(*['date', 'street', 'city', 'statezip', 'country','country_Index', 'date_Index', 'statezip_Index'])"
      ],
      "execution_count": 72,
      "outputs": []
    },
    {
      "cell_type": "code",
      "metadata": {
        "id": "YCoCqQToQyOJ"
      },
      "source": [
        ""
      ],
      "execution_count": null,
      "outputs": []
    },
    {
      "cell_type": "markdown",
      "metadata": {
        "id": "i14tuW7AQn6M"
      },
      "source": [
        "**Final Dataset.**"
      ]
    },
    {
      "cell_type": "code",
      "metadata": {
        "colab": {
          "base_uri": "https://localhost:8080/"
        },
        "id": "Kql_xZUdvHYU",
        "outputId": "c01e83cc-9589-45c5-fb5c-29cc03d60bb4"
      },
      "source": [
        "dataset_new.show()"
      ],
      "execution_count": 73,
      "outputs": [
        {
          "output_type": "stream",
          "text": [
            "+---------+--------+---------+-----------+--------+------+----------+----+---------+----------+-------------+--------+------------+----------+------------+\n",
            "|    price|bedrooms|bathrooms|sqft_living|sqft_lot|floors|waterfront|view|condition|sqft_above|sqft_basement|yr_built|yr_renovated|city_Index|street_Index|\n",
            "+---------+--------+---------+-----------+--------+------+----------+----+---------+----------+-------------+--------+------------+----------+------------+\n",
            "| 313000.0|     3.0|      1.5|       1340|    7912|   1.5|         0|   0|        3|      1340|            0|    1955|        2005|      10.0|      1574.0|\n",
            "|2384000.0|     5.0|      2.5|       3650|    9050|   2.0|         0|   4|        5|      3370|          280|    1921|           0|       0.0|      3912.0|\n",
            "| 342000.0|     3.0|      2.0|       1930|   11947|   1.0|         0|   0|        4|      1930|            0|    1966|           0|       6.0|      2330.0|\n",
            "| 420000.0|     3.0|     2.25|       2000|    8030|   1.0|         0|   0|        4|      1000|         1000|    1963|           0|       2.0|      4269.0|\n",
            "| 550000.0|     4.0|      2.5|       1940|   10500|   1.0|         0|   0|        4|      1140|          800|    1976|        1992|       3.0|      4357.0|\n",
            "| 490000.0|     2.0|      1.0|        880|    6380|   1.0|         0|   0|        3|       880|            0|    1938|        1994|       0.0|      3544.0|\n",
            "| 335000.0|     2.0|      2.0|       1350|    2560|   1.0|         0|   0|        3|      1350|            0|    1976|           0|       3.0|      2325.0|\n",
            "| 482000.0|     4.0|      2.5|       2710|   35868|   2.0|         0|   0|        3|      2710|            0|    1989|           0|      12.0|      2081.0|\n",
            "| 452500.0|     3.0|      2.5|       2430|   88426|   1.0|         0|   0|        4|      1570|          860|    1985|           0|      18.0|      3395.0|\n",
            "| 640000.0|     4.0|      2.0|       1520|    6200|   1.5|         0|   0|        3|      1520|            0|    1945|        2010|       0.0|      3860.0|\n",
            "| 463000.0|     3.0|     1.75|       1710|    7320|   1.0|         0|   0|        3|      1710|            0|    1948|        1994|      21.0|        70.0|\n",
            "|1400000.0|     4.0|      2.5|       2920|    4000|   1.5|         0|   0|        5|      1910|         1010|    1909|        1988|       0.0|      3054.0|\n",
            "| 588500.0|     3.0|     1.75|       2330|   14892|   1.0|         0|   0|        3|      1970|          360|    1980|           0|       8.0|      1525.0|\n",
            "| 365000.0|     3.0|      1.0|       1090|    6435|   1.0|         0|   0|        4|      1090|            0|    1955|        2009|       0.0|      2217.0|\n",
            "|1200000.0|     5.0|     2.75|       2910|    9480|   1.5|         0|   0|        3|      2910|            0|    1939|        1969|       0.0|      2935.0|\n",
            "| 242500.0|     3.0|      1.5|       1200|    9720|   1.0|         0|   0|        4|      1200|            0|    1965|           0|       6.0|       865.0|\n",
            "| 419000.0|     3.0|      1.5|       1570|    6700|   1.0|         0|   0|        4|      1570|            0|    1956|           0|       2.0|      1115.0|\n",
            "| 367500.0|     4.0|      3.0|       3110|    7231|   2.0|         0|   0|        3|      3110|            0|    1997|           0|       7.0|       345.0|\n",
            "| 257950.0|     3.0|     1.75|       1370|    5858|   1.0|         0|   0|        3|      1370|            0|    1987|        2000|      17.0|      1202.0|\n",
            "| 275000.0|     3.0|      1.5|       1180|   10277|   1.0|         0|   0|        3|      1180|            0|    1983|        2009|      18.0|       590.0|\n",
            "+---------+--------+---------+-----------+--------+------+----------+----+---------+----------+-------------+--------+------------+----------+------------+\n",
            "only showing top 20 rows\n",
            "\n"
          ],
          "name": "stdout"
        }
      ]
    },
    {
      "cell_type": "code",
      "metadata": {
        "colab": {
          "base_uri": "https://localhost:8080/"
        },
        "id": "OLZaxhtC-Mzb",
        "outputId": "3bd9be69-62c1-4e5b-e014-11d2d8eeb5c8"
      },
      "source": [
        "dataset_new.describe().show()"
      ],
      "execution_count": 74,
      "outputs": [
        {
          "output_type": "stream",
          "text": [
            "+-------+-----------------+------------------+------------------+------------------+------------------+------------------+--------------------+-------------------+------------------+------------------+------------------+-----------------+-----------------+-----------------+------------------+\n",
            "|summary|            price|          bedrooms|         bathrooms|       sqft_living|          sqft_lot|            floors|          waterfront|               view|         condition|        sqft_above|     sqft_basement|         yr_built|     yr_renovated|       city_Index|      street_Index|\n",
            "+-------+-----------------+------------------+------------------+------------------+------------------+------------------+--------------------+-------------------+------------------+------------------+------------------+-----------------+-----------------+-----------------+------------------+\n",
            "|  count|             4600|              4600|              4600|              4600|              4600|              4600|                4600|               4600|              4600|              4600|              4600|             4600|             4600|             4600|              4600|\n",
            "|   mean|551962.9884732141|3.4008695652173913|2.1608152173913044|2139.3469565217392|14852.516086956522|1.5120652173913043|0.007173913043478261|0.24065217391304347|3.4517391304347824|1827.2654347826087|312.08152173913044|1970.786304347826|808.6082608695652|6.216521739130434|2225.6754347826086|\n",
            "| stddev|563834.7025471414|0.9088481155258177|0.7837810746502791| 963.2069157608655| 35884.43614480964|0.5382883772969884| 0.08440377189474309| 0.7784047172125206| 0.677229767559275| 862.1689769625966| 464.1372280666068|29.73184839009962|979.4145364007456|7.809628040994539|1326.0768977606604|\n",
            "|    min|              0.0|               0.0|               0.0|               370|               638|               1.0|                   0|                  0|                 1|               370|                 0|             1900|                0|              0.0|               0.0|\n",
            "|    max|          2.659E7|               9.0|               8.0|             13540|           1074218|               3.5|                   1|                  4|                 5|              9410|              4820|             2014|             2014|             43.0|            4524.0|\n",
            "+-------+-----------------+------------------+------------------+------------------+------------------+------------------+--------------------+-------------------+------------------+------------------+------------------+-----------------+-----------------+-----------------+------------------+\n",
            "\n"
          ],
          "name": "stdout"
        }
      ]
    },
    {
      "cell_type": "code",
      "metadata": {
        "id": "k_XDq1xiRIry"
      },
      "source": [
        ""
      ],
      "execution_count": null,
      "outputs": []
    },
    {
      "cell_type": "markdown",
      "metadata": {
        "id": "7wnwuQZRQ10u"
      },
      "source": [
        "**VectorAssembler is a feature transformer that merges multiple columns into a vector column.**"
      ]
    },
    {
      "cell_type": "code",
      "metadata": {
        "id": "3m_CnCNcGGD0"
      },
      "source": [
        "ignore = ['price']\r\n",
        "assembler = VectorAssembler(\r\n",
        "    inputCols=[x for x in dataset_new.columns if x not in ignore],\r\n",
        "    outputCol='features')"
      ],
      "execution_count": 75,
      "outputs": []
    },
    {
      "cell_type": "markdown",
      "metadata": {
        "id": "Am-wqC9MRgPE"
      },
      "source": [
        "**Final output dataset containing the features column which is a vector column.**"
      ]
    },
    {
      "cell_type": "code",
      "metadata": {
        "colab": {
          "base_uri": "https://localhost:8080/"
        },
        "id": "bVFPQThaGIN-",
        "outputId": "a55743f2-88ee-4537-ed7c-baea26ec6550"
      },
      "source": [
        "output = assembler.transform(dataset_new)\r\n",
        "output.show()"
      ],
      "execution_count": 76,
      "outputs": [
        {
          "output_type": "stream",
          "text": [
            "+---------+--------+---------+-----------+--------+------+----------+----+---------+----------+-------------+--------+------------+----------+------------+--------------------+\n",
            "|    price|bedrooms|bathrooms|sqft_living|sqft_lot|floors|waterfront|view|condition|sqft_above|sqft_basement|yr_built|yr_renovated|city_Index|street_Index|            features|\n",
            "+---------+--------+---------+-----------+--------+------+----------+----+---------+----------+-------------+--------+------------+----------+------------+--------------------+\n",
            "| 313000.0|     3.0|      1.5|       1340|    7912|   1.5|         0|   0|        3|      1340|            0|    1955|        2005|      10.0|      1574.0|[3.0,1.5,1340.0,7...|\n",
            "|2384000.0|     5.0|      2.5|       3650|    9050|   2.0|         0|   4|        5|      3370|          280|    1921|           0|       0.0|      3912.0|[5.0,2.5,3650.0,9...|\n",
            "| 342000.0|     3.0|      2.0|       1930|   11947|   1.0|         0|   0|        4|      1930|            0|    1966|           0|       6.0|      2330.0|[3.0,2.0,1930.0,1...|\n",
            "| 420000.0|     3.0|     2.25|       2000|    8030|   1.0|         0|   0|        4|      1000|         1000|    1963|           0|       2.0|      4269.0|[3.0,2.25,2000.0,...|\n",
            "| 550000.0|     4.0|      2.5|       1940|   10500|   1.0|         0|   0|        4|      1140|          800|    1976|        1992|       3.0|      4357.0|[4.0,2.5,1940.0,1...|\n",
            "| 490000.0|     2.0|      1.0|        880|    6380|   1.0|         0|   0|        3|       880|            0|    1938|        1994|       0.0|      3544.0|[2.0,1.0,880.0,63...|\n",
            "| 335000.0|     2.0|      2.0|       1350|    2560|   1.0|         0|   0|        3|      1350|            0|    1976|           0|       3.0|      2325.0|[2.0,2.0,1350.0,2...|\n",
            "| 482000.0|     4.0|      2.5|       2710|   35868|   2.0|         0|   0|        3|      2710|            0|    1989|           0|      12.0|      2081.0|[4.0,2.5,2710.0,3...|\n",
            "| 452500.0|     3.0|      2.5|       2430|   88426|   1.0|         0|   0|        4|      1570|          860|    1985|           0|      18.0|      3395.0|[3.0,2.5,2430.0,8...|\n",
            "| 640000.0|     4.0|      2.0|       1520|    6200|   1.5|         0|   0|        3|      1520|            0|    1945|        2010|       0.0|      3860.0|[4.0,2.0,1520.0,6...|\n",
            "| 463000.0|     3.0|     1.75|       1710|    7320|   1.0|         0|   0|        3|      1710|            0|    1948|        1994|      21.0|        70.0|[3.0,1.75,1710.0,...|\n",
            "|1400000.0|     4.0|      2.5|       2920|    4000|   1.5|         0|   0|        5|      1910|         1010|    1909|        1988|       0.0|      3054.0|[4.0,2.5,2920.0,4...|\n",
            "| 588500.0|     3.0|     1.75|       2330|   14892|   1.0|         0|   0|        3|      1970|          360|    1980|           0|       8.0|      1525.0|[3.0,1.75,2330.0,...|\n",
            "| 365000.0|     3.0|      1.0|       1090|    6435|   1.0|         0|   0|        4|      1090|            0|    1955|        2009|       0.0|      2217.0|[3.0,1.0,1090.0,6...|\n",
            "|1200000.0|     5.0|     2.75|       2910|    9480|   1.5|         0|   0|        3|      2910|            0|    1939|        1969|       0.0|      2935.0|[5.0,2.75,2910.0,...|\n",
            "| 242500.0|     3.0|      1.5|       1200|    9720|   1.0|         0|   0|        4|      1200|            0|    1965|           0|       6.0|       865.0|[3.0,1.5,1200.0,9...|\n",
            "| 419000.0|     3.0|      1.5|       1570|    6700|   1.0|         0|   0|        4|      1570|            0|    1956|           0|       2.0|      1115.0|[3.0,1.5,1570.0,6...|\n",
            "| 367500.0|     4.0|      3.0|       3110|    7231|   2.0|         0|   0|        3|      3110|            0|    1997|           0|       7.0|       345.0|[4.0,3.0,3110.0,7...|\n",
            "| 257950.0|     3.0|     1.75|       1370|    5858|   1.0|         0|   0|        3|      1370|            0|    1987|        2000|      17.0|      1202.0|[3.0,1.75,1370.0,...|\n",
            "| 275000.0|     3.0|      1.5|       1180|   10277|   1.0|         0|   0|        3|      1180|            0|    1983|        2009|      18.0|       590.0|[3.0,1.5,1180.0,1...|\n",
            "+---------+--------+---------+-----------+--------+------+----------+----+---------+----------+-------------+--------+------------+----------+------------+--------------------+\n",
            "only showing top 20 rows\n",
            "\n"
          ],
          "name": "stdout"
        }
      ]
    },
    {
      "cell_type": "code",
      "metadata": {
        "colab": {
          "base_uri": "https://localhost:8080/"
        },
        "id": "g2MWbI0jMFn8",
        "outputId": "d3240e0d-4b7f-4a55-9b9b-794461c5c93f"
      },
      "source": [
        "output.select(\"features\").show()"
      ],
      "execution_count": 77,
      "outputs": [
        {
          "output_type": "stream",
          "text": [
            "+--------------------+\n",
            "|            features|\n",
            "+--------------------+\n",
            "|[3.0,1.5,1340.0,7...|\n",
            "|[5.0,2.5,3650.0,9...|\n",
            "|[3.0,2.0,1930.0,1...|\n",
            "|[3.0,2.25,2000.0,...|\n",
            "|[4.0,2.5,1940.0,1...|\n",
            "|[2.0,1.0,880.0,63...|\n",
            "|[2.0,2.0,1350.0,2...|\n",
            "|[4.0,2.5,2710.0,3...|\n",
            "|[3.0,2.5,2430.0,8...|\n",
            "|[4.0,2.0,1520.0,6...|\n",
            "|[3.0,1.75,1710.0,...|\n",
            "|[4.0,2.5,2920.0,4...|\n",
            "|[3.0,1.75,2330.0,...|\n",
            "|[3.0,1.0,1090.0,6...|\n",
            "|[5.0,2.75,2910.0,...|\n",
            "|[3.0,1.5,1200.0,9...|\n",
            "|[3.0,1.5,1570.0,6...|\n",
            "|[4.0,3.0,3110.0,7...|\n",
            "|[3.0,1.75,1370.0,...|\n",
            "|[3.0,1.5,1180.0,1...|\n",
            "+--------------------+\n",
            "only showing top 20 rows\n",
            "\n"
          ],
          "name": "stdout"
        }
      ]
    },
    {
      "cell_type": "code",
      "metadata": {
        "colab": {
          "base_uri": "https://localhost:8080/"
        },
        "id": "sRpvOccCMe1Y",
        "outputId": "146f53bf-ad8d-44cc-c265-39f1b3b27fa8"
      },
      "source": [
        "output.columns"
      ],
      "execution_count": 78,
      "outputs": [
        {
          "output_type": "execute_result",
          "data": {
            "text/plain": [
              "['price',\n",
              " 'bedrooms',\n",
              " 'bathrooms',\n",
              " 'sqft_living',\n",
              " 'sqft_lot',\n",
              " 'floors',\n",
              " 'waterfront',\n",
              " 'view',\n",
              " 'condition',\n",
              " 'sqft_above',\n",
              " 'sqft_basement',\n",
              " 'yr_built',\n",
              " 'yr_renovated',\n",
              " 'city_Index',\n",
              " 'street_Index',\n",
              " 'features']"
            ]
          },
          "metadata": {
            "tags": []
          },
          "execution_count": 78
        }
      ]
    },
    {
      "cell_type": "code",
      "metadata": {
        "id": "zzT5-ObZMQZ6"
      },
      "source": [
        "finalized_data = output.select(\"features\", \"price\")"
      ],
      "execution_count": 79,
      "outputs": []
    },
    {
      "cell_type": "markdown",
      "metadata": {
        "id": "tlCpVCgVRz9o"
      },
      "source": [
        "**Finalized_data contains both the features and label.**"
      ]
    },
    {
      "cell_type": "code",
      "metadata": {
        "colab": {
          "base_uri": "https://localhost:8080/"
        },
        "id": "kWB8HcHBMkWg",
        "outputId": "f155b3db-2b6d-490d-928b-6231adc48949"
      },
      "source": [
        "finalized_data.show()"
      ],
      "execution_count": 80,
      "outputs": [
        {
          "output_type": "stream",
          "text": [
            "+--------------------+---------+\n",
            "|            features|    price|\n",
            "+--------------------+---------+\n",
            "|[3.0,1.5,1340.0,7...| 313000.0|\n",
            "|[5.0,2.5,3650.0,9...|2384000.0|\n",
            "|[3.0,2.0,1930.0,1...| 342000.0|\n",
            "|[3.0,2.25,2000.0,...| 420000.0|\n",
            "|[4.0,2.5,1940.0,1...| 550000.0|\n",
            "|[2.0,1.0,880.0,63...| 490000.0|\n",
            "|[2.0,2.0,1350.0,2...| 335000.0|\n",
            "|[4.0,2.5,2710.0,3...| 482000.0|\n",
            "|[3.0,2.5,2430.0,8...| 452500.0|\n",
            "|[4.0,2.0,1520.0,6...| 640000.0|\n",
            "|[3.0,1.75,1710.0,...| 463000.0|\n",
            "|[4.0,2.5,2920.0,4...|1400000.0|\n",
            "|[3.0,1.75,2330.0,...| 588500.0|\n",
            "|[3.0,1.0,1090.0,6...| 365000.0|\n",
            "|[5.0,2.75,2910.0,...|1200000.0|\n",
            "|[3.0,1.5,1200.0,9...| 242500.0|\n",
            "|[3.0,1.5,1570.0,6...| 419000.0|\n",
            "|[4.0,3.0,3110.0,7...| 367500.0|\n",
            "|[3.0,1.75,1370.0,...| 257950.0|\n",
            "|[3.0,1.5,1180.0,1...| 275000.0|\n",
            "+--------------------+---------+\n",
            "only showing top 20 rows\n",
            "\n"
          ],
          "name": "stdout"
        }
      ]
    },
    {
      "cell_type": "code",
      "metadata": {
        "colab": {
          "base_uri": "https://localhost:8080/"
        },
        "id": "eNZ5EtMo1Ypb",
        "outputId": "2f4dec5d-fec6-45bd-d346-eb0d1d6eebbf"
      },
      "source": [
        "finalized_data.columns"
      ],
      "execution_count": 81,
      "outputs": [
        {
          "output_type": "execute_result",
          "data": {
            "text/plain": [
              "['features', 'price']"
            ]
          },
          "metadata": {
            "tags": []
          },
          "execution_count": 81
        }
      ]
    },
    {
      "cell_type": "markdown",
      "metadata": {
        "id": "RzpJ0yN4R7l0"
      },
      "source": [
        "**Splitting of finalized_data dataset into train and test data in 3:1 ratio.**"
      ]
    },
    {
      "cell_type": "code",
      "metadata": {
        "id": "AcROCsPyM4ad"
      },
      "source": [
        "train_data, test_data = finalized_data.randomSplit([0.75, 0.25], seed = 42)"
      ],
      "execution_count": 82,
      "outputs": []
    },
    {
      "cell_type": "code",
      "metadata": {
        "colab": {
          "base_uri": "https://localhost:8080/"
        },
        "id": "Qi8pR1xWSRkI",
        "outputId": "b4ad5895-8a53-4ece-8f54-accc79ee209b"
      },
      "source": [
        "print(\"This is the Train dataset:- \")\r\n",
        "print(train_data.show())\r\n",
        "\r\n",
        "print(\"This is the Test dataset:- \")\r\n",
        "print(test_data.show())"
      ],
      "execution_count": 93,
      "outputs": [
        {
          "output_type": "stream",
          "text": [
            "This is the Train dataset:- \n",
            "+--------------------+---------+\n",
            "|            features|    price|\n",
            "+--------------------+---------+\n",
            "|[0.0,0.0,3064.0,4...|1095000.0|\n",
            "|[0.0,0.0,4810.0,2...|1295648.0|\n",
            "|[1.0,0.75,380.0,1...| 245000.0|\n",
            "|[1.0,0.75,420.0,6...| 280000.0|\n",
            "|[1.0,0.75,430.0,5...|  80000.0|\n",
            "|[1.0,0.75,820.0,5...| 527550.0|\n",
            "|[1.0,1.0,550.0,12...| 353000.0|\n",
            "|[1.0,1.0,590.0,83...| 202000.0|\n",
            "|[1.0,1.0,620.0,82...| 148000.0|\n",
            "|[1.0,1.0,690.0,19...| 167500.0|\n",
            "|[1.0,1.0,700.0,25...| 295000.0|\n",
            "|[1.0,1.0,700.0,51...| 350000.0|\n",
            "|[1.0,1.0,720.0,48...| 190000.0|\n",
            "|[1.0,1.0,720.0,51...| 335000.0|\n",
            "|[1.0,1.0,730.0,19...| 321500.0|\n",
            "|[1.0,1.0,730.0,30...| 395000.0|\n",
            "|[1.0,1.0,750.0,40...| 250000.0|\n",
            "|[1.0,1.0,800.0,16...| 250000.0|\n",
            "|[1.0,1.0,810.0,24...| 235000.0|\n",
            "|[1.0,1.0,820.0,10...| 194000.0|\n",
            "+--------------------+---------+\n",
            "only showing top 20 rows\n",
            "\n",
            "None\n",
            "This is the Test dataset:- \n",
            "+--------------------+--------+\n",
            "|            features|   price|\n",
            "+--------------------+--------+\n",
            "|[1.0,0.75,370.0,1...|276000.0|\n",
            "|[1.0,0.75,560.0,1...|299000.0|\n",
            "|[1.0,0.75,930.0,2...|190000.0|\n",
            "|[1.0,0.75,1170.0,...|275000.0|\n",
            "|[1.0,1.0,650.0,15...|129000.0|\n",
            "|[1.0,1.0,720.0,60...|     0.0|\n",
            "|[1.0,1.0,790.0,13...|135000.0|\n",
            "|[1.0,1.0,960.0,26...|332000.0|\n",
            "|[1.0,1.0,960.0,40...|420850.0|\n",
            "|[1.0,1.0,1140.0,6...|540000.0|\n",
            "|[1.0,1.5,810.0,32...|285000.0|\n",
            "|[1.0,1.5,1010.0,5...|410000.0|\n",
            "|[2.0,0.75,840.0,4...|528000.0|\n",
            "|[2.0,0.75,1392.0,...|350000.0|\n",
            "|[2.0,0.75,1440.0,...|562100.0|\n",
            "|[2.0,1.0,520.0,22...|160000.0|\n",
            "|[2.0,1.0,590.0,10...|398000.0|\n",
            "|[2.0,1.0,630.0,42...|148000.0|\n",
            "|[2.0,1.0,670.0,63...|279000.0|\n",
            "|[2.0,1.0,700.0,48...|260000.0|\n",
            "+--------------------+--------+\n",
            "only showing top 20 rows\n",
            "\n",
            "None\n"
          ],
          "name": "stdout"
        }
      ]
    },
    {
      "cell_type": "markdown",
      "metadata": {
        "id": "k_NR5UtwSJW4"
      },
      "source": [
        "**Linear regression algorithm was used for prediction.**"
      ]
    },
    {
      "cell_type": "code",
      "metadata": {
        "id": "TsAW35otMnXU"
      },
      "source": [
        "regressor = LinearRegression(featuresCol='features', labelCol='price')\r\n",
        "regressor = regressor.fit(train_data)"
      ],
      "execution_count": 83,
      "outputs": []
    },
    {
      "cell_type": "code",
      "metadata": {
        "colab": {
          "base_uri": "https://localhost:8080/"
        },
        "id": "hBe6Gq92NLUn",
        "outputId": "3785e362-10b5-4cea-8d02-83eff4eeb461"
      },
      "source": [
        "regressor.coefficients"
      ],
      "execution_count": 84,
      "outputs": [
        {
          "output_type": "execute_result",
          "data": {
            "text/plain": [
              "DenseVector([-54738.387, 80462.4082, 1016.692, -0.4755, -5674.3828, 174183.5185, 52338.6537, 34444.9211, -756.2056, -822.3781, -1939.0446, 8.4479, -5408.329, -0.2255])"
            ]
          },
          "metadata": {
            "tags": []
          },
          "execution_count": 84
        }
      ]
    },
    {
      "cell_type": "code",
      "metadata": {
        "colab": {
          "base_uri": "https://localhost:8080/"
        },
        "id": "czcBnGEENPZp",
        "outputId": "8389e591-3879-4170-b2c5-1bf104228e65"
      },
      "source": [
        "regressor.intercept"
      ],
      "execution_count": 85,
      "outputs": [
        {
          "output_type": "execute_result",
          "data": {
            "text/plain": [
              "3766039.7226613276"
            ]
          },
          "metadata": {
            "tags": []
          },
          "execution_count": 85
        }
      ]
    },
    {
      "cell_type": "code",
      "metadata": {
        "id": "b2vQ28IyTJSv"
      },
      "source": [
        ""
      ],
      "execution_count": null,
      "outputs": []
    },
    {
      "cell_type": "markdown",
      "metadata": {
        "id": "0c4dzyhlTBXB"
      },
      "source": [
        "**Evaluation of the test_data using our linear regression model.**"
      ]
    },
    {
      "cell_type": "code",
      "metadata": {
        "id": "s6rtXXMcNRam"
      },
      "source": [
        "pred_results = regressor.evaluate(test_data)"
      ],
      "execution_count": 86,
      "outputs": []
    },
    {
      "cell_type": "code",
      "metadata": {
        "id": "A0FR8LA0TlJ9"
      },
      "source": [
        ""
      ],
      "execution_count": null,
      "outputs": []
    },
    {
      "cell_type": "markdown",
      "metadata": {
        "id": "WSIxexirTY5D"
      },
      "source": [
        "**Price prediction.**"
      ]
    },
    {
      "cell_type": "code",
      "metadata": {
        "colab": {
          "base_uri": "https://localhost:8080/"
        },
        "id": "UfmGCJWJNXSO",
        "outputId": "c04af2b9-cedb-4acf-f45c-966bae23e70e"
      },
      "source": [
        "pred_results.predictions.show()"
      ],
      "execution_count": 87,
      "outputs": [
        {
          "output_type": "stream",
          "text": [
            "+--------------------+--------+-------------------+\n",
            "|            features|   price|         prediction|\n",
            "+--------------------+--------+-------------------+\n",
            "|[1.0,0.75,370.0,1...|276000.0|  304437.9962327592|\n",
            "|[1.0,0.75,560.0,1...|299000.0|  59921.95356263919|\n",
            "|[1.0,0.75,930.0,2...|190000.0|  349893.0134237702|\n",
            "|[1.0,0.75,1170.0,...|275000.0|  265939.7557767574|\n",
            "|[1.0,1.0,650.0,15...|129000.0| 239143.50742289657|\n",
            "|[1.0,1.0,720.0,60...|     0.0| 329107.89825000754|\n",
            "|[1.0,1.0,790.0,13...|135000.0| 339977.58689325117|\n",
            "|[1.0,1.0,960.0,26...|332000.0| 441524.80853667296|\n",
            "|[1.0,1.0,960.0,40...|420850.0| 265977.18040653225|\n",
            "|[1.0,1.0,1140.0,6...|540000.0| 473126.82464962313|\n",
            "|[1.0,1.5,810.0,32...|285000.0|  314652.2213279018|\n",
            "|[1.0,1.5,1010.0,5...|410000.0| 500193.77066104487|\n",
            "|[2.0,0.75,840.0,4...|528000.0|  534516.5518133589|\n",
            "|[2.0,0.75,1392.0,...|350000.0|  228522.0436636093|\n",
            "|[2.0,0.75,1440.0,...|562100.0|   476736.824840344|\n",
            "|[2.0,1.0,520.0,22...|160000.0| 11640.465541466605|\n",
            "|[2.0,1.0,590.0,10...|398000.0|-26875.669972614385|\n",
            "|[2.0,1.0,630.0,42...|148000.0| 270387.93674536655|\n",
            "|[2.0,1.0,670.0,63...|279000.0|  308472.6050048452|\n",
            "|[2.0,1.0,700.0,48...|260000.0| 304621.14905059617|\n",
            "+--------------------+--------+-------------------+\n",
            "only showing top 20 rows\n",
            "\n"
          ],
          "name": "stdout"
        }
      ]
    },
    {
      "cell_type": "code",
      "metadata": {
        "id": "VIW_YyCfTYV2"
      },
      "source": [
        ""
      ],
      "execution_count": null,
      "outputs": []
    },
    {
      "cell_type": "markdown",
      "metadata": {
        "id": "YVcNm5FSTK_k"
      },
      "source": [
        "**Root mean squared error, mean absolute error and R-squared error.**"
      ]
    },
    {
      "cell_type": "code",
      "metadata": {
        "colab": {
          "base_uri": "https://localhost:8080/"
        },
        "id": "qexeO4heNtPZ",
        "outputId": "855cf3a8-d88c-485b-be60-4fdd51837d5a"
      },
      "source": [
        "print(\"RMSE = %s\" % pred_results.rootMeanSquaredError)\r\n",
        "print(\"MAE = \", pred_results.meanAbsoluteError)\r\n",
        "print(\"R-squared = %s\" % pred_results.r2)"
      ],
      "execution_count": 88,
      "outputs": [
        {
          "output_type": "stream",
          "text": [
            "RMSE = 264588.83654159546\n",
            "MAE =  157266.05119796735\n",
            "R-squared = 0.5066408188315306\n"
          ],
          "name": "stdout"
        }
      ]
    },
    {
      "cell_type": "code",
      "metadata": {
        "id": "qRBwAaKHOPC2"
      },
      "source": [
        ""
      ],
      "execution_count": null,
      "outputs": []
    }
  ]
}